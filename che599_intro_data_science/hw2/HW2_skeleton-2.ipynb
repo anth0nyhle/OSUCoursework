{
 "cells": [
  {
   "cell_type": "markdown",
   "metadata": {},
   "source": [
    "# CHE 599: homework 2"
   ]
  },
  {
   "cell_type": "code",
   "execution_count": 1,
   "metadata": {},
   "outputs": [],
   "source": [
    "using CSV # for reading in CSV files as DataFrames\n",
    "using DataFrames\n",
    "using PyPlot # for plotting"
   ]
  },
  {
   "cell_type": "code",
   "execution_count": 2,
   "metadata": {},
   "outputs": [
    {
     "data": {
      "text/plain": [
       "300"
      ]
     },
     "execution_count": 2,
     "metadata": {},
     "output_type": "execute_result"
    }
   ],
   "source": [
    "# (optional) change the style. see styles here: https://matplotlib.org/3.1.1/gallery/style_sheets/style_sheets_reference.html\n",
    "PyPlot.matplotlib.style.use(\"bmh\")                                    \n",
    "                                                                                  \n",
    "# (optional) change settings for all plots at once, e.g. I like larger font size                           \n",
    "rcParams = PyPlot.PyDict(PyPlot.matplotlib.rcParams)                           \n",
    "rcParams[\"font.size\"] = 16\n",
    "\n",
    "# (optional) change the max width of columns of `DataFrame`\n",
    "#  that are displayed in the Juptyer Notebook.\n",
    "ENV[\"COLUMNS\"] = 300 # characters"
   ]
  },
  {
   "cell_type": "markdown",
   "metadata": {},
   "source": [
    "# automobiles\n",
    "\n",
    "<img src=\"https://upload.wikimedia.org/wikipedia/commons/f/f0/Ford_Pinto.jpg\" width=250>\n",
    "\n",
    "(1) read in the CSV file `automobiles.csv` ([source of data](https://archive.ics.uci.edu/ml/datasets/automobile)). the names of the columns are not in the `.csv` file but are described [here](http://mlr.cs.umass.edu/ml/machine-learning-databases/auto-mpg/auto-mpg.names). for your convenience, I made an array of the column names below."
   ]
  },
  {
   "cell_type": "code",
   "execution_count": 3,
   "metadata": {},
   "outputs": [
    {
     "data": {
      "text/plain": [
       "9-element Array{Symbol,1}:\n",
       " :mpg         \n",
       " :cylinders   \n",
       " :displacement\n",
       " :horsepower  \n",
       " :weight      \n",
       " :acceleration\n",
       " :model_year  \n",
       " :origin      \n",
       " :car_name    "
      ]
     },
     "execution_count": 3,
     "metadata": {},
     "output_type": "execute_result"
    }
   ],
   "source": [
    "col_names = [:mpg, :cylinders, :displacement, :horsepower, :weight, :acceleration, :model_year, :origin, :car_name]"
   ]
  },
  {
   "cell_type": "code",
   "execution_count": null,
   "metadata": {
    "scrolled": false
   },
   "outputs": [],
   "source": []
  },
  {
   "cell_type": "markdown",
   "metadata": {},
   "source": [
    "(2) how many automobiles are there in the data set?"
   ]
  },
  {
   "cell_type": "code",
   "execution_count": null,
   "metadata": {},
   "outputs": [],
   "source": []
  },
  {
   "cell_type": "markdown",
   "metadata": {},
   "source": [
    "(3) the `:horsepower` column has a `?` associated with it in the display, indicating that it has `missing `values. how many automobiles are missing information about their horsepower?"
   ]
  },
  {
   "cell_type": "code",
   "execution_count": null,
   "metadata": {},
   "outputs": [],
   "source": []
  },
  {
   "cell_type": "markdown",
   "metadata": {},
   "source": [
    "(4) drop the rows from the `DataFrame` that contain a `missing` attribute"
   ]
  },
  {
   "cell_type": "code",
   "execution_count": null,
   "metadata": {},
   "outputs": [],
   "source": []
  },
  {
   "cell_type": "markdown",
   "metadata": {},
   "source": [
    "(5) make a scatter plot of the data such that:\n",
    "\n",
    "* each point represents an automobile\n",
    "* x-axis is horsepower\n",
    "* y-axis is mpg (miles per gallon)\n",
    "* color of point is used to illustrate acceleration\n",
    "* a colorbar shows how the scale is depicted\n",
    "* the colorbar, x-axis, and y-axis are labeled."
   ]
  },
  {
   "cell_type": "code",
   "execution_count": null,
   "metadata": {},
   "outputs": [],
   "source": []
  },
  {
   "cell_type": "markdown",
   "metadata": {},
   "source": [
    "(6) remove from the `DataFrame` all automobiles that are not Fords. All Ford automobiles contain the string \"ford\" in the `:car_name` column. the function `occursin` will be useful here.\n",
    "\n",
    "```julia\n",
    "occursin(\"ford\", \"i love ford pintos\") # true\n",
    "occursin(\"ford\", \"i love subarus\") # false\n",
    "```"
   ]
  },
  {
   "cell_type": "code",
   "execution_count": null,
   "metadata": {
    "scrolled": true
   },
   "outputs": [],
   "source": []
  },
  {
   "cell_type": "markdown",
   "metadata": {},
   "source": [
    "(7) of the Ford automobiles, how many unique numbers of cylinders are there?"
   ]
  },
  {
   "cell_type": "code",
   "execution_count": null,
   "metadata": {},
   "outputs": [],
   "source": []
  },
  {
   "cell_type": "markdown",
   "metadata": {},
   "source": [
    "(8) make a scatter plot for all Ford automobiles such that:\n",
    "\n",
    "* each point represents an automobile\n",
    "* x-axis is horsepower\n",
    "* y-axis is mpg (miles per gallon)\n",
    "* x-axis, and y-axis are labeled.\n",
    "* title is \"Fords\"\n",
    "* automobiles with different numbers of cylinders are depicted by different markers and different colors, and automobiles with the same number of cylinders share the same marker and color. for example:\n",
    "    * 4 cylinders, use `marker=\"o\"` and `color=\"C0\"`\n",
    "    * 6 cylinders, use `marker=\"s\"` and `color=\"C1\"`\n",
    "    * 8 cylinders, use `marker=\"+\"` and `color=\"C2\"`\n",
    "    I suggest a `Dict` to map the number of cylinders to a marker.\n",
    "* a legend depicts the symbol and color for each number of cylinders"
   ]
  },
  {
   "cell_type": "code",
   "execution_count": null,
   "metadata": {},
   "outputs": [],
   "source": []
  },
  {
   "cell_type": "code",
   "execution_count": null,
   "metadata": {},
   "outputs": [],
   "source": []
  },
  {
   "cell_type": "markdown",
   "metadata": {},
   "source": [
    "# ramen\n",
    "\n",
    "\n",
    "<img src=\"https://upload.wikimedia.org/wikipedia/commons/f/fc/Soy_ramen.jpg\" width=200>\n",
    "\n",
    "see `ramen-ratings.csv`.\n",
    "\n",
    "> \"The Ramen Rater is a product review website for the hardcore ramen enthusiast, with over 2500 reviews to date. Each record in the dataset is a single ramen product review. Review numbers are contiguous: more recently reviewed ramen varieties have higher numbers. Brand, Variety (the product name), Country, and Style (Cup? Bowl? Tray?) are pretty self-explanatory. Stars indicate the ramen quality, as assessed by the reviewer, on a 5-point scale; this is the most important column in the dataset!\"\n",
    "\n",
    "The `:top_ten` ramen attribute is `missing` if the ramen never placed in the top ten; if it is not `missing`, the `:top_ten` attribute gives us the year it placed in the top ten and its place.\n",
    "\n",
    "source: [Kaggle](https://www.kaggle.com/residentmario/ramen-ratings/data)\n",
    "\n",
    "(1) read in `ramen-ratings.csv` as a `DataFrame`, `df`. display only the first six rows."
   ]
  },
  {
   "cell_type": "code",
   "execution_count": null,
   "metadata": {},
   "outputs": [],
   "source": [
    "df = # ..."
   ]
  },
  {
   "cell_type": "markdown",
   "metadata": {},
   "source": [
    "(2) how many ratings are in the data set?"
   ]
  },
  {
   "cell_type": "code",
   "execution_count": null,
   "metadata": {},
   "outputs": [],
   "source": []
  },
  {
   "cell_type": "markdown",
   "metadata": {},
   "source": [
    "(3) oddly, the `:stars` column appears as an array of `String`s!\n",
    "\n",
    "This is because `\"Unrated\"` appears as the `:stars` attribute in a few rows and prevents `CSV.jl` from reading in the `:stars` column as all `Float64`s.\n",
    "\n",
    "`filter!` out the rows of the `DataFrame` that have `\"Unrated\"` as the `:stars` attribute."
   ]
  },
  {
   "cell_type": "code",
   "execution_count": null,
   "metadata": {},
   "outputs": [],
   "source": []
  },
  {
   "cell_type": "markdown",
   "metadata": {},
   "source": [
    "(4) the `:stars` column still appears as `String`s. Convert it to `Float64`s by using `parse`, which works as follows:\n",
    "\n",
    "```julia\n",
    "parse(Float64, \"3.76\") # get 3.76 as a Float64\n",
    "```\n",
    "\n",
    "You can do this to the entire column vector by preceding with `.`:\n",
    "\n",
    "```julia\n",
    "df[!, :stars] = parse.(Float64, df[:, :stars])\n",
    "```"
   ]
  },
  {
   "cell_type": "code",
   "execution_count": null,
   "metadata": {},
   "outputs": [],
   "source": []
  },
  {
   "cell_type": "markdown",
   "metadata": {},
   "source": [
    "(5) What is the highest rated variety of ramen that satisfies the following attributes: \n",
    "* \"Nissin\" brand\n",
    "* mentions \"Beef\" in the variety\n",
    "* \"Pack\" style"
   ]
  },
  {
   "cell_type": "code",
   "execution_count": null,
   "metadata": {},
   "outputs": [],
   "source": []
  },
  {
   "cell_type": "markdown",
   "metadata": {},
   "source": [
    "(6) ramen from how many different countries is rated?"
   ]
  },
  {
   "cell_type": "code",
   "execution_count": null,
   "metadata": {},
   "outputs": [],
   "source": []
  },
  {
   "cell_type": "markdown",
   "metadata": {},
   "source": [
    "(7) use `by` to:\n",
    "* split the `DataFrame` into groups, partitioned by `:country`\n",
    "* apply a function to a column that counts the number of rows\n",
    "* combine the result into one `DataFrame` with a new column `:nb_ratings`\n",
    "\n",
    "i.e., use `by` to create a new `DataFrame`, `df_by_country`:\n",
    "\n",
    "```\n",
    ":country :nb_ratings\n",
    "Japan    352\n",
    "USA      324\n",
    "...\n",
    "```\n",
    "\n",
    "You should indeed see that 352 ramens from Japan were rated and 324 ramens from the USA were rated."
   ]
  },
  {
   "cell_type": "code",
   "execution_count": null,
   "metadata": {},
   "outputs": [],
   "source": []
  },
  {
   "cell_type": "markdown",
   "metadata": {},
   "source": [
    "(8) `sort!` the rows in `df_by_country` from (6) by the number of ratings for ramens from that country *from most to least*"
   ]
  },
  {
   "cell_type": "code",
   "execution_count": null,
   "metadata": {},
   "outputs": [],
   "source": []
  },
  {
   "cell_type": "markdown",
   "metadata": {},
   "source": [
    "(9) using `df_by_country`, construct a bar plot depicting the number of ratings of ramen from each country:\n",
    "* one bar for each country\n",
    "* height of the bar is the number of ratings ramen from that country received\n",
    "* the countries appear on the bar plot in order of the number of ratings received\n",
    "* replace numeric x-tick labels on the bar plot with the name of each country. to see the labels, you will need to make the labels run vertically via passing `rotation=90` to `xticks()`"
   ]
  },
  {
   "cell_type": "code",
   "execution_count": null,
   "metadata": {},
   "outputs": [],
   "source": []
  },
  {
   "cell_type": "markdown",
   "metadata": {},
   "source": [
    "(10) now let's see where the top ten ramens tend to come from.\n",
    "create a new `DataFrame`, `df_top_ten`, by dropping all rows that have a `missing` value in `:top_ten`. (we're no longer using our `df_by_country` from above) the `filter` function will be useful."
   ]
  },
  {
   "cell_type": "code",
   "execution_count": null,
   "metadata": {},
   "outputs": [],
   "source": []
  },
  {
   "cell_type": "markdown",
   "metadata": {},
   "source": [
    "(11) use `by` to count the number of top ten ramens from each country and make a bar plot showing where the top ten ramens come from. this is just like in (8), except for top ten ramens only. to distinguish from the bar plot in (8):\n",
    "* use a different color for the bars\n",
    "* put a title on the plot \"top ten ramens\" "
   ]
  },
  {
   "cell_type": "code",
   "execution_count": null,
   "metadata": {},
   "outputs": [],
   "source": []
  },
  {
   "cell_type": "markdown",
   "metadata": {},
   "source": [
    "(12) Singapore, Japan, Malaysia, and South Korea have a lot of ramens in the top ten. let's compare the ratings that ramen from these four countries received. first, `filter!` out of the ratings `DataFrame`, `df` (with all of the ramens, even if not in the top ten), all ramens that are not from these four countries."
   ]
  },
  {
   "cell_type": "code",
   "execution_count": null,
   "metadata": {},
   "outputs": [],
   "source": []
  },
  {
   "cell_type": "markdown",
   "metadata": {},
   "source": [
    "(13) use `groupby` to group your `filter`'d `DataFrame` from question (12) by country, loop through the (four) groups (of countries), and plot histograms of the ratings for ramen from each country on the same plot with four panels that have a shared x- and y-axis. I included some skeleton code below. See `subplots` [here](https://matplotlib.org/3.1.1/gallery/statistics/hist.html)."
   ]
  },
  {
   "cell_type": "code",
   "execution_count": 6,
   "metadata": {},
   "outputs": [
    {
     "data": {
      "image/png": "[encoded data removed]",
      "text/plain": [
       "Figure(PyObject <Figure size 1000x800 with 4 Axes>)"
      ]
     },
     "metadata": {},
     "output_type": "display_data"
    },
    {
     "data": {
      "text/plain": [
       "PyObject Text(0.5, 28.0, 'my xlabel')"
      ]
     },
     "execution_count": 6,
     "metadata": {},
     "output_type": "execute_result"
    }
   ],
   "source": [
    "# pre-specify bins for each plot\n",
    "bins = range(0.0, 5.0, length=11)\n",
    "\n",
    "fig, axs = subplots(4, 1, figsize=(10, 8), \n",
    "                    sharex=true, sharey=true, tight_layout=true)\n",
    "for i = 1:4\n",
    "    axs[i].hist(5 * rand(30), color=\"C$i\", bins=bins, normed=true)\n",
    "    axs[i].set_title(\"title $i\")\n",
    "    axs[i].set_ylabel(\"shared y\")\n",
    "end\n",
    "xlabel(\"my xlabel\")"
   ]
  }
 ],
 "metadata": {
  "@webio": {
   "lastCommId": null,
   "lastKernelId": null
  },
  "kernelspec": {
   "display_name": "Julia 1.2.0",
   "language": "julia",
   "name": "julia-1.2"
  },
  "language_info": {
   "file_extension": ".jl",
   "mimetype": "application/julia",
   "name": "julia",
   "version": "1.2.0"
  }
 },
 "nbformat": 4,
 "nbformat_minor": 2
}
