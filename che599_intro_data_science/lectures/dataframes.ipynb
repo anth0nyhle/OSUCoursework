{
 "cells": [
  {
   "cell_type": "markdown",
   "metadata": {},
   "source": [
    "## Construct a DataFrame"
   ]
  },
  {
   "cell_type": "code",
   "execution_count": 1,
   "metadata": {},
   "outputs": [
    {
     "data": {
      "text/html": [
       "<table class=\"data-frame\"><thead><tr><th></th><th>city</th><th>pop</th></tr><tr><th></th><th>String</th><th>Int64</th></tr></thead><tbody><p>3 rows × 2 columns</p><tr><th>1</th><td>Corvallis</td><td>57961</td></tr><tr><th>2</th><td>Portland</td><td>647805</td></tr><tr><th>3</th><td>Eugene</td><td>168916</td></tr></tbody></table>"
      ],
      "text/latex": [
       "\\begin{tabular}{r|cc}\n",
       "\t& city & pop\\\\\n",
       "\t\\hline\n",
       "\t& String & Int64\\\\\n",
       "\t\\hline\n",
       "\t1 & Corvallis & 57961 \\\\\n",
       "\t2 & Portland & 647805 \\\\\n",
       "\t3 & Eugene & 168916 \\\\\n",
       "\\end{tabular}\n"
      ],
      "text/plain": [
       "3×2 DataFrame\n",
       "│ Row │ city      │ pop    │\n",
       "│     │ \u001b[90mString\u001b[39m    │ \u001b[90mInt64\u001b[39m  │\n",
       "├─────┼───────────┼────────┤\n",
       "│ 1   │ Corvallis │ 57961  │\n",
       "│ 2   │ Portland  │ 647805 │\n",
       "│ 3   │ Eugene    │ 168916 │"
      ]
     },
     "execution_count": 1,
     "metadata": {},
     "output_type": "execute_result"
    }
   ],
   "source": [
    "using DataFrames\n",
    "city = [\"Corvallis\", \"Portland\", \"Eugene\"]\n",
    "pop = [57961, 647805, 168916]\n",
    "\n",
    "df_cities = DataFrame(city=city, pop=pop) # cols are symbols\n",
    "df_cities"
   ]
  },
  {
   "cell_type": "code",
   "execution_count": 2,
   "metadata": {},
   "outputs": [
    {
     "data": {
      "text/html": [
       "<table class=\"data-frame\"><thead><tr><th></th><th>city</th><th>pop</th></tr><tr><th></th><th>String</th><th>Int64</th></tr></thead><tbody><p>4 rows × 2 columns</p><tr><th>1</th><td>Corvallis</td><td>57961</td></tr><tr><th>2</th><td>Portland</td><td>647805</td></tr><tr><th>3</th><td>Eugene</td><td>168916</td></tr><tr><th>4</th><td>Bend</td><td>94520</td></tr></tbody></table>"
      ],
      "text/latex": [
       "\\begin{tabular}{r|cc}\n",
       "\t& city & pop\\\\\n",
       "\t\\hline\n",
       "\t& String & Int64\\\\\n",
       "\t\\hline\n",
       "\t1 & Corvallis & 57961 \\\\\n",
       "\t2 & Portland & 647805 \\\\\n",
       "\t3 & Eugene & 168916 \\\\\n",
       "\t4 & Bend & 94520 \\\\\n",
       "\\end{tabular}\n"
      ],
      "text/plain": [
       "4×2 DataFrame\n",
       "│ Row │ city      │ pop    │\n",
       "│     │ \u001b[90mString\u001b[39m    │ \u001b[90mInt64\u001b[39m  │\n",
       "├─────┼───────────┼────────┤\n",
       "│ 1   │ Corvallis │ 57961  │\n",
       "│ 2   │ Portland  │ 647805 │\n",
       "│ 3   │ Eugene    │ 168916 │\n",
       "│ 4   │ Bend      │ 94520  │"
      ]
     },
     "execution_count": 2,
     "metadata": {},
     "output_type": "execute_result"
    }
   ],
   "source": [
    "push!(df_cities, [\"Bend\", 94520])\n",
    "df_cities"
   ]
  },
  {
   "cell_type": "markdown",
   "metadata": {},
   "source": [
    "### Retreive a column"
   ]
  },
  {
   "cell_type": "code",
   "execution_count": 3,
   "metadata": {},
   "outputs": [
    {
     "data": {
      "text/plain": [
       "4-element Array{Int64,1}:\n",
       "  57961\n",
       " 647805\n",
       " 168916\n",
       "  94520"
      ]
     },
     "execution_count": 3,
     "metadata": {},
     "output_type": "execute_result"
    }
   ],
   "source": [
    "df_cities.pop"
   ]
  },
  {
   "cell_type": "markdown",
   "metadata": {},
   "source": [
    "### Add Columns"
   ]
  },
  {
   "cell_type": "code",
   "execution_count": 4,
   "metadata": {},
   "outputs": [
    {
     "data": {
      "text/html": [
       "<table class=\"data-frame\"><thead><tr><th></th><th>city</th><th>pop</th><th>state</th></tr><tr><th></th><th>String</th><th>Int64</th><th>String</th></tr></thead><tbody><p>4 rows × 3 columns</p><tr><th>1</th><td>Corvallis</td><td>57961</td><td>OR</td></tr><tr><th>2</th><td>Portland</td><td>647805</td><td>OR</td></tr><tr><th>3</th><td>Eugene</td><td>168916</td><td>OR</td></tr><tr><th>4</th><td>Bend</td><td>94520</td><td>OR</td></tr></tbody></table>"
      ],
      "text/latex": [
       "\\begin{tabular}{r|ccc}\n",
       "\t& city & pop & state\\\\\n",
       "\t\\hline\n",
       "\t& String & Int64 & String\\\\\n",
       "\t\\hline\n",
       "\t1 & Corvallis & 57961 & OR \\\\\n",
       "\t2 & Portland & 647805 & OR \\\\\n",
       "\t3 & Eugene & 168916 & OR \\\\\n",
       "\t4 & Bend & 94520 & OR \\\\\n",
       "\\end{tabular}\n"
      ],
      "text/plain": [
       "4×3 DataFrame\n",
       "│ Row │ city      │ pop    │ state  │\n",
       "│     │ \u001b[90mString\u001b[39m    │ \u001b[90mInt64\u001b[39m  │ \u001b[90mString\u001b[39m │\n",
       "├─────┼───────────┼────────┼────────┤\n",
       "│ 1   │ Corvallis │ 57961  │ OR     │\n",
       "│ 2   │ Portland  │ 647805 │ OR     │\n",
       "│ 3   │ Eugene    │ 168916 │ OR     │\n",
       "│ 4   │ Bend      │ 94520  │ OR     │"
      ]
     },
     "execution_count": 4,
     "metadata": {},
     "output_type": "execute_result"
    }
   ],
   "source": [
    "df_cities[!, :state] = [\"OR\", \"OR\", \"OR\", \"OR\"] # ! = all rows\n",
    "df_cities"
   ]
  },
  {
   "cell_type": "code",
   "execution_count": 5,
   "metadata": {},
   "outputs": [
    {
     "data": {
      "text/plain": [
       "(4, 3)"
      ]
     },
     "execution_count": 5,
     "metadata": {},
     "output_type": "execute_result"
    }
   ],
   "source": [
    "size(df_cities)"
   ]
  },
  {
   "cell_type": "markdown",
   "metadata": {},
   "source": [
    "### Delete row"
   ]
  },
  {
   "cell_type": "code",
   "execution_count": 6,
   "metadata": {},
   "outputs": [
    {
     "data": {
      "text/html": [
       "<table class=\"data-frame\"><thead><tr><th></th><th>city</th><th>pop</th><th>state</th></tr><tr><th></th><th>String</th><th>Int64</th><th>String</th></tr></thead><tbody><p>3 rows × 3 columns</p><tr><th>1</th><td>Corvallis</td><td>57961</td><td>OR</td></tr><tr><th>2</th><td>Portland</td><td>647805</td><td>OR</td></tr><tr><th>3</th><td>Bend</td><td>94520</td><td>OR</td></tr></tbody></table>"
      ],
      "text/latex": [
       "\\begin{tabular}{r|ccc}\n",
       "\t& city & pop & state\\\\\n",
       "\t\\hline\n",
       "\t& String & Int64 & String\\\\\n",
       "\t\\hline\n",
       "\t1 & Corvallis & 57961 & OR \\\\\n",
       "\t2 & Portland & 647805 & OR \\\\\n",
       "\t3 & Bend & 94520 & OR \\\\\n",
       "\\end{tabular}\n"
      ],
      "text/plain": [
       "3×3 DataFrame\n",
       "│ Row │ city      │ pop    │ state  │\n",
       "│     │ \u001b[90mString\u001b[39m    │ \u001b[90mInt64\u001b[39m  │ \u001b[90mString\u001b[39m │\n",
       "├─────┼───────────┼────────┼────────┤\n",
       "│ 1   │ Corvallis │ 57961  │ OR     │\n",
       "│ 2   │ Portland  │ 647805 │ OR     │\n",
       "│ 3   │ Bend      │ 94520  │ OR     │"
      ]
     },
     "execution_count": 6,
     "metadata": {},
     "output_type": "execute_result"
    }
   ],
   "source": [
    "deleterows!(df_cities, 3)\n",
    "df_cities"
   ]
  },
  {
   "cell_type": "markdown",
   "metadata": {},
   "source": [
    "## Iterate through the rows of a data frame"
   ]
  },
  {
   "cell_type": "code",
   "execution_count": 7,
   "metadata": {},
   "outputs": [
    {
     "name": "stdout",
     "output_type": "stream",
     "text": [
      "city = Corvallis\n",
      "\tpop = 57961\n",
      "\tstate = OR\n",
      "city = Portland\n",
      "\tpop = 647805\n",
      "\tstate = OR\n",
      "city = Bend\n",
      "\tpop = 94520\n",
      "\tstate = OR\n"
     ]
    }
   ],
   "source": [
    "for row in eachrow(df_cities)\n",
    "    # row is like a dictionary\n",
    "    println(\"city = \", row[:city])\n",
    "    println(\"\\tpop = \", row[:pop])\n",
    "    println(\"\\tstate = \", row[:state])\n",
    "end"
   ]
  },
  {
   "cell_type": "code",
   "execution_count": null,
   "metadata": {},
   "outputs": [],
   "source": []
  }
 ],
 "metadata": {
  "kernelspec": {
   "display_name": "Julia 1.2.0",
   "language": "julia",
   "name": "julia-1.2"
  },
  "language_info": {
   "file_extension": ".jl",
   "mimetype": "application/julia",
   "name": "julia",
   "version": "1.2.0"
  },
  "toc": {
   "base_numbering": 1,
   "nav_menu": {},
   "number_sections": false,
   "sideBar": true,
   "skip_h1_title": false,
   "title_cell": "Table of Contents",
   "title_sidebar": "Contents",
   "toc_cell": false,
   "toc_position": {},
   "toc_section_display": true,
   "toc_window_display": false
  }
 },
 "nbformat": 4,
 "nbformat_minor": 2
}
