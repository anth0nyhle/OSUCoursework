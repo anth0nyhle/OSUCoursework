{
 "cells": [
  {
   "cell_type": "markdown",
   "metadata": {},
   "source": [
    "# the German tank problem\n",
    "\n",
    "the Germans have a population of $n$ tanks labeled with serial numbers $1,2,...,n$ on the tanks. The number of tanks $n$ is unknown and of interest to the Allied forces. The Allied forces randomly capture $k$ tanks from the Germans with replacement and observe their serial numbers $\\{x_1, x_2, ..., x_k\\}$. The goal is to, from observing the serial numbers on this random sample of the tanks, estimate $n$.\n",
    "\n",
    "the *estimator* of $n$ maps an outcome of the experiment to an estimate of $n$, $\\hat{n}$."
   ]
  },
  {
   "cell_type": "code",
   "execution_count": 1,
   "metadata": {},
   "outputs": [
    {
     "data": {
      "text/plain": [
       "16"
      ]
     },
     "execution_count": 1,
     "metadata": {},
     "output_type": "execute_result"
    }
   ],
   "source": [
    "using StatsBase\n",
    "using PyPlot\n",
    "using Statistics\n",
    "using Printf\n",
    "\n",
    "PyPlot.matplotlib.style.use(\"seaborn-pastel\")\n",
    "\n",
    "rcParams = PyPlot.PyDict(PyPlot.matplotlib.\"rcParams\")\n",
    "rcParams[\"font.size\"] = 16"
   ]
  },
  {
   "cell_type": "markdown",
   "metadata": {},
   "source": [
    "## data structure for a tank\n",
    "\n",
    "for elegance"
   ]
  },
  {
   "cell_type": "code",
   "execution_count": null,
   "metadata": {},
   "outputs": [],
   "source": []
  },
  {
   "cell_type": "markdown",
   "metadata": {},
   "source": [
    "## visualizing the captured tanks and their serial numbers"
   ]
  },
  {
   "cell_type": "code",
   "execution_count": 2,
   "metadata": {},
   "outputs": [],
   "source": [
    "function viz_tanks(tanks::Array{Tank}, savename=nothing)\n",
    "    nb_tanks = length(tanks)\n",
    "    \n",
    "    img = PyPlot.matplotlib.image.imread(\"tank.png\")\n",
    "\n",
    "    fig, ax = subplots(1, nb_tanks)\n",
    "    for (t, tank) in enumerate(tanks)\n",
    "        ax[t].imshow(img)\n",
    "        ax[t].set_title(tank.serial_no)\n",
    "        ax[t].axis(\"off\")\n",
    "    end\n",
    "    tight_layout()\n",
    "    \n",
    "    if ! isnothing(savename)\n",
    "        savefig(savename * \".png\", format=\"png\", dpi=300)\n",
    "        # Linux command line tool to trim white space\n",
    "        run(`convert $savename.png -trim $savename.png`)\n",
    "    end\n",
    "end"
   ]
  },
  {
   "cell_type": "markdown",
   "metadata": {},
   "source": [
    "## simulating tank capture\n",
    "\n",
    "write a function `capture_tanks` to simulate the random sampling of `nb_tanks_captured` tanks from all `nb_tanks` tanks the Germans have (without replacement). return a random sample of tanks."
   ]
  },
  {
   "cell_type": "code",
   "execution_count": null,
   "metadata": {},
   "outputs": [],
   "source": []
  },
  {
   "cell_type": "markdown",
   "metadata": {},
   "source": [
    "## defining different estimators\n",
    "\n",
    "an estimator maps an outcome $\\{x_1, x_2, ..., x_k\\}$ to an estimate for $n$, $\\hat{n}$."
   ]
  },
  {
   "cell_type": "markdown",
   "metadata": {},
   "source": [
    "### estimator (1): maximum serial number\n",
    "\n",
    "this is the maximum likelihood estimator.\n",
    "\n",
    "\\begin{equation}\n",
    "\\hat{n} = \\max_i x_i\n",
    "\\end{equation}"
   ]
  },
  {
   "cell_type": "code",
   "execution_count": null,
   "metadata": {},
   "outputs": [],
   "source": []
  },
  {
   "cell_type": "markdown",
   "metadata": {},
   "source": [
    "### estimator (2): maximum serial number plus initial gap\n",
    "\n",
    "\\begin{equation}\n",
    "\\hat{n} = \\max_i x_i + \\bigl(\\min_i x_i -1\\bigr)\n",
    "\\end{equation}"
   ]
  },
  {
   "cell_type": "code",
   "execution_count": null,
   "metadata": {},
   "outputs": [],
   "source": []
  },
  {
   "cell_type": "markdown",
   "metadata": {},
   "source": [
    "### estimator (3): maximum serial number plus gap if samples are evenly spaced\n",
    "\n",
    "\\begin{equation}\n",
    "\\hat{n} = \\max_i x_i + \\bigl( \\max_i x_i / k -1 \\bigr)\n",
    "\\end{equation}"
   ]
  },
  {
   "cell_type": "code",
   "execution_count": null,
   "metadata": {},
   "outputs": [],
   "source": []
  },
  {
   "cell_type": "markdown",
   "metadata": {},
   "source": [
    "## assessing the bias and variance of different estimators\n",
    "\n",
    "say the Germans have `nb_tanks` tanks, and we randomly capture `nb_tanks_captured`. what is the distribution of the estimators (over different outcomes of this random experiment), and how does the distribution compare to the true `nb_tanks`?"
   ]
  },
  {
   "cell_type": "code",
   "execution_count": null,
   "metadata": {},
   "outputs": [],
   "source": []
  },
  {
   "cell_type": "code",
   "execution_count": null,
   "metadata": {},
   "outputs": [],
   "source": []
  },
  {
   "cell_type": "code",
   "execution_count": null,
   "metadata": {},
   "outputs": [],
   "source": []
  },
  {
   "cell_type": "markdown",
   "metadata": {},
   "source": [
    "notes:"
   ]
  },
  {
   "cell_type": "markdown",
   "metadata": {},
   "source": [
    "## what happens as we capture more and more tanks, i.e. increase $k$?\n",
    "\n",
    "assess estimator (3)."
   ]
  },
  {
   "cell_type": "code",
   "execution_count": null,
   "metadata": {},
   "outputs": [],
   "source": []
  },
  {
   "cell_type": "markdown",
   "metadata": {},
   "source": [
    "## one-sided confidence interval"
   ]
  },
  {
   "cell_type": "markdown",
   "metadata": {},
   "source": [
    "how confident are we that the Germans don't have *more* tanks?\n",
    "\n",
    "significance level: $\\alpha$\n",
    "\n",
    "test statistic = estimator (3) = $\\hat{n} = \\max_i x_i + \\bigl( \\max_i x_i / k -1 \\bigr)$\n",
    "\n",
    "**null hypothesis**: the number of tanks is $n=n_0$<br>\n",
    "**alternative hypothesis**: the number of tanks is less than $n_0$\n",
    "\n",
    "we reject the null hypothesis (say, \"the data does not support the null hypothesis\") that the number of tanks is $n=n_0$ if the p-value is less than $\\alpha$. the p-value is the probability that, if the null hypothesis is true, we get a test statistic equal to or smaller than we observed.\n",
    "\n",
    "we want to find the highest $n_0$ such that we have statistical power to reject the null hypothesis in favor of the alternative hypothesis. this is the upper bound on the confidence interval!\n",
    "\n",
    "then the idea is that, if the null hypothesis is that the number of tanks is absurdly large compared to the largest serial number we saw in our sample, it would be very unlikely that we would see such small serial numbers compared to the number of tanks, so we'd reject the null hypothesis. "
   ]
  },
  {
   "cell_type": "code",
   "execution_count": null,
   "metadata": {},
   "outputs": [],
   "source": []
  },
  {
   "cell_type": "markdown",
   "metadata": {},
   "source": [
    "say $\\alpha=0.05$ and we seek a 95% one-sided confidence interval"
   ]
  },
  {
   "cell_type": "code",
   "execution_count": null,
   "metadata": {
    "scrolled": false
   },
   "outputs": [],
   "source": []
  },
  {
   "cell_type": "code",
   "execution_count": null,
   "metadata": {},
   "outputs": [],
   "source": []
  }
 ],
 "metadata": {
  "@webio": {
   "lastCommId": null,
   "lastKernelId": null
  },
  "kernelspec": {
   "display_name": "Julia 1.2.0",
   "language": "julia",
   "name": "julia-1.2"
  },
  "language_info": {
   "file_extension": ".jl",
   "mimetype": "application/julia",
   "name": "julia",
   "version": "1.2.0"
  }
 },
 "nbformat": 4,
 "nbformat_minor": 2
}
