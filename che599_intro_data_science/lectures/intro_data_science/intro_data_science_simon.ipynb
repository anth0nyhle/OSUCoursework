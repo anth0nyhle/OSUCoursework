{
 "cells": [
  {
   "cell_type": "code",
   "execution_count": 1,
   "metadata": {
    "slideshow": {
     "slide_type": "skip"
    }
   },
   "outputs": [
    {
     "data": {
      "text/plain": [
       "1000"
      ]
     },
     "execution_count": 1,
     "metadata": {},
     "output_type": "execute_result"
    }
   ],
   "source": [
    "using CSV\n",
    "using PyPlot\n",
    "using Statistics\n",
    "\n",
    "ENV[\"COLUMNS\"] = 1000 # change number of columns dispalyed"
   ]
  },
  {
   "cell_type": "markdown",
   "metadata": {
    "slideshow": {
     "slide_type": "slide"
    }
   },
   "source": [
    "# CHE 599: Introduction to Data Science for Engineers\n",
    "\n",
    "Fall 2019, MWF 10am-10:50am in Owen Hall 106\n",
    "\n",
    "Instructor: Cory Simon [[simonensemble.github.io](https://simonensemble.github.io/)]\n",
    "\n",
    "\n",
    "> \"We are drowning in information but starved for knowledge.\" -John Naisbitt"
   ]
  },
  {
   "cell_type": "markdown",
   "metadata": {
    "slideshow": {
     "slide_type": "slide"
    }
   },
   "source": [
    "> \"The ability to take data — to be able to understand it, to process it, to extract value from it, to visualize it, to communicate it — that’s going to be a hugely important skill in the next decades.\" - Hal Varian, chief economist at Google and UC Berkeley professor of information sciences, business, and economics [source](https://datascience.berkeley.edu/about/what-is-data-science/)"
   ]
  },
  {
   "cell_type": "markdown",
   "metadata": {
    "slideshow": {
     "slide_type": "subslide"
    }
   },
   "source": [
    "<center><img src=\"glassdoor.png\" alt=\"Glassdoor job ranking\" width=800px></center>"
   ]
  },
  {
   "cell_type": "markdown",
   "metadata": {
    "slideshow": {
     "slide_type": "subslide"
    }
   },
   "source": [
    "<center><img src=\"hbr.png\" alt=\"Glassdoor job ranking\" width=800px></center>"
   ]
  },
  {
   "cell_type": "markdown",
   "metadata": {
    "slideshow": {
     "slide_type": "subslide"
    }
   },
   "source": [
    "... I'm an engineer, and I don't want to become a data scientist!\n",
    "\n",
    "* Data science will play an increasingly important role in the chemical engineering discipline.\n",
    "\n",
    "See [\"Data Science for Chemical Engineers\"](https://www.aiche.org/resources/publications/cep/2017/february/data-science-chemical-engineers) in AIChE's magazine.\n",
    "\n",
    "<center><img src=\"uw_data_science_option.png\" alt=\"Glassdoor job ranking\" width=500px></center>\n",
    "\n",
    "* In our research, most of us will collect data from which we aim to extract useful insights, infer, and predict."
   ]
  },
  {
   "cell_type": "markdown",
   "metadata": {
    "slideshow": {
     "slide_type": "slide"
    }
   },
   "source": [
    "# What is data science?\n",
    "\n",
    "\"Data Science is about drawing useful conclusions from large and diverse data sets through exploration, prediction, and inference.\" [source](https://www.inferentialthinking.com/chapters/01/what-is-data-science.html)"
   ]
  },
  {
   "cell_type": "markdown",
   "metadata": {
    "slideshow": {
     "slide_type": "subslide"
    }
   },
   "source": [
    "## exploration\n",
    "\n",
    "identifying patterns in data, summarizing data, and communicating data (descritive statistics, data visualization)"
   ]
  },
  {
   "cell_type": "code",
   "execution_count": 66,
   "metadata": {
    "slideshow": {
     "slide_type": "fragment"
    }
   },
   "outputs": [
    {
     "data": {
      "text/html": [
       "<table class=\"data-frame\"><thead><tr><th></th><th>wine_class</th><th>alcohol</th><th>malic_acid</th><th>ash</th><th>alcalinity_of_ash</th><th>magnesium</th><th>total_phenols</th><th>flavanoids</th><th>nonflavanoid_phenols</th><th>proanthocyanins</th><th>color_intensity</th><th>hue</th><th>OD280_to_OD315_of_diluted_wines</th><th>proline</th></tr><tr><th></th><th>Int64</th><th>Float64</th><th>Float64</th><th>Float64</th><th>Float64</th><th>Int64</th><th>Float64</th><th>Float64</th><th>Float64</th><th>Float64</th><th>Float64</th><th>Float64</th><th>Float64</th><th>Int64</th></tr></thead><tbody><p>5 rows × 14 columns</p><tr><th>1</th><td>1</td><td>14.23</td><td>1.71</td><td>2.43</td><td>15.6</td><td>127</td><td>2.8</td><td>3.06</td><td>0.28</td><td>2.29</td><td>5.64</td><td>1.04</td><td>3.92</td><td>1065</td></tr><tr><th>2</th><td>1</td><td>13.2</td><td>1.78</td><td>2.14</td><td>11.2</td><td>100</td><td>2.65</td><td>2.76</td><td>0.26</td><td>1.28</td><td>4.38</td><td>1.05</td><td>3.4</td><td>1050</td></tr><tr><th>3</th><td>1</td><td>13.16</td><td>2.36</td><td>2.67</td><td>18.6</td><td>101</td><td>2.8</td><td>3.24</td><td>0.3</td><td>2.81</td><td>5.68</td><td>1.03</td><td>3.17</td><td>1185</td></tr><tr><th>4</th><td>1</td><td>14.37</td><td>1.95</td><td>2.5</td><td>16.8</td><td>113</td><td>3.85</td><td>3.49</td><td>0.24</td><td>2.18</td><td>7.8</td><td>0.86</td><td>3.45</td><td>1480</td></tr><tr><th>5</th><td>1</td><td>13.24</td><td>2.59</td><td>2.87</td><td>21.0</td><td>118</td><td>2.8</td><td>2.69</td><td>0.39</td><td>1.82</td><td>4.32</td><td>1.04</td><td>2.93</td><td>735</td></tr></tbody></table>"
      ],
      "text/latex": [
       "\\begin{tabular}{r|cccccccccccccc}\n",
       "\t& wine\\_class & alcohol & malic\\_acid & ash & alcalinity\\_of\\_ash & magnesium & total\\_phenols & flavanoids & nonflavanoid\\_phenols & proanthocyanins & color\\_intensity & hue & OD280\\_to\\_OD315\\_of\\_diluted\\_wines & proline\\\\\n",
       "\t\\hline\n",
       "\t& Int64 & Float64 & Float64 & Float64 & Float64 & Int64 & Float64 & Float64 & Float64 & Float64 & Float64 & Float64 & Float64 & Int64\\\\\n",
       "\t\\hline\n",
       "\t1 & 1 & 14.23 & 1.71 & 2.43 & 15.6 & 127 & 2.8 & 3.06 & 0.28 & 2.29 & 5.64 & 1.04 & 3.92 & 1065 \\\\\n",
       "\t2 & 1 & 13.2 & 1.78 & 2.14 & 11.2 & 100 & 2.65 & 2.76 & 0.26 & 1.28 & 4.38 & 1.05 & 3.4 & 1050 \\\\\n",
       "\t3 & 1 & 13.16 & 2.36 & 2.67 & 18.6 & 101 & 2.8 & 3.24 & 0.3 & 2.81 & 5.68 & 1.03 & 3.17 & 1185 \\\\\n",
       "\t4 & 1 & 14.37 & 1.95 & 2.5 & 16.8 & 113 & 3.85 & 3.49 & 0.24 & 2.18 & 7.8 & 0.86 & 3.45 & 1480 \\\\\n",
       "\t5 & 1 & 13.24 & 2.59 & 2.87 & 21.0 & 118 & 2.8 & 2.69 & 0.39 & 1.82 & 4.32 & 1.04 & 2.93 & 735 \\\\\n",
       "\\end{tabular}\n"
      ],
      "text/plain": [
       "5×14 DataFrames.DataFrame\n",
       "│ Row │ wine_class │ alcohol │ malic_acid │ ash     │ alcalinity_of_ash │ magnesium │ total_phenols │ flavanoids │ nonflavanoid_phenols │ proanthocyanins │ color_intensity │ hue     │ OD280_to_OD315_of_diluted_wines │ proline │\n",
       "│     │ \u001b[90mInt64\u001b[39m      │ \u001b[90mFloat64\u001b[39m │ \u001b[90mFloat64\u001b[39m    │ \u001b[90mFloat64\u001b[39m │ \u001b[90mFloat64\u001b[39m           │ \u001b[90mInt64\u001b[39m     │ \u001b[90mFloat64\u001b[39m       │ \u001b[90mFloat64\u001b[39m    │ \u001b[90mFloat64\u001b[39m              │ \u001b[90mFloat64\u001b[39m         │ \u001b[90mFloat64\u001b[39m         │ \u001b[90mFloat64\u001b[39m │ \u001b[90mFloat64\u001b[39m                         │ \u001b[90mInt64\u001b[39m   │\n",
       "├─────┼────────────┼─────────┼────────────┼─────────┼───────────────────┼───────────┼───────────────┼────────────┼──────────────────────┼─────────────────┼─────────────────┼─────────┼─────────────────────────────────┼─────────┤\n",
       "│ 1   │ 1          │ 14.23   │ 1.71       │ 2.43    │ 15.6              │ 127       │ 2.8           │ 3.06       │ 0.28                 │ 2.29            │ 5.64            │ 1.04    │ 3.92                            │ 1065    │\n",
       "│ 2   │ 1          │ 13.2    │ 1.78       │ 2.14    │ 11.2              │ 100       │ 2.65          │ 2.76       │ 0.26                 │ 1.28            │ 4.38            │ 1.05    │ 3.4                             │ 1050    │\n",
       "│ 3   │ 1          │ 13.16   │ 2.36       │ 2.67    │ 18.6              │ 101       │ 2.8           │ 3.24       │ 0.3                  │ 2.81            │ 5.68            │ 1.03    │ 3.17                            │ 1185    │\n",
       "│ 4   │ 1          │ 14.37   │ 1.95       │ 2.5     │ 16.8              │ 113       │ 3.85          │ 3.49       │ 0.24                 │ 2.18            │ 7.8             │ 0.86    │ 3.45                            │ 1480    │\n",
       "│ 5   │ 1          │ 13.24   │ 2.59       │ 2.87    │ 21.0              │ 118       │ 2.8           │ 2.69       │ 0.39                 │ 1.82            │ 4.32            │ 1.04    │ 2.93                            │ 735     │"
      ]
     },
     "execution_count": 66,
     "metadata": {},
     "output_type": "execute_result"
    }
   ],
   "source": [
    "df = CSV.read(\"wine.csv\")\n",
    "first(df, 5)"
   ]
  },
  {
   "cell_type": "markdown",
   "metadata": {
    "slideshow": {
     "slide_type": "fragment"
    }
   },
   "source": [
    "<center><img src=\"scatter_plot_matrix.png\" alt=\"scatter plot matrix\" width=600px></center>\n",
    "\n",
    "we will learn to make publication-quality, effective, and communicative data visualizations using the free and open-source [matplotlib](https://matplotlib.org/)."
   ]
  },
  {
   "cell_type": "markdown",
   "metadata": {
    "slideshow": {
     "slide_type": "fragment"
    }
   },
   "source": [
    "## unsupervised learning\n",
    "algorithms to find patterns in data or group data *without* labels\n",
    "\n",
    "e.g. principal component analysis, clustering"
   ]
  },
  {
   "cell_type": "markdown",
   "metadata": {
    "slideshow": {
     "slide_type": "fragment"
    }
   },
   "source": [
    "<center><img src=\"pca_wines.png\" alt=\"Glassdoor job ranking\" width=600px></center>\n",
    "latent space of wines (color = type of wine)"
   ]
  },
  {
   "cell_type": "markdown",
   "metadata": {
    "slideshow": {
     "slide_type": "subslide"
    }
   },
   "source": [
    "## inference\n",
    "\n",
    "make conclusions about a population from a random sample; quantify uncertainty about these conclusions.\n",
    "\n",
    "* What is the average salary in San Francisco? (learn bootstrap, confidence intervals, maximum likelihood)"
   ]
  },
  {
   "cell_type": "code",
   "execution_count": 2,
   "metadata": {
    "slideshow": {
     "slide_type": "-"
    }
   },
   "outputs": [
    {
     "name": "stdout",
     "output_type": "stream",
     "text": [
      "# samples: 500\n"
     ]
    },
    {
     "data": {
      "text/html": [
       "<table class=\"data-frame\"><thead><tr><th></th><th>total_compensation</th></tr><tr><th></th><th>Float64</th></tr></thead><tbody><p>5 rows × 1 columns</p><tr><th>1</th><td>2.15741e5</td></tr><tr><th>2</th><td>1.83135e5</td></tr><tr><th>3</th><td>1.80116e5</td></tr><tr><th>4</th><td>27262.1</td></tr><tr><th>5</th><td>17792.3</td></tr></tbody></table>"
      ],
      "text/latex": [
       "\\begin{tabular}{r|c}\n",
       "\t& total\\_compensation\\\\\n",
       "\t\\hline\n",
       "\t& Float64\\\\\n",
       "\t\\hline\n",
       "\t1 & 2.15741e5 \\\\\n",
       "\t2 & 1.83135e5 \\\\\n",
       "\t3 & 1.80116e5 \\\\\n",
       "\t4 & 27262.1 \\\\\n",
       "\t5 & 17792.3 \\\\\n",
       "\\end{tabular}\n"
      ],
      "text/plain": [
       "5×1 DataFrames.DataFrame\n",
       "│ Row │ total_compensation │\n",
       "│     │ \u001b[90mFloat64\u001b[39m            │\n",
       "├─────┼────────────────────┤\n",
       "│ 1   │ 2.15741e5          │\n",
       "│ 2   │ 1.83135e5          │\n",
       "│ 3   │ 1.80116e5          │\n",
       "│ 4   │ 27262.1            │\n",
       "│ 5   │ 17792.3            │"
      ]
     },
     "execution_count": 2,
     "metadata": {},
     "output_type": "execute_result"
    }
   ],
   "source": [
    "df = CSV.read(\"sf_salaries.csv\")[!, [:total_compensation]]\n",
    "\n",
    "println(\"# samples: \", size(df, 1))\n",
    "\n",
    "first(df, 5)"
   ]
  },
  {
   "cell_type": "code",
   "execution_count": 56,
   "metadata": {
    "slideshow": {
     "slide_type": "fragment"
    }
   },
   "outputs": [
    {
     "data": {
      "image/png": "[encoded data removed]",
      "text/plain": [
       "Figure(PyObject <Figure size 640x480 with 1 Axes>)"
      ]
     },
     "metadata": {},
     "output_type": "display_data"
    },
    {
     "data": {
      "text/plain": [
       "PyObject Text(24.000000000000007, 0.5, '# employees')"
      ]
     },
     "execution_count": 56,
     "metadata": {},
     "output_type": "execute_result"
    }
   ],
   "source": [
    "figure()\n",
    "hist(df[!, :total_compensation])\n",
    "axvline(mean(df[!, :total_compensation]), color=\"y\")\n",
    "xlabel(\"salary\")\n",
    "ylabel(\"# employees\")"
   ]
  },
  {
   "cell_type": "markdown",
   "metadata": {
    "slideshow": {
     "slide_type": "fragment"
    }
   },
   "source": [
    "* Is maternal smoking associated with lower birth weight? (learn permutation tests, p-value)"
   ]
  },
  {
   "cell_type": "code",
   "execution_count": 86,
   "metadata": {
    "slideshow": {
     "slide_type": "-"
    }
   },
   "outputs": [
    {
     "name": "stdout",
     "output_type": "stream",
     "text": [
      "# samples: 1174\n"
     ]
    },
    {
     "data": {
      "text/html": [
       "<table class=\"data-frame\"><thead><tr><th></th><th>birth_weight</th><th>maternal_smoker</th></tr><tr><th></th><th>Int64</th><th>Bool</th></tr></thead><tbody><p>5 rows × 2 columns</p><tr><th>1</th><td>120</td><td>0</td></tr><tr><th>2</th><td>113</td><td>0</td></tr><tr><th>3</th><td>128</td><td>1</td></tr><tr><th>4</th><td>108</td><td>1</td></tr><tr><th>5</th><td>136</td><td>0</td></tr></tbody></table>"
      ],
      "text/latex": [
       "\\begin{tabular}{r|cc}\n",
       "\t& birth\\_weight & maternal\\_smoker\\\\\n",
       "\t\\hline\n",
       "\t& Int64 & Bool\\\\\n",
       "\t\\hline\n",
       "\t1 & 120 & 0 \\\\\n",
       "\t2 & 113 & 0 \\\\\n",
       "\t3 & 128 & 1 \\\\\n",
       "\t4 & 108 & 1 \\\\\n",
       "\t5 & 136 & 0 \\\\\n",
       "\\end{tabular}\n"
      ],
      "text/plain": [
       "5×2 DataFrames.DataFrame\n",
       "│ Row │ birth_weight │ maternal_smoker │\n",
       "│     │ \u001b[90mInt64\u001b[39m        │ \u001b[90mBool\u001b[39m            │\n",
       "├─────┼──────────────┼─────────────────┤\n",
       "│ 1   │ 120          │ 0               │\n",
       "│ 2   │ 113          │ 0               │\n",
       "│ 3   │ 128          │ 1               │\n",
       "│ 4   │ 108          │ 1               │\n",
       "│ 5   │ 136          │ 0               │"
      ]
     },
     "execution_count": 86,
     "metadata": {},
     "output_type": "execute_result"
    }
   ],
   "source": [
    "df = CSV.read(\"baby.csv\")[!, [:birth_weight, :maternal_smoker]]\n",
    "println(\"# samples: \", size(df, 1))\n",
    "first(df, 5) # \"class\" attribute = label (kidney disease = 1, no kidney disease = 0)"
   ]
  },
  {
   "cell_type": "code",
   "execution_count": 80,
   "metadata": {
    "scrolled": true,
    "slideshow": {
     "slide_type": "fragment"
    }
   },
   "outputs": [
    {
     "data": {
      "image/png": "[encoded data removed]",
      "text/plain": [
       "Figure(PyObject <Figure size 640x480 with 1 Axes>)"
      ]
     },
     "metadata": {},
     "output_type": "display_data"
    },
    {
     "data": {
      "text/plain": [
       "PyObject <matplotlib.legend.Legend object at 0x7fcbee6f22e8>"
      ]
     },
     "execution_count": 80,
     "metadata": {},
     "output_type": "execute_result"
    }
   ],
   "source": [
    "figure()\n",
    "hist(df[df[!, :maternal_smoker], :birth_weight], alpha=0.5, label=\"maternal smoker\")\n",
    "hist(df[.! df[!, :maternal_smoker], :birth_weight], alpha=0.5, label=\"not maternal smoker\")\n",
    "xlabel(\"birth weight\")\n",
    "ylabel(\"# babies\")\n",
    "legend()"
   ]
  },
  {
   "cell_type": "markdown",
   "metadata": {
    "slideshow": {
     "slide_type": "subslide"
    }
   },
   "source": [
    "## prediction\n",
    "use data to make predictions (supervised learning: regression, classification)\n",
    "\n",
    "* Based on blood test, does this patient have kidney disease? [classification]"
   ]
  },
  {
   "cell_type": "code",
   "execution_count": 88,
   "metadata": {
    "scrolled": false,
    "slideshow": {
     "slide_type": "-"
    }
   },
   "outputs": [
    {
     "data": {
      "text/html": [
       "<table class=\"data-frame\"><thead><tr><th></th><th>Age</th><th>Blood Pressure</th><th>Specific Gravity</th><th>Albumin</th><th>Sugar</th><th>Red Blood Cells</th><th>Pus Cell</th><th>Pus Cell clumps</th><th>Bacteria</th><th>Blood Glucose</th><th>Blood Urea</th><th>Serum Creatinine</th><th>Sodium</th><th>Potassium</th><th>Hemoglobin</th><th>Packed Cell Volume</th><th>White Blood Cell Count</th><th>Red Blood Cell Count</th><th>Hypertension</th><th>Diabetes Mellitus</th><th>Coronary Artery Disease</th><th>Appetite</th><th>Pedal Edema</th><th>Anemia</th><th>Class</th></tr><tr><th></th><th>Int64</th><th>Int64</th><th>Float64</th><th>Int64</th><th>Int64</th><th>String</th><th>String</th><th>String</th><th>String</th><th>Int64</th><th>Int64</th><th>Float64</th><th>Int64</th><th>Float64</th><th>Float64</th><th>Int64</th><th>Int64</th><th>Float64</th><th>String</th><th>String</th><th>String</th><th>String</th><th>String</th><th>String</th><th>Int64</th></tr></thead><tbody><p>5 rows × 25 columns</p><tr><th>1</th><td>48</td><td>70</td><td>1.005</td><td>4</td><td>0</td><td>normal</td><td>abnormal</td><td>present</td><td>notpresent</td><td>117</td><td>56</td><td>3.8</td><td>111</td><td>2.5</td><td>11.2</td><td>32</td><td>6700</td><td>3.9</td><td>yes</td><td>no</td><td>no</td><td>poor</td><td>yes</td><td>yes</td><td>1</td></tr><tr><th>2</th><td>53</td><td>90</td><td>1.02</td><td>2</td><td>0</td><td>abnormal</td><td>abnormal</td><td>present</td><td>notpresent</td><td>70</td><td>107</td><td>7.2</td><td>114</td><td>3.7</td><td>9.5</td><td>29</td><td>12100</td><td>3.7</td><td>yes</td><td>yes</td><td>no</td><td>poor</td><td>no</td><td>yes</td><td>1</td></tr><tr><th>3</th><td>63</td><td>70</td><td>1.01</td><td>3</td><td>0</td><td>abnormal</td><td>abnormal</td><td>present</td><td>notpresent</td><td>380</td><td>60</td><td>2.7</td><td>131</td><td>4.2</td><td>10.8</td><td>32</td><td>4500</td><td>3.8</td><td>yes</td><td>yes</td><td>no</td><td>poor</td><td>yes</td><td>no</td><td>1</td></tr><tr><th>4</th><td>68</td><td>80</td><td>1.01</td><td>3</td><td>2</td><td>normal</td><td>abnormal</td><td>present</td><td>present</td><td>157</td><td>90</td><td>4.1</td><td>130</td><td>6.4</td><td>5.6</td><td>16</td><td>11000</td><td>2.6</td><td>yes</td><td>yes</td><td>yes</td><td>poor</td><td>yes</td><td>no</td><td>1</td></tr><tr><th>5</th><td>61</td><td>80</td><td>1.015</td><td>2</td><td>0</td><td>abnormal</td><td>abnormal</td><td>notpresent</td><td>notpresent</td><td>173</td><td>148</td><td>3.9</td><td>135</td><td>5.2</td><td>7.7</td><td>24</td><td>9200</td><td>3.2</td><td>yes</td><td>yes</td><td>yes</td><td>poor</td><td>yes</td><td>yes</td><td>1</td></tr></tbody></table>"
      ],
      "text/latex": [
       "\\begin{tabular}{r|ccccccccccccccccccccccccc}\n",
       "\t& Age & Blood Pressure & Specific Gravity & Albumin & Sugar & Red Blood Cells & Pus Cell & Pus Cell clumps & Bacteria & Blood Glucose & Blood Urea & Serum Creatinine & Sodium & Potassium & Hemoglobin & Packed Cell Volume & White Blood Cell Count & Red Blood Cell Count & Hypertension & Diabetes Mellitus & Coronary Artery Disease & Appetite & Pedal Edema & Anemia & Class\\\\\n",
       "\t\\hline\n",
       "\t& Int64 & Int64 & Float64 & Int64 & Int64 & String & String & String & String & Int64 & Int64 & Float64 & Int64 & Float64 & Float64 & Int64 & Int64 & Float64 & String & String & String & String & String & String & Int64\\\\\n",
       "\t\\hline\n",
       "\t1 & 48 & 70 & 1.005 & 4 & 0 & normal & abnormal & present & notpresent & 117 & 56 & 3.8 & 111 & 2.5 & 11.2 & 32 & 6700 & 3.9 & yes & no & no & poor & yes & yes & 1 \\\\\n",
       "\t2 & 53 & 90 & 1.02 & 2 & 0 & abnormal & abnormal & present & notpresent & 70 & 107 & 7.2 & 114 & 3.7 & 9.5 & 29 & 12100 & 3.7 & yes & yes & no & poor & no & yes & 1 \\\\\n",
       "\t3 & 63 & 70 & 1.01 & 3 & 0 & abnormal & abnormal & present & notpresent & 380 & 60 & 2.7 & 131 & 4.2 & 10.8 & 32 & 4500 & 3.8 & yes & yes & no & poor & yes & no & 1 \\\\\n",
       "\t4 & 68 & 80 & 1.01 & 3 & 2 & normal & abnormal & present & present & 157 & 90 & 4.1 & 130 & 6.4 & 5.6 & 16 & 11000 & 2.6 & yes & yes & yes & poor & yes & no & 1 \\\\\n",
       "\t5 & 61 & 80 & 1.015 & 2 & 0 & abnormal & abnormal & notpresent & notpresent & 173 & 148 & 3.9 & 135 & 5.2 & 7.7 & 24 & 9200 & 3.2 & yes & yes & yes & poor & yes & yes & 1 \\\\\n",
       "\\end{tabular}\n"
      ],
      "text/plain": [
       "5×25 DataFrames.DataFrame\n",
       "│ Row │ Age   │ Blood Pressure │ Specific Gravity │ Albumin │ Sugar │ Red Blood Cells │ Pus Cell │ Pus Cell clumps │ Bacteria   │ Blood Glucose │ Blood Urea │ Serum Creatinine │ Sodium │ Potassium │ Hemoglobin │ Packed Cell Volume │ White Blood Cell Count │ Red Blood Cell Count │ Hypertension │ Diabetes Mellitus │ Coronary Artery Disease │ Appetite │ Pedal Edema │ Anemia │ Class │\n",
       "│     │ \u001b[90mInt64\u001b[39m │ \u001b[90mInt64\u001b[39m          │ \u001b[90mFloat64\u001b[39m          │ \u001b[90mInt64\u001b[39m   │ \u001b[90mInt64\u001b[39m │ \u001b[90mString\u001b[39m          │ \u001b[90mString\u001b[39m   │ \u001b[90mString\u001b[39m          │ \u001b[90mString\u001b[39m     │ \u001b[90mInt64\u001b[39m         │ \u001b[90mInt64\u001b[39m      │ \u001b[90mFloat64\u001b[39m          │ \u001b[90mInt64\u001b[39m  │ \u001b[90mFloat64\u001b[39m   │ \u001b[90mFloat64\u001b[39m    │ \u001b[90mInt64\u001b[39m              │ \u001b[90mInt64\u001b[39m                  │ \u001b[90mFloat64\u001b[39m              │ \u001b[90mString\u001b[39m       │ \u001b[90mString\u001b[39m            │ \u001b[90mString\u001b[39m                  │ \u001b[90mString\u001b[39m   │ \u001b[90mString\u001b[39m      │ \u001b[90mString\u001b[39m │ \u001b[90mInt64\u001b[39m │\n",
       "├─────┼───────┼────────────────┼──────────────────┼─────────┼───────┼─────────────────┼──────────┼─────────────────┼────────────┼───────────────┼────────────┼──────────────────┼────────┼───────────┼────────────┼────────────────────┼────────────────────────┼──────────────────────┼──────────────┼───────────────────┼─────────────────────────┼──────────┼─────────────┼────────┼───────┤\n",
       "│ 1   │ 48    │ 70             │ 1.005            │ 4       │ 0     │ normal          │ abnormal │ present         │ notpresent │ 117           │ 56         │ 3.8              │ 111    │ 2.5       │ 11.2       │ 32                 │ 6700                   │ 3.9                  │ yes          │ no                │ no                      │ poor     │ yes         │ yes    │ 1     │\n",
       "│ 2   │ 53    │ 90             │ 1.02             │ 2       │ 0     │ abnormal        │ abnormal │ present         │ notpresent │ 70            │ 107        │ 7.2              │ 114    │ 3.7       │ 9.5        │ 29                 │ 12100                  │ 3.7                  │ yes          │ yes               │ no                      │ poor     │ no          │ yes    │ 1     │\n",
       "│ 3   │ 63    │ 70             │ 1.01             │ 3       │ 0     │ abnormal        │ abnormal │ present         │ notpresent │ 380           │ 60         │ 2.7              │ 131    │ 4.2       │ 10.8       │ 32                 │ 4500                   │ 3.8                  │ yes          │ yes               │ no                      │ poor     │ yes         │ no     │ 1     │\n",
       "│ 4   │ 68    │ 80             │ 1.01             │ 3       │ 2     │ normal          │ abnormal │ present         │ present    │ 157           │ 90         │ 4.1              │ 130    │ 6.4       │ 5.6        │ 16                 │ 11000                  │ 2.6                  │ yes          │ yes               │ yes                     │ poor     │ yes         │ no     │ 1     │\n",
       "│ 5   │ 61    │ 80             │ 1.015            │ 2       │ 0     │ abnormal        │ abnormal │ notpresent      │ notpresent │ 173           │ 148        │ 3.9              │ 135    │ 5.2       │ 7.7        │ 24                 │ 9200                   │ 3.2                  │ yes          │ yes               │ yes                     │ poor     │ yes         │ yes    │ 1     │"
      ]
     },
     "execution_count": 88,
     "metadata": {},
     "output_type": "execute_result"
    }
   ],
   "source": [
    "df = CSV.read(\"kidney_disease.csv\")\n",
    "first(df, 5)"
   ]
  },
  {
   "cell_type": "markdown",
   "metadata": {
    "slideshow": {
     "slide_type": "fragment"
    }
   },
   "source": [
    "*observation*: data shows that e.g. blood glucose and white blood cell count are biomarkers for kidney disease"
   ]
  },
  {
   "cell_type": "code",
   "execution_count": 90,
   "metadata": {
    "scrolled": true,
    "slideshow": {
     "slide_type": "fragment"
    }
   },
   "outputs": [
    {
     "data": {
      "image/png": "[encoded data removed]",
      "text/plain": [
       "Figure(PyObject <Figure size 640x480 with 1 Axes>)"
      ]
     },
     "metadata": {},
     "output_type": "display_data"
    },
    {
     "data": {
      "text/plain": [
       "PyObject Text(24.000000000000007, 0.5, 'blood glucose')"
      ]
     },
     "execution_count": 90,
     "metadata": {},
     "output_type": "execute_result"
    }
   ],
   "source": [
    "figure()\n",
    "scatter(df[!, Symbol(\"White Blood Cell Count\")], df[!, Symbol(\"Blood Glucose\")], c=df[!, Symbol(\"Class\")])\n",
    "xlabel(\"white blood cell count\")\n",
    "ylabel(\"blood glucose\")"
   ]
  },
  {
   "cell_type": "markdown",
   "metadata": {
    "slideshow": {
     "slide_type": "fragment"
    }
   },
   "source": [
    "*idea*: train model on data we have, then use the model to predict the probability that a *new* patient has kidney disease on the basis of measurements of blood glucose, white blood cell count, etc."
   ]
  },
  {
   "cell_type": "markdown",
   "metadata": {
    "slideshow": {
     "slide_type": "subslide"
    }
   },
   "source": [
    "* Given a nanoporous material and associated descriptors (density, pore size, void fraction), what is its adsorptive selectivity? [regression]\n",
    "\n",
    "<center><img src=\"mof.png\" alt=\"deep bind\" width=200px></center>"
   ]
  },
  {
   "cell_type": "code",
   "execution_count": 92,
   "metadata": {},
   "outputs": [
    {
     "data": {
      "text/html": [
       "<table class=\"data-frame\"><thead><tr><th></th><th>crystal_density</th><th>pore_size</th><th>void_fraction</th><th>selectivity</th></tr><tr><th></th><th>Float64</th><th>Float64</th><th>Float64</th><th>Float64</th></tr></thead><tbody><p>10 rows × 4 columns</p><tr><th>1</th><td>1659.26</td><td>6.90917</td><td>0.04596</td><td>7.16895</td></tr><tr><th>2</th><td>1783.07</td><td>4.96374</td><td>0.00746</td><td>6.43933</td></tr><tr><th>3</th><td>1071.12</td><td>10.0352</td><td>0.09914</td><td>9.44159</td></tr><tr><th>4</th><td>1875.9</td><td>4.96285</td><td>0.00996</td><td>7.53202</td></tr><tr><th>5</th><td>1002.19</td><td>7.02873</td><td>0.06094</td><td>11.6728</td></tr><tr><th>6</th><td>886.401</td><td>13.2699</td><td>0.23626</td><td>7.02738</td></tr><tr><th>7</th><td>1103.91</td><td>6.90622</td><td>0.05276</td><td>12.6155</td></tr><tr><th>8</th><td>1364.57</td><td>6.96292</td><td>0.12</td><td>3.09369</td></tr><tr><th>9</th><td>885.986</td><td>13.2751</td><td>0.23594</td><td>6.9777</td></tr><tr><th>10</th><td>577.278</td><td>8.38842</td><td>0.24708</td><td>4.09324</td></tr></tbody></table>"
      ],
      "text/latex": [
       "\\begin{tabular}{r|cccc}\n",
       "\t& crystal\\_density & pore\\_size & void\\_fraction & selectivity\\\\\n",
       "\t\\hline\n",
       "\t& Float64 & Float64 & Float64 & Float64\\\\\n",
       "\t\\hline\n",
       "\t1 & 1659.26 & 6.90917 & 0.04596 & 7.16895 \\\\\n",
       "\t2 & 1783.07 & 4.96374 & 0.00746 & 6.43933 \\\\\n",
       "\t3 & 1071.12 & 10.0352 & 0.09914 & 9.44159 \\\\\n",
       "\t4 & 1875.9 & 4.96285 & 0.00996 & 7.53202 \\\\\n",
       "\t5 & 1002.19 & 7.02873 & 0.06094 & 11.6728 \\\\\n",
       "\t6 & 886.401 & 13.2699 & 0.23626 & 7.02738 \\\\\n",
       "\t7 & 1103.91 & 6.90622 & 0.05276 & 12.6155 \\\\\n",
       "\t8 & 1364.57 & 6.96292 & 0.12 & 3.09369 \\\\\n",
       "\t9 & 885.986 & 13.2751 & 0.23594 & 6.9777 \\\\\n",
       "\t10 & 577.278 & 8.38842 & 0.24708 & 4.09324 \\\\\n",
       "\\end{tabular}\n"
      ],
      "text/plain": [
       "10×4 DataFrames.DataFrame\n",
       "│ Row │ crystal_density │ pore_size │ void_fraction │ selectivity │\n",
       "│     │ \u001b[90mFloat64\u001b[39m         │ \u001b[90mFloat64\u001b[39m   │ \u001b[90mFloat64\u001b[39m       │ \u001b[90mFloat64\u001b[39m     │\n",
       "├─────┼─────────────────┼───────────┼───────────────┼─────────────┤\n",
       "│ 1   │ 1659.26         │ 6.90917   │ 0.04596       │ 7.16895     │\n",
       "│ 2   │ 1783.07         │ 4.96374   │ 0.00746       │ 6.43933     │\n",
       "│ 3   │ 1071.12         │ 10.0352   │ 0.09914       │ 9.44159     │\n",
       "│ 4   │ 1875.9          │ 4.96285   │ 0.00996       │ 7.53202     │\n",
       "│ 5   │ 1002.19         │ 7.02873   │ 0.06094       │ 11.6728     │\n",
       "│ 6   │ 886.401         │ 13.2699   │ 0.23626       │ 7.02738     │\n",
       "│ 7   │ 1103.91         │ 6.90622   │ 0.05276       │ 12.6155     │\n",
       "│ 8   │ 1364.57         │ 6.96292   │ 0.12          │ 3.09369     │\n",
       "│ 9   │ 885.986         │ 13.2751   │ 0.23594       │ 6.9777      │\n",
       "│ 10  │ 577.278         │ 8.38842   │ 0.24708       │ 4.09324     │"
      ]
     },
     "execution_count": 92,
     "metadata": {},
     "output_type": "execute_result"
    }
   ],
   "source": [
    "df = CSV.read(\"materials_data.csv\")\n",
    "first(df, 10)"
   ]
  },
  {
   "cell_type": "markdown",
   "metadata": {
    "slideshow": {
     "slide_type": "fragment"
    }
   },
   "source": [
    "*observation*: data shows that pore size and selectivity are correlated"
   ]
  },
  {
   "cell_type": "code",
   "execution_count": 94,
   "metadata": {
    "slideshow": {
     "slide_type": "fragment"
    }
   },
   "outputs": [
    {
     "data": {
      "image/png": "[encoded data removed]",
      "text/plain": [
       "Figure(PyObject <Figure size 640x480 with 1 Axes>)"
      ]
     },
     "metadata": {},
     "output_type": "display_data"
    },
    {
     "data": {
      "text/plain": [
       "PyObject Text(24.000000000000007, 0.5, 'selectivity')"
      ]
     },
     "execution_count": 94,
     "metadata": {},
     "output_type": "execute_result"
    }
   ],
   "source": [
    "figure()\n",
    "scatter(df[!, :pore_size], df[!, :selectivity])\n",
    "xlabel(\"pore size\")\n",
    "ylabel(\"selectivity\")"
   ]
  },
  {
   "cell_type": "markdown",
   "metadata": {
    "slideshow": {
     "slide_type": "fragment"
    }
   },
   "source": [
    "*idea*: train model on data we have, then use the model to predict the adsorptive selectivity of a new material (whose adsorption properties are unknown) on the basis of its crystal density, pore size, and void fraction."
   ]
  },
  {
   "cell_type": "markdown",
   "metadata": {
    "slideshow": {
     "slide_type": "slide"
    }
   },
   "source": [
    "# my journey into machine learning\n",
    "\n",
    "* 1/2 PhD Mathematics at the University of British Columbia\n",
    "\n",
    "<center><img src=\"https://www.ubc.ca/_assets/img/aerial_moa_panorama-1920x700.jpg\" alt=\"UBC\" width=400px></center>\n",
    "\n",
    "* foundation in machine learning from course at UC Berkeley by [Jitendra Malik](https://en.wikipedia.org/wiki/Jitendra_Malik) and [Alexei Efros](https://en.wikipedia.org/wiki/Alexei_A._Efros) during my PhD\n",
    "\n",
    "<center><img src=\"confusion_matrix.png\" alt=\"confusion matrix\" width=300px></center>\n",
    "\n",
    "\n",
    "\n",
    "* data science intern at [Stitch Fix](https://algorithms-tour.stitchfix.com) during my PhD\n",
    "\n",
    "<center><img src=\"customer_item_matrix.png\" alt=\"confusion matrix\" width=300px></center>\n",
    "\n",
    "* postdoc in computational genomics at Altius Institute for Biomedical Sciences\n",
    "    * e.g., convolutional neural networks can predict transcription factor binding to DNA sequences; see DeepBind [DOI: 10.1038/nbt.3300](https://www.nature.com/articles/nbt.3300/)\n",
    "    \n",
    "    <center><img src=\"deepbind.png\" alt=\"deep bind\" width=700px></center>\n",
    "\n",
    "* current research focus: applying machine learning to materials discovery\n",
    "    * using a random forest of [decision trees](http://www.r2d3.us/visual-intro-to-machine-learning-part-1/) to predict Xe/Kr selectivity of nanoporous materials [DOI: 10.1021/acs.chemmater.5b01475](https://pubs.acs.org/doi/abs/10.1021/acs.chemmater.5b01475)\n",
    "    * apply facial recognition algorithm to group together porous molecules with similarly shaped cavities [DOI: 10.1021/acscentsci.8b00638](https://pubs.acs.org/doi/10.1021/acscentsci.8b00638)\n",
    "    * NSF award for machine-learning latent representations of porous materials [here](https://www.nsf.gov/awardsearch/showAward?AWD_ID=1920945)"
   ]
  },
  {
   "cell_type": "markdown",
   "metadata": {
    "slideshow": {
     "slide_type": "slide"
    }
   },
   "source": [
    "# unsupervised learning applied to materials discovery\n",
    "\n",
    "> ❝Eigencages: Learning a latent space of porous cage molecules❞ A. Sturluson, M. T. Huynh, A. H. York, C. Simon. *ACS Central Science*. (2018)\n",
    "\n",
    "### porous organic cage molecules\n",
    "\n",
    "a set of 74 experimentally synthesized porous organic cage molecules. each harbors a nano-sized cavity that selectively adsorbs gas molecules.\n",
    "\n",
    "<center><img src=\"https://pubs.acs.org/na101/home/literatum/publisher/achs/journals/content/acscii/2018/acscii.2018.4.issue-12/acscentsci.8b00638/20181218/images/large/oc-2018-00638n_0001.jpeg\" width=500px></center>\n",
    "\n",
    "the shape of the cavity is a primary determinant of the adsorptive selectivity.\n",
    "\n",
    "goal: automatically group together cages that have similar cavity shapes via learning \"latent vector representations\" of the cages"
   ]
  },
  {
   "cell_type": "markdown",
   "metadata": {
    "slideshow": {
     "slide_type": "subslide"
    }
   },
   "source": [
    "### viewing materials as high-dimensional vectors\n",
    "\n",
    "* take 3D computational scans of the porosity of each cage $\\rightarrow$ a set of 3D images\n",
    "\n",
    "* pixel $i$ takes on value $0$ or $1$ for void space or not (i.e. overlapping an atom).\n",
    "\n",
    "* flatten the image, and we have a high-dimenionsional vector\n",
    "\n",
    "    $g \\times g \\times g$ image $\\implies$ cage $i$ is a vector $\\mathbf{c}_i \\in \\mathbb{R}^{g^3}$\n",
    "\n",
    "<center><img src=\"https://pubs.acs.org/na101/home/literatum/publisher/achs/journals/content/acscii/2018/acscii.2018.4.issue-12/acscentsci.8b00638/20181218/images/large/oc-2018-00638n_0002.jpeg\" width=500px></center>\n",
    "\n",
    "\n"
   ]
  },
  {
   "cell_type": "markdown",
   "metadata": {
    "slideshow": {
     "slide_type": "subslide"
    }
   },
   "source": [
    "### a matrix that encapsulates all of the data\n",
    "\n",
    "* stack the flattened cage images into a matrix $\\mathbf{A}$ (with the average cage image $\\bar{\\mathbf{c}}$ subtracted)\n",
    "\n",
    "\\begin{equation}\n",
    "    \\mathbf{A} = \\begin{bmatrix}\n",
    "        \\text{---} \\hspace{-0.2cm} & \\mathbf{c}_1^\\intercal - \\bar{\\mathbf{c}}^\\intercal & \\hspace{-0.2cm} \\text{---} \\\\\n",
    "        & \\vdots & \\\\\n",
    "        \\text{---} \\hspace{-0.2cm} & \\mathbf{c}_{74}^\\intercal - \\bar{\\mathbf{c}}^\\intercal  & \\hspace{-0.2cm} \\text{---} \\\\\n",
    "    \\end{bmatrix}\n",
    "\\end{equation}\n",
    "\n",
    "* this matrix is full rank. i.e., we need 74 basis vectors (= cage images) to form all cage images"
   ]
  },
  {
   "cell_type": "markdown",
   "metadata": {
    "slideshow": {
     "slide_type": "subslide"
    }
   },
   "source": [
    "### a data compression problem\n",
    "\n",
    "* The goal is to find a low-rank approximation of the matrix $\\mathbf{A}$ (data compression).\n",
    "* The idea is to express each cage as a combination of much fewer than 74 \"basis\" cage images.\n",
    "* In the process of learning a low-rank approximation of $\\mathbf{A}$, we learn the salient \"ingredients\" of cage images.\n",
    "\n",
    "<center><img src=\"https://pubs.acs.org/na101/home/literatum/publisher/achs/journals/content/acscii/2018/acscii.2018.4.issue-12/acscentsci.8b00638/20181218/images/large/oc-2018-00638n_0003.jpeg\" width=600px></center>\n",
    "\n",
    "* the singular value decomposition (SVD) provides a convenient way to find the optimal low-rank approximation: zero out the smallest singular values $\\sigma_i$.\n",
    "* the columns of orthogonal matrix $\\mathbf{V}$ are the orthogonal \"ingredients\" of cage images, ranked by importance."
   ]
  },
  {
   "cell_type": "markdown",
   "metadata": {
    "slideshow": {
     "slide_type": "subslide"
    }
   },
   "source": [
    "### expressing a cage as a combination of ingredients\n",
    "\n",
    "idea: each cage image is expressed as a linear combination of eigencages (ingredients) $\\mathbf{v}_i$. If we impose that only two ingredients can be used:\n",
    "\\begin{equation}\n",
    "\\mathbf{c}_i = \\bar{\\mathbf{c}} + \\alpha_{i} \\mathbf{v}_1 + \\beta_{i}  \\mathbf{v}_2.\n",
    "\\end{equation}\n",
    "\n",
    "* the $\\mathbf{v}_1$ and $\\mathbf{v}_2$ are the two most important ingredients learned from SVD\n",
    "* the 2D latent vector representation of cage $i$ is $(\\alpha_i, \\beta_i)$"
   ]
  },
  {
   "cell_type": "markdown",
   "metadata": {
    "slideshow": {
     "slide_type": "subslide"
    }
   },
   "source": [
    "### the ingredients of cage images (eigencages)\n",
    "\n",
    "<center><img src=\"https://pubs.acs.org/na101/home/literatum/publisher/achs/journals/content/acscii/2018/acscii.2018.4.issue-12/acscentsci.8b00638/20181218/images/large/oc-2018-00638n_0005.jpeg\" width=300px></center>"
   ]
  },
  {
   "cell_type": "markdown",
   "metadata": {
    "slideshow": {
     "slide_type": "subslide"
    }
   },
   "source": [
    "### the latent representation of the cages\n",
    "\n",
    "think of this as a visualization of the resulting 2D representations of the cages.\n",
    "\n",
    "cages with similar cavity shapes congregate nearby in this \"latent\" cage space.\n",
    "\n",
    "<center><img src=\"https://pubs.acs.org/na101/home/literatum/publisher/achs/journals/content/acscii/2018/acscii.2018.4.issue-12/acscentsci.8b00638/20181218/images/large/oc-2018-00638n_0007.jpeg\" width=500px></center>\n",
    "\n",
    "this was \"learned\" by the dimensionality reduction algorithm without any labels on the structures, e.g. \"these cages are donut-shaped\""
   ]
  }
 ],
 "metadata": {
  "@webio": {
   "lastCommId": "72627f2ff4504d14af91f89e0382ab10",
   "lastKernelId": "02c65ebc-97b8-4773-8d23-36cf01f67ced"
  },
  "celltoolbar": "Slideshow",
  "kernelspec": {
   "display_name": "Julia 1.2.0",
   "language": "julia",
   "name": "julia-1.2"
  },
  "language_info": {
   "file_extension": ".jl",
   "mimetype": "application/julia",
   "name": "julia",
   "version": "1.2.0"
  }
 },
 "nbformat": 4,
 "nbformat_minor": 2
}
