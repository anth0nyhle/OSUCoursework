{
 "cells": [
  {
   "cell_type": "code",
   "execution_count": 38,
   "metadata": {},
   "outputs": [],
   "source": [
    "using CSV\n",
    "using DataFrames\n",
    "using PyPlot"
   ]
  },
  {
   "cell_type": "code",
   "execution_count": 12,
   "metadata": {},
   "outputs": [
    {
     "data": {
      "text/plain": [
       "\"steak/steak.csv\""
      ]
     },
     "execution_count": 12,
     "metadata": {},
     "output_type": "execute_result"
    }
   ],
   "source": [
    "steak_file_loc = joinpath(\"steak\", \"steak.csv\")"
   ]
  },
  {
   "cell_type": "code",
   "execution_count": 19,
   "metadata": {},
   "outputs": [
    {
     "data": {
      "text/html": [
       "<table class=\"data-frame\"><thead><tr><th></th><th>eats_steak</th><th>how_cooked</th></tr><tr><th></th><th>String⍰</th><th>String⍰</th></tr></thead><tbody><p>549 rows × 2 columns</p><tr><th>1</th><td>Yes</td><td>Medium rare</td></tr><tr><th>2</th><td>Yes</td><td>Rare</td></tr><tr><th>3</th><td>Yes</td><td>Medium</td></tr><tr><th>4</th><td>Yes</td><td>Medium</td></tr><tr><th>5</th><td>Yes</td><td>Medium rare</td></tr><tr><th>6</th><td>No</td><td>missing</td></tr><tr><th>7</th><td>Yes</td><td>Medium rare</td></tr><tr><th>8</th><td>Yes</td><td>Medium</td></tr><tr><th>9</th><td>Yes</td><td>Medium rare</td></tr><tr><th>10</th><td>Yes</td><td>Medium rare</td></tr><tr><th>11</th><td>Yes</td><td>Medium rare</td></tr><tr><th>12</th><td>Yes</td><td>Medium</td></tr><tr><th>13</th><td>Yes</td><td>Rare</td></tr><tr><th>14</th><td>Yes</td><td>Medium Well</td></tr><tr><th>15</th><td>Yes</td><td>Medium Well</td></tr><tr><th>16</th><td>Yes</td><td>Medium</td></tr><tr><th>17</th><td>No</td><td>missing</td></tr><tr><th>18</th><td>Yes</td><td>Medium rare</td></tr><tr><th>19</th><td>No</td><td>missing</td></tr><tr><th>20</th><td>Yes</td><td>Medium rare</td></tr><tr><th>21</th><td>Yes</td><td>Medium rare</td></tr><tr><th>22</th><td>Yes</td><td>Medium Well</td></tr><tr><th>23</th><td>Yes</td><td>Medium rare</td></tr><tr><th>24</th><td>Yes</td><td>Medium rare</td></tr><tr><th>25</th><td>Yes</td><td>Medium Well</td></tr><tr><th>26</th><td>Yes</td><td>Medium</td></tr><tr><th>27</th><td>Yes</td><td>Medium rare</td></tr><tr><th>28</th><td>Yes</td><td>Medium</td></tr><tr><th>29</th><td>Yes</td><td>Medium</td></tr><tr><th>30</th><td>Yes</td><td>Medium</td></tr><tr><th>&vellip;</th><td>&vellip;</td><td>&vellip;</td></tr></tbody></table>"
      ],
      "text/latex": [
       "\\begin{tabular}{r|cc}\n",
       "\t& eats\\_steak & how\\_cooked\\\\\n",
       "\t\\hline\n",
       "\t& String⍰ & String⍰\\\\\n",
       "\t\\hline\n",
       "\t1 & Yes & Medium rare \\\\\n",
       "\t2 & Yes & Rare \\\\\n",
       "\t3 & Yes & Medium \\\\\n",
       "\t4 & Yes & Medium \\\\\n",
       "\t5 & Yes & Medium rare \\\\\n",
       "\t6 & No &  \\\\\n",
       "\t7 & Yes & Medium rare \\\\\n",
       "\t8 & Yes & Medium \\\\\n",
       "\t9 & Yes & Medium rare \\\\\n",
       "\t10 & Yes & Medium rare \\\\\n",
       "\t11 & Yes & Medium rare \\\\\n",
       "\t12 & Yes & Medium \\\\\n",
       "\t13 & Yes & Rare \\\\\n",
       "\t14 & Yes & Medium Well \\\\\n",
       "\t15 & Yes & Medium Well \\\\\n",
       "\t16 & Yes & Medium \\\\\n",
       "\t17 & No &  \\\\\n",
       "\t18 & Yes & Medium rare \\\\\n",
       "\t19 & No &  \\\\\n",
       "\t20 & Yes & Medium rare \\\\\n",
       "\t21 & Yes & Medium rare \\\\\n",
       "\t22 & Yes & Medium Well \\\\\n",
       "\t23 & Yes & Medium rare \\\\\n",
       "\t24 & Yes & Medium rare \\\\\n",
       "\t25 & Yes & Medium Well \\\\\n",
       "\t26 & Yes & Medium \\\\\n",
       "\t27 & Yes & Medium rare \\\\\n",
       "\t28 & Yes & Medium \\\\\n",
       "\t29 & Yes & Medium \\\\\n",
       "\t30 & Yes & Medium \\\\\n",
       "\t$\\dots$ & $\\dots$ & $\\dots$ \\\\\n",
       "\\end{tabular}\n"
      ],
      "text/plain": [
       "549×2 DataFrames.DataFrame\n",
       "│ Row │ eats_steak │ how_cooked  │\n",
       "│     │ \u001b[90mString⍰\u001b[39m    │ \u001b[90mString⍰\u001b[39m     │\n",
       "├─────┼────────────┼─────────────┤\n",
       "│ 1   │ Yes        │ Medium rare │\n",
       "│ 2   │ Yes        │ Rare        │\n",
       "│ 3   │ Yes        │ Medium      │\n",
       "│ 4   │ Yes        │ Medium      │\n",
       "│ 5   │ Yes        │ Medium rare │\n",
       "│ 6   │ No         │ \u001b[90mmissing\u001b[39m     │\n",
       "│ 7   │ Yes        │ Medium rare │\n",
       "│ 8   │ Yes        │ Medium      │\n",
       "│ 9   │ Yes        │ Medium rare │\n",
       "│ 10  │ Yes        │ Medium rare │\n",
       "⋮\n",
       "│ 539 │ No         │ \u001b[90mmissing\u001b[39m     │\n",
       "│ 540 │ Yes        │ Medium      │\n",
       "│ 541 │ No         │ \u001b[90mmissing\u001b[39m     │\n",
       "│ 542 │ Yes        │ Medium rare │\n",
       "│ 543 │ Yes        │ Medium Well │\n",
       "│ 544 │ Yes        │ Medium Well │\n",
       "│ 545 │ Yes        │ Medium rare │\n",
       "│ 546 │ No         │ \u001b[90mmissing\u001b[39m     │\n",
       "│ 547 │ Yes        │ Medium rare │\n",
       "│ 548 │ No         │ \u001b[90mmissing\u001b[39m     │\n",
       "│ 549 │ Yes        │ Medium      │"
      ]
     },
     "execution_count": 19,
     "metadata": {},
     "output_type": "execute_result"
    }
   ],
   "source": [
    "df_steak = CSV.read(steak_file_loc, header=[:eats_steak, :how_cooked], copycols=true)"
   ]
  },
  {
   "cell_type": "code",
   "execution_count": 21,
   "metadata": {},
   "outputs": [
    {
     "data": {
      "text/html": [
       "<table class=\"data-frame\"><thead><tr><th></th><th>eats_steak</th><th>how_cooked</th></tr><tr><th></th><th>String⍰</th><th>String⍰</th></tr></thead><tbody><p>10 rows × 2 columns</p><tr><th>1</th><td>Yes</td><td>Medium rare</td></tr><tr><th>2</th><td>Yes</td><td>Rare</td></tr><tr><th>3</th><td>Yes</td><td>Medium</td></tr><tr><th>4</th><td>Yes</td><td>Medium</td></tr><tr><th>5</th><td>Yes</td><td>Medium rare</td></tr><tr><th>6</th><td>No</td><td>missing</td></tr><tr><th>7</th><td>Yes</td><td>Medium rare</td></tr><tr><th>8</th><td>Yes</td><td>Medium</td></tr><tr><th>9</th><td>Yes</td><td>Medium rare</td></tr><tr><th>10</th><td>Yes</td><td>Medium rare</td></tr></tbody></table>"
      ],
      "text/latex": [
       "\\begin{tabular}{r|cc}\n",
       "\t& eats\\_steak & how\\_cooked\\\\\n",
       "\t\\hline\n",
       "\t& String⍰ & String⍰\\\\\n",
       "\t\\hline\n",
       "\t1 & Yes & Medium rare \\\\\n",
       "\t2 & Yes & Rare \\\\\n",
       "\t3 & Yes & Medium \\\\\n",
       "\t4 & Yes & Medium \\\\\n",
       "\t5 & Yes & Medium rare \\\\\n",
       "\t6 & No &  \\\\\n",
       "\t7 & Yes & Medium rare \\\\\n",
       "\t8 & Yes & Medium \\\\\n",
       "\t9 & Yes & Medium rare \\\\\n",
       "\t10 & Yes & Medium rare \\\\\n",
       "\\end{tabular}\n"
      ],
      "text/plain": [
       "10×2 DataFrames.DataFrame\n",
       "│ Row │ eats_steak │ how_cooked  │\n",
       "│     │ \u001b[90mString⍰\u001b[39m    │ \u001b[90mString⍰\u001b[39m     │\n",
       "├─────┼────────────┼─────────────┤\n",
       "│ 1   │ Yes        │ Medium rare │\n",
       "│ 2   │ Yes        │ Rare        │\n",
       "│ 3   │ Yes        │ Medium      │\n",
       "│ 4   │ Yes        │ Medium      │\n",
       "│ 5   │ Yes        │ Medium rare │\n",
       "│ 6   │ No         │ \u001b[90mmissing\u001b[39m     │\n",
       "│ 7   │ Yes        │ Medium rare │\n",
       "│ 8   │ Yes        │ Medium      │\n",
       "│ 9   │ Yes        │ Medium rare │\n",
       "│ 10  │ Yes        │ Medium rare │"
      ]
     },
     "execution_count": 21,
     "metadata": {},
     "output_type": "execute_result"
    }
   ],
   "source": [
    "first(df_steak, 10)"
   ]
  },
  {
   "cell_type": "code",
   "execution_count": 24,
   "metadata": {},
   "outputs": [
    {
     "data": {
      "text/html": [
       "<table class=\"data-frame\"><thead><tr><th></th><th>eats_steak</th><th>how_cooked</th></tr><tr><th></th><th>String</th><th>String</th></tr></thead><tbody><p>430 rows × 2 columns</p><tr><th>1</th><td>Yes</td><td>Medium rare</td></tr><tr><th>2</th><td>Yes</td><td>Rare</td></tr><tr><th>3</th><td>Yes</td><td>Medium</td></tr><tr><th>4</th><td>Yes</td><td>Medium</td></tr><tr><th>5</th><td>Yes</td><td>Medium rare</td></tr><tr><th>6</th><td>Yes</td><td>Medium rare</td></tr><tr><th>7</th><td>Yes</td><td>Medium</td></tr><tr><th>8</th><td>Yes</td><td>Medium rare</td></tr><tr><th>9</th><td>Yes</td><td>Medium rare</td></tr><tr><th>10</th><td>Yes</td><td>Medium rare</td></tr><tr><th>11</th><td>Yes</td><td>Medium</td></tr><tr><th>12</th><td>Yes</td><td>Rare</td></tr><tr><th>13</th><td>Yes</td><td>Medium Well</td></tr><tr><th>14</th><td>Yes</td><td>Medium Well</td></tr><tr><th>15</th><td>Yes</td><td>Medium</td></tr><tr><th>16</th><td>Yes</td><td>Medium rare</td></tr><tr><th>17</th><td>Yes</td><td>Medium rare</td></tr><tr><th>18</th><td>Yes</td><td>Medium rare</td></tr><tr><th>19</th><td>Yes</td><td>Medium Well</td></tr><tr><th>20</th><td>Yes</td><td>Medium rare</td></tr><tr><th>21</th><td>Yes</td><td>Medium rare</td></tr><tr><th>22</th><td>Yes</td><td>Medium Well</td></tr><tr><th>23</th><td>Yes</td><td>Medium</td></tr><tr><th>24</th><td>Yes</td><td>Medium rare</td></tr><tr><th>25</th><td>Yes</td><td>Medium</td></tr><tr><th>26</th><td>Yes</td><td>Medium</td></tr><tr><th>27</th><td>Yes</td><td>Medium</td></tr><tr><th>28</th><td>Yes</td><td>Medium</td></tr><tr><th>29</th><td>Yes</td><td>Medium rare</td></tr><tr><th>30</th><td>Yes</td><td>Medium</td></tr><tr><th>&vellip;</th><td>&vellip;</td><td>&vellip;</td></tr></tbody></table>"
      ],
      "text/latex": [
       "\\begin{tabular}{r|cc}\n",
       "\t& eats\\_steak & how\\_cooked\\\\\n",
       "\t\\hline\n",
       "\t& String & String\\\\\n",
       "\t\\hline\n",
       "\t1 & Yes & Medium rare \\\\\n",
       "\t2 & Yes & Rare \\\\\n",
       "\t3 & Yes & Medium \\\\\n",
       "\t4 & Yes & Medium \\\\\n",
       "\t5 & Yes & Medium rare \\\\\n",
       "\t6 & Yes & Medium rare \\\\\n",
       "\t7 & Yes & Medium \\\\\n",
       "\t8 & Yes & Medium rare \\\\\n",
       "\t9 & Yes & Medium rare \\\\\n",
       "\t10 & Yes & Medium rare \\\\\n",
       "\t11 & Yes & Medium \\\\\n",
       "\t12 & Yes & Rare \\\\\n",
       "\t13 & Yes & Medium Well \\\\\n",
       "\t14 & Yes & Medium Well \\\\\n",
       "\t15 & Yes & Medium \\\\\n",
       "\t16 & Yes & Medium rare \\\\\n",
       "\t17 & Yes & Medium rare \\\\\n",
       "\t18 & Yes & Medium rare \\\\\n",
       "\t19 & Yes & Medium Well \\\\\n",
       "\t20 & Yes & Medium rare \\\\\n",
       "\t21 & Yes & Medium rare \\\\\n",
       "\t22 & Yes & Medium Well \\\\\n",
       "\t23 & Yes & Medium \\\\\n",
       "\t24 & Yes & Medium rare \\\\\n",
       "\t25 & Yes & Medium \\\\\n",
       "\t26 & Yes & Medium \\\\\n",
       "\t27 & Yes & Medium \\\\\n",
       "\t28 & Yes & Medium \\\\\n",
       "\t29 & Yes & Medium rare \\\\\n",
       "\t30 & Yes & Medium \\\\\n",
       "\t$\\dots$ & $\\dots$ & $\\dots$ \\\\\n",
       "\\end{tabular}\n"
      ],
      "text/plain": [
       "430×2 DataFrame\n",
       "│ Row │ eats_steak │ how_cooked  │\n",
       "│     │ \u001b[90mString\u001b[39m     │ \u001b[90mString\u001b[39m      │\n",
       "├─────┼────────────┼─────────────┤\n",
       "│ 1   │ Yes        │ Medium rare │\n",
       "│ 2   │ Yes        │ Rare        │\n",
       "│ 3   │ Yes        │ Medium      │\n",
       "│ 4   │ Yes        │ Medium      │\n",
       "│ 5   │ Yes        │ Medium rare │\n",
       "│ 6   │ Yes        │ Medium rare │\n",
       "│ 7   │ Yes        │ Medium      │\n",
       "│ 8   │ Yes        │ Medium rare │\n",
       "│ 9   │ Yes        │ Medium rare │\n",
       "│ 10  │ Yes        │ Medium rare │\n",
       "⋮\n",
       "│ 420 │ Yes        │ Medium Well │\n",
       "│ 421 │ Yes        │ Medium rare │\n",
       "│ 422 │ Yes        │ Medium rare │\n",
       "│ 423 │ Yes        │ Medium      │\n",
       "│ 424 │ Yes        │ Medium      │\n",
       "│ 425 │ Yes        │ Medium rare │\n",
       "│ 426 │ Yes        │ Medium Well │\n",
       "│ 427 │ Yes        │ Medium Well │\n",
       "│ 428 │ Yes        │ Medium rare │\n",
       "│ 429 │ Yes        │ Medium rare │\n",
       "│ 430 │ Yes        │ Medium      │"
      ]
     },
     "execution_count": 24,
     "metadata": {},
     "output_type": "execute_result"
    }
   ],
   "source": [
    "dropmissing!(df_steak)"
   ]
  },
  {
   "cell_type": "code",
   "execution_count": 44,
   "metadata": {},
   "outputs": [
    {
     "data": {
      "text/plain": [
       "5-element Array{Int64,1}:\n",
       " 2\n",
       " 1\n",
       " 3\n",
       " 4\n",
       " 5"
      ]
     },
     "execution_count": 44,
     "metadata": {},
     "output_type": "execute_result"
    }
   ],
   "source": [
    "nb_preferences = unique(df_steak[:, :how_cooked])\n",
    "nb_preferences_ids = [2, 1, 3, 4, 5]"
   ]
  },
  {
   "cell_type": "code",
   "execution_count": 26,
   "metadata": {},
   "outputs": [
    {
     "data": {
      "text/html": [
       "<table class=\"data-frame\"><thead><tr><th></th><th>how_cooked</th><th>total_eaters</th></tr><tr><th></th><th>String</th><th>Int64</th></tr></thead><tbody><p>5 rows × 2 columns</p><tr><th>1</th><td>Medium rare</td><td>166</td></tr><tr><th>2</th><td>Rare</td><td>23</td></tr><tr><th>3</th><td>Medium</td><td>132</td></tr><tr><th>4</th><td>Medium Well</td><td>74</td></tr><tr><th>5</th><td>Well</td><td>35</td></tr></tbody></table>"
      ],
      "text/latex": [
       "\\begin{tabular}{r|cc}\n",
       "\t& how\\_cooked & total\\_eaters\\\\\n",
       "\t\\hline\n",
       "\t& String & Int64\\\\\n",
       "\t\\hline\n",
       "\t1 & Medium rare & 166 \\\\\n",
       "\t2 & Rare & 23 \\\\\n",
       "\t3 & Medium & 132 \\\\\n",
       "\t4 & Medium Well & 74 \\\\\n",
       "\t5 & Well & 35 \\\\\n",
       "\\end{tabular}\n"
      ],
      "text/plain": [
       "5×2 DataFrame\n",
       "│ Row │ how_cooked  │ total_eaters │\n",
       "│     │ \u001b[90mString\u001b[39m      │ \u001b[90mInt64\u001b[39m        │\n",
       "├─────┼─────────────┼──────────────┤\n",
       "│ 1   │ Medium rare │ 166          │\n",
       "│ 2   │ Rare        │ 23           │\n",
       "│ 3   │ Medium      │ 132          │\n",
       "│ 4   │ Medium Well │ 74           │\n",
       "│ 5   │ Well        │ 35           │"
      ]
     },
     "execution_count": 26,
     "metadata": {},
     "output_type": "execute_result"
    }
   ],
   "source": [
    "df_prefs = by(df_steak, :how_cooked, total_eaters=:how_cooked => col -> length(col))"
   ]
  },
  {
   "cell_type": "code",
   "execution_count": 30,
   "metadata": {},
   "outputs": [
    {
     "data": {
      "text/html": [
       "<table class=\"data-frame\"><thead><tr><th></th><th>how_cooked</th><th>total_eaters</th></tr><tr><th></th><th>String</th><th>Int64</th></tr></thead><tbody><p>5 rows × 2 columns</p><tr><th>1</th><td>Medium rare</td><td>166</td></tr><tr><th>2</th><td>Rare</td><td>23</td></tr><tr><th>3</th><td>Medium</td><td>132</td></tr><tr><th>4</th><td>Medium Well</td><td>74</td></tr><tr><th>5</th><td>Well</td><td>35</td></tr></tbody></table>"
      ],
      "text/latex": [
       "\\begin{tabular}{r|cc}\n",
       "\t& how\\_cooked & total\\_eaters\\\\\n",
       "\t\\hline\n",
       "\t& String & Int64\\\\\n",
       "\t\\hline\n",
       "\t1 & Medium rare & 166 \\\\\n",
       "\t2 & Rare & 23 \\\\\n",
       "\t3 & Medium & 132 \\\\\n",
       "\t4 & Medium Well & 74 \\\\\n",
       "\t5 & Well & 35 \\\\\n",
       "\\end{tabular}\n"
      ],
      "text/plain": [
       "5×2 DataFrame\n",
       "│ Row │ how_cooked  │ total_eaters │\n",
       "│     │ \u001b[90mString\u001b[39m      │ \u001b[90mInt64\u001b[39m        │\n",
       "├─────┼─────────────┼──────────────┤\n",
       "│ 1   │ Medium rare │ 166          │\n",
       "│ 2   │ Rare        │ 23           │\n",
       "│ 3   │ Medium      │ 132          │\n",
       "│ 4   │ Medium Well │ 74           │\n",
       "│ 5   │ Well        │ 35           │"
      ]
     },
     "execution_count": 30,
     "metadata": {},
     "output_type": "execute_result"
    }
   ],
   "source": [
    "df_prefs = by(df_steak, :how_cooked, nrow)\n",
    "rename!(df_prefs, :x1 => :total_eaters)"
   ]
  },
  {
   "cell_type": "code",
   "execution_count": 42,
   "metadata": {},
   "outputs": [
    {
     "data": {
      "image/png": "[encoded data removed]",
      "text/plain": [
       "Figure(PyObject <Figure size 640x480 with 1 Axes>)"
      ]
     },
     "metadata": {},
     "output_type": "display_data"
    },
    {
     "data": {
      "text/plain": [
       "PyObject Text(0.5, 1, 'how do you like your steak')"
      ]
     },
     "execution_count": 42,
     "metadata": {},
     "output_type": "execute_result"
    }
   ],
   "source": [
    "figure()\n",
    "barh(1:nrow(df_prefs), df_prefs[:, :total_eaters])\n",
    "yticks(1:nrow(df_prefs), df_prefs[:, :how_cooked])\n",
    "xlabel(\"# eaters\")\n",
    "title(\"how do you like your steak\")"
   ]
  },
  {
   "cell_type": "code",
   "execution_count": null,
   "metadata": {},
   "outputs": [],
   "source": []
  }
 ],
 "metadata": {
  "kernelspec": {
   "display_name": "Julia 1.2.0",
   "language": "julia",
   "name": "julia-1.2"
  },
  "language_info": {
   "file_extension": ".jl",
   "mimetype": "application/julia",
   "name": "julia",
   "version": "1.2.0"
  },
  "toc": {
   "base_numbering": 1,
   "nav_menu": {},
   "number_sections": true,
   "sideBar": true,
   "skip_h1_title": false,
   "title_cell": "Table of Contents",
   "title_sidebar": "Contents",
   "toc_cell": false,
   "toc_position": {},
   "toc_section_display": true,
   "toc_window_display": false
  }
 },
 "nbformat": 4,
 "nbformat_minor": 2
}
