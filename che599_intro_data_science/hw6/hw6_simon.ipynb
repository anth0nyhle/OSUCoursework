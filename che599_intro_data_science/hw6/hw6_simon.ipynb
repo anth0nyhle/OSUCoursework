{
 "cells": [
  {
   "cell_type": "markdown",
   "metadata": {},
   "source": [
    "# hw 6: estimators\n",
    "learning objectives:\n",
    "* solidify \"what is an estimator\"\n",
    "* evaluate the effectiveness of an estimator computationally (through simulation)\n",
    "* understand the notion of unbiasedness, consistency, and efficiency of an estimator and evaluate these qualities computationally (through simulation)"
   ]
  },
  {
   "cell_type": "code",
   "execution_count": 1,
   "metadata": {},
   "outputs": [],
   "source": [
    "using StatsBase, Random, Statistics, PyPlot"
   ]
  },
  {
   "cell_type": "markdown",
   "metadata": {},
   "source": [
    "### what is the most important problem in your field?\n",
    "\n",
    "(0) It is important to effectively communicate with people from different fields. Introduce yourself to someone in the class from a different field of study (someone you haven't met). Ask them, \"what is the most important problem in your field of study?\". Then, argue/explain what you think is the most important problem in *your* field of study.\n",
    "\n",
    "Write the name of the student you spoke with and their field of study.\n",
    "\n",
    "I'd also be interested to read about what you think is the most important problem in your field (a few sentences), but this is not required.\n",
    "\n",
    "(\"field of study\" can be as general as \"chemistry\" or as specific as \"self-assembly of nanoparticles\".)"
   ]
  },
  {
   "cell_type": "markdown",
   "metadata": {},
   "source": [
    "### counting\n",
    "(1) A biologist takes a random sample of six fish from a lake. The lake has ten distinct species of fish. It is possible for the biologist to select more than one fish of any given species. e.g., one outcome is: one fish of species $X$, two fish of species $Y$, and four fish of species $Z$. How many different samples could the biologist draw from the lake?\n",
    "* the sampling is done without replacement, but this is irrelevant since the lake contains more than six fish of each species\n",
    "* the order in which the fish are sampled does not matter\n",
    "* fish of a given species are indistinguishable\n",
    "\n",
    "**solution:** this combinatorics problem can be solved with the stars and bars formulation. here, the stars are the six fish, while the bars separate groups of fish according to their species. we need 9 bars to represent the partitioning of fish among 10 bins representing the different species.\n",
    "\n",
    "For example, the following stars and bars formulation represents the outcome: 1 fish of species 1, 2 fish of species 2, 2 fish of species 4, and 1 fish of species 9:\n",
    "\n",
    " $* | ** | | ** | | | | | * | $\n",
    "\n",
    "the number of possible distributions of the fish species among the six samples is equal to the number of ways to permute the [indistinguishable] stars and bars, which is:\n",
    "\n",
    "$\\dfrac{(6+9)!}{6!9!} = 5005$"
   ]
  },
  {
   "cell_type": "markdown",
   "metadata": {},
   "source": [
    "### capture, mark, release, recapture\n",
    "\n",
    "In ecology, one wishes to estimate the size of a population (e.g. turtles). It is too costly and impractical to count *every* member of a population. One strategy is to:\n",
    "1. capture a random sample from the population, without replacement\n",
    "2. mark/tag each member of this random sample\n",
    "3. release the marked sample back into the population\n",
    "4. after sufficient time has passed, recapture another sample\n",
    "5. count the number of marked members from the recaptured sample\n",
    "\n",
    "We assume that:\n",
    "* when the captured and marked sample is released back into the wild, they randomly (homogenously) mix with the rest of the (unmarked) population before we recapture\n",
    "* marking a member of the population does not change its likelihood of being recaptured\n",
    "* the time between capture/mark/release and recapture/count is short enough to neglect deaths, births, and migration out of the population\n",
    "\n",
    "define the variables:\n",
    "* $n$: the total number of turtles in the population (unknown)\n",
    "* $k$: number of turtles captured, marked, and released in the first phase\n",
    "* $k_r$: number of turtles recaptured\n",
    "* $m$: the number of recaptured turtles that had marks on them\n",
    "\n",
    "##### Lincoln-Petersen estimator\n",
    "A very intuitive estimator is found by imposing that the proportion found marked in the recaptured sample is equal to the proportion of the population that was captured/marked/released in the first phase.\n",
    "\n",
    "\\begin{equation}\n",
    "\\frac{k}{n}=\\frac{m}{k_r}\n",
    "\\end{equation}\n",
    "\n",
    "giving the Lincoln-Petersen estimator for the population size $n$:\n",
    "\\begin{equation}\n",
    "\\hat{n} = \\frac{k k_r}{m}\n",
    "\\end{equation}\n",
    "\n",
    "##### Chapmen estimator\n",
    "Chapmen derived a different estimator that we will compare to the Lincoln-Petersen estimator below.\n",
    "\\begin{equation}\n",
    "\\hat{n} = \\frac{(k + 1) (k_r +1)}{m+1} - 1\n",
    "\\end{equation}\n",
    "\n",
    "#### estimating the population of turtles on a small island\n",
    "We wish to estimate the population of turtles on a small island by a capture, mark, release, and recapture strategy.\n",
    "\n",
    "(2) create a mutable data structure `Turtle` that represents a turtle in the population. It should have a single attribute, `marked`, that indicates whether it has been marked or not."
   ]
  },
  {
   "cell_type": "code",
   "execution_count": 2,
   "metadata": {},
   "outputs": [],
   "source": [
    "mutable struct Turtle\n",
    "    marked::Bool\n",
    "end"
   ]
  },
  {
   "cell_type": "markdown",
   "metadata": {},
   "source": [
    "(3) write a function `create_population(nb_turtles::Int)` that creates a population of `nb_turtles` unmarked `Turtle`s. return the turtles as an `Array{Turtle}`."
   ]
  },
  {
   "cell_type": "code",
   "execution_count": 3,
   "metadata": {
    "scrolled": false
   },
   "outputs": [
    {
     "data": {
      "text/plain": [
       "500-element Array{Turtle,1}:\n",
       " Turtle(false)\n",
       " Turtle(false)\n",
       " Turtle(false)\n",
       " Turtle(false)\n",
       " Turtle(false)\n",
       " Turtle(false)\n",
       " Turtle(false)\n",
       " Turtle(false)\n",
       " Turtle(false)\n",
       " Turtle(false)\n",
       " Turtle(false)\n",
       " Turtle(false)\n",
       " Turtle(false)\n",
       " ⋮            \n",
       " Turtle(false)\n",
       " Turtle(false)\n",
       " Turtle(false)\n",
       " Turtle(false)\n",
       " Turtle(false)\n",
       " Turtle(false)\n",
       " Turtle(false)\n",
       " Turtle(false)\n",
       " Turtle(false)\n",
       " Turtle(false)\n",
       " Turtle(false)\n",
       " Turtle(false)"
      ]
     },
     "execution_count": 3,
     "metadata": {},
     "output_type": "execute_result"
    }
   ],
   "source": [
    "function create_population(nb_turtles::Int)\n",
    "    return [Turtle(false) for i = 1:nb_turtles]\n",
    "end\n",
    "\n",
    "turtles = create_population(500)"
   ]
  },
  {
   "cell_type": "markdown",
   "metadata": {},
   "source": [
    "(4) write a function `count_marked(turtles::Array{Turtle})` that takes in a population of turtles and returns the number of these turtles that are marked. \n",
    "\n",
    "```julia\n",
    "turtles = create_population(500)\n",
    "count_marked(turtles) # should return zero\n",
    "```"
   ]
  },
  {
   "cell_type": "code",
   "execution_count": 4,
   "metadata": {},
   "outputs": [
    {
     "data": {
      "text/plain": [
       "0"
      ]
     },
     "execution_count": 4,
     "metadata": {},
     "output_type": "execute_result"
    }
   ],
   "source": [
    "function count_marked(turtles::Array{Turtle})\n",
    "    nb_marked = 0\n",
    "    for t in turtles\n",
    "        if t.marked\n",
    "            nb_marked += 1\n",
    "        end\n",
    "    end\n",
    "    return nb_marked\n",
    "end\n",
    "\n",
    "count_marked(turtles)"
   ]
  },
  {
   "cell_type": "markdown",
   "metadata": {},
   "source": [
    "(5) write a function `capture_mark_release!` that takes in two arguments:\n",
    "* `turtles::Array{Turtle}` the population of turtles\n",
    "* `nb_capture_mark_release::Int` the number of turtles to randomly capture (select without replacement) and mark\n",
    "\n",
    "and modifies the `marked` attribute of `nb_capture_mark_release` randomly selected turtles in `turtles` to denote that they have been marked. think about why the function has an `!`.\n",
    "\n",
    "```julia\n",
    "turtles = create_population(500)\n",
    "capture_mark_release!(turtles, 45)\n",
    "count_marked(turtles) # should return 45\n",
    "```"
   ]
  },
  {
   "cell_type": "code",
   "execution_count": 5,
   "metadata": {},
   "outputs": [
    {
     "data": {
      "text/plain": [
       "45"
      ]
     },
     "execution_count": 5,
     "metadata": {},
     "output_type": "execute_result"
    }
   ],
   "source": [
    "function capture_mark_release!(turtles::Array{Turtle}, nb_capture_mark_release::Int)\n",
    "    for t in sample(1:length(turtles), nb_capture_mark_release, replace=false)\n",
    "        turtles[t].marked = true\n",
    "    end\n",
    "end\n",
    "\n",
    "turtles = create_population(500)\n",
    "capture_mark_release!(turtles, 45)\n",
    "count_marked(turtles) # should return 45"
   ]
  },
  {
   "cell_type": "markdown",
   "metadata": {},
   "source": [
    "(6) write a function `recapture(turtles::Array{Turtle}, nb_recapture::Int)` that returns a random sample (without replacement) of `nb_recapture` turtles from `turtles` in the form of an `Array{Turtle}`.\n",
    "\n",
    "```julia\n",
    "turtles = create_population(500)\n",
    "capture_mark_release!(turtles, 45)\n",
    "recaptured_turtles = recapture(turtles, 50) # should return Array{Turtle} with 50 elements\n",
    "```"
   ]
  },
  {
   "cell_type": "code",
   "execution_count": 6,
   "metadata": {},
   "outputs": [
    {
     "data": {
      "text/plain": [
       "50-element Array{Turtle,1}:\n",
       " Turtle(false)\n",
       " Turtle(false)\n",
       " Turtle(false)\n",
       " Turtle(false)\n",
       " Turtle(false)\n",
       " Turtle(false)\n",
       " Turtle(false)\n",
       " Turtle(false)\n",
       " Turtle(false)\n",
       " Turtle(false)\n",
       " Turtle(false)\n",
       " Turtle(false)\n",
       " Turtle(true) \n",
       " ⋮            \n",
       " Turtle(false)\n",
       " Turtle(false)\n",
       " Turtle(true) \n",
       " Turtle(true) \n",
       " Turtle(false)\n",
       " Turtle(false)\n",
       " Turtle(false)\n",
       " Turtle(false)\n",
       " Turtle(false)\n",
       " Turtle(false)\n",
       " Turtle(false)\n",
       " Turtle(false)"
      ]
     },
     "execution_count": 6,
     "metadata": {},
     "output_type": "execute_result"
    }
   ],
   "source": [
    "function recapture(turtles::Array{Turtle}, nb_recapture::Int)\n",
    "    return sample(turtles, nb_recapture, replace=false)\n",
    "end\n",
    "\n",
    "turtles = create_population(500)\n",
    "capture_mark_release!(turtles, 45)\n",
    "recaptured_turtles = recapture(turtles, 50) # should return Array{Turtle} with 50 elements"
   ]
  },
  {
   "cell_type": "markdown",
   "metadata": {},
   "source": [
    "(7) write two functions, one for each estimator:\n",
    "\n",
    "* `chapman_estimator(nb_capture_mark_release::Int, nb_recapture::Int, nb_marked_in_recaptured::Int)`\n",
    "* `lincoln_petersen_estimator(nb_capture_mark_release::Int, nb_recapture::Int, nb_marked_in_recaptured::Int)`\n",
    "\n",
    "that each take in the entire population of turtles (marked and unmarked), `turtles`, and the array of recaptured turtles, `recaptured_turtles`, and returns the respective estimate $\\hat{n}$ of the number of turtles. here, `nb_capture_mark_release` is $k$, `nb_recapture` is $k_r$, and `nb_marked_in_recaptured` is $m$."
   ]
  },
  {
   "cell_type": "code",
   "execution_count": 7,
   "metadata": {},
   "outputs": [
    {
     "data": {
      "text/plain": [
       "lincoln_petersen_estimator (generic function with 1 method)"
      ]
     },
     "execution_count": 7,
     "metadata": {},
     "output_type": "execute_result"
    }
   ],
   "source": [
    "function chapman_estimator(nb_capture_mark_release::Int, nb_recapture::Int, \n",
    "        nb_marked_in_recaptured::Int)\n",
    "    return (nb_capture_mark_release + 1) * (nb_recapture + 1) / (nb_marked_in_recaptured + 1) - 1\n",
    "\n",
    "end\n",
    "\n",
    "function lincoln_petersen_estimator(nb_capture_mark_release::Int, nb_recapture::Int, \n",
    "        nb_marked_in_recaptured::Int)\n",
    "    return nb_capture_mark_release * nb_recapture / nb_marked_in_recaptured\n",
    "end"
   ]
  },
  {
   "cell_type": "markdown",
   "metadata": {},
   "source": [
    "(8) write a function `sim_capture_mark_release_recapture` that takes in:\n",
    "\n",
    "* `nb_turtles::Int` $=n$\n",
    "* `nb_capture_mark_release::Int` $=k$\n",
    "* `nb_recapture::Int` $=k_r$\n",
    "* `estimator::Function` either `chapman_estimator` or `lincoln_peterson_estimator` that you wrote above\n",
    "\n",
    "and returns $\\hat{n}$, the estimate of the number of turtles in this simulation.\n",
    "\n",
    "use all of the functions you wrote above.\n",
    "\n",
    "```julia\n",
    "nb_turtles = 200\n",
    "nb_capture_mark_release = 50\n",
    "nb_recapture = 42\n",
    "estimator = lincoln_petersen_estimator\n",
    "n̂ = sim_capture_mark_release_recapture(nb_turtles, nb_capture_mark_release, \n",
    "                                            nb_recapture, estimator)\n",
    "```"
   ]
  },
  {
   "cell_type": "code",
   "execution_count": 8,
   "metadata": {},
   "outputs": [
    {
     "data": {
      "text/plain": [
       "175.0"
      ]
     },
     "execution_count": 8,
     "metadata": {},
     "output_type": "execute_result"
    }
   ],
   "source": [
    "function sim_capture_mark_release_recapture(nb_turtles::Int, nb_capture_mark_release::Int, \n",
    "                                            nb_recapture::Int, estimator::Function) \n",
    "    # create turtle population\n",
    "    turtles = create_population(nb_turtles)\n",
    "    \n",
    "    # randomly capture, mark, and release\n",
    "    capture_mark_release!(turtles, nb_capture_mark_release)\n",
    "    \n",
    "    # recapture\n",
    "    recaptured_turtles = recapture(turtles, nb_recapture)\n",
    "    \n",
    "    # count number of marked in recaptured sample\n",
    "    nb_marked_in_recaptured = count_marked(recaptured_turtles)\n",
    "    \n",
    "    # estimate the number of turtles\n",
    "    n̂ = estimator(nb_capture_mark_release, nb_recapture, nb_marked_in_recaptured)\n",
    "    return n̂\n",
    "end\n",
    "\n",
    "nb_turtles = 200\n",
    "nb_capture_mark_release = 50\n",
    "nb_recapture = 42\n",
    "estimator = lincoln_petersen_estimator\n",
    "n̂ = sim_capture_mark_release_recapture(nb_turtles, nb_capture_mark_release, \n",
    "                                            nb_recapture, estimator) "
   ]
  },
  {
   "cell_type": "markdown",
   "metadata": {},
   "source": [
    "(9) evaluate/compare the biasedness of the Chapman and Lincoln-Peterson estimators by plotting the distribution of $\\hat{n}$ over many capture, mark, release, recapture simulations. Label which histogram corresponds to which estimator (in a legend if in the same histogram panel or in a title if in two subplots). plot as a vertical line the true number of turtles for comparison. print off the average and standard deviation of $\\hat{n}$ over the simulations."
   ]
  },
  {
   "cell_type": "code",
   "execution_count": 9,
   "metadata": {},
   "outputs": [
    {
     "data": {
      "text/plain": [
       "5000"
      ]
     },
     "execution_count": 9,
     "metadata": {},
     "output_type": "execute_result"
    }
   ],
   "source": [
    "nb_turtles = 200\n",
    "nb_capture_mark_release = 50\n",
    "nb_recapture = 42\n",
    "estimators = [chapman_estimator, lincoln_petersen_estimator]\n",
    "estimator_names = [\"Chapman\", \"Lincoln-Petersen\"]\n",
    "\n",
    "nb_sims = 5000 # number of simulations"
   ]
  },
  {
   "cell_type": "code",
   "execution_count": 10,
   "metadata": {
    "scrolled": false
   },
   "outputs": [
    {
     "name": "stdout",
     "output_type": "stream",
     "text": [
      "estimator: Chapman\n",
      "\t⟨n̂⟩ = 199.45476992489967\n",
      "\tstd(n̂) = 50.249374633597256\n",
      "estimator: "
     ]
    },
    {
     "data": {
      "image/png": "[encoded data removed]",
      "text/plain": [
       "Figure(PyObject <Figure size 640x480 with 1 Axes>)"
      ]
     },
     "metadata": {},
     "output_type": "display_data"
    },
    {
     "name": "stdout",
     "output_type": "stream",
     "text": [
      "Lincoln-Petersen\n",
      "\t⟨n̂⟩ = 214.82414364531246\n",
      "\tstd(n̂) = 64.47435120000806\n"
     ]
    },
    {
     "data": {
      "text/plain": [
       "PyObject <matplotlib.legend.Legend object at 0x7f4d7eb89320>"
      ]
     },
     "execution_count": 10,
     "metadata": {},
     "output_type": "execute_result"
    }
   ],
   "source": [
    "figure()\n",
    "xlabel(\"estimated # turtles\")\n",
    "ylabel(\"density\")\n",
    "axvline(x=nb_turtles, color=\"k\")\n",
    "\n",
    "n̂s = [NaN for s = 1:nb_sims]\n",
    "for (e, estimator) in enumerate(estimators)\n",
    "    for s = 1:nb_sims\n",
    "        n̂s[s] = sim_capture_mark_release_recapture(nb_turtles, nb_capture_mark_release, \n",
    "                                                   nb_recapture, estimator)\n",
    "    end\n",
    "    println(\"estimator: \", estimator_names[e])\n",
    "    println(\"\\t⟨n̂⟩ = \", mean(n̂s))\n",
    "    println(\"\\tstd(n̂) = \", std(n̂s))\n",
    "    \n",
    "    hist(n̂s, label=estimator_names[e], alpha=0.4, density=true)\n",
    "end\n",
    "legend()"
   ]
  },
  {
   "cell_type": "markdown",
   "metadata": {},
   "source": [
    "(10) comment on which estimator, Chapman or Lincoln-Petersen, that appears to be most unbiased.\n",
    "\n",
    "The Chapman estimator appears to be unbiased; the Lincoln-Peterson estimator appears to be biased since the average estimated number of turtles among the simulations is not equal to the true number of turtles."
   ]
  },
  {
   "cell_type": "markdown",
   "metadata": {},
   "source": [
    "(11) evaluate the consistency of the Chapman estimator by plotting the simulated distribution of $\\hat{n}$ for several different values of `nb_recapture`."
   ]
  },
  {
   "cell_type": "code",
   "execution_count": 11,
   "metadata": {},
   "outputs": [
    {
     "name": "stdout",
     "output_type": "stream",
     "text": [
      "k_r = 50\n",
      "\t⟨n̂⟩ = 199.3530261722716\n",
      "\tstd(n̂) = 44.21091514991119\n",
      "k_r = 75\n",
      "\t⟨n̂⟩ = 199.83690411432767\n",
      "\tstd(n̂) = 32.13587711829534\n",
      "k_r = 100\n",
      "\t⟨n̂⟩ = 200.04796705856774\n",
      "\tstd(n̂) = 24.733372352839\n",
      "k_r = 125\n",
      "\t⟨n̂⟩ = 200.20356145776267\n",
      "\tstd(n̂) = 18.560659099819684\n"
     ]
    },
    {
     "data": {
      "image/png": "[encoded data removed]",
      "text/plain": [
       "Figure(PyObject <Figure size 640x480 with 1 Axes>)"
      ]
     },
     "metadata": {},
     "output_type": "display_data"
    },
    {
     "name": "stdout",
     "output_type": "stream",
     "text": [
      "k_r = 150\n",
      "\t⟨n̂⟩ = 200.07870089279345\n",
      "\tstd(n̂) = 14.016965992080152\n"
     ]
    },
    {
     "data": {
      "text/plain": [
       "PyObject <matplotlib.legend.Legend object at 0x7f4d77a6ad30>"
      ]
     },
     "execution_count": 11,
     "metadata": {},
     "output_type": "execute_result"
    }
   ],
   "source": [
    "color_norm = PyPlot.matplotlib.colors.Normalize(vmin=50, vmax=150)\n",
    "kr_to_color = PyPlot.cm.ScalarMappable(norm=color_norm, cmap=get_cmap(\"viridis\")).to_rgba\n",
    "\n",
    "figure()\n",
    "for nb_recapture in 50:25:150\n",
    "    for s = 1:nb_sims\n",
    "        n̂s[s] = sim_capture_mark_release_recapture(nb_turtles, nb_capture_mark_release, \n",
    "                                                   nb_recapture, chapman_estimator)\n",
    "    end\n",
    "    println(\"k_r = \", nb_recapture)\n",
    "    println(\"\\t⟨n̂⟩ = \", mean(n̂s))\n",
    "    println(\"\\tstd(n̂) = \", std(n̂s))\n",
    "    \n",
    "    hist(n̂s, label=\"# recapture = $nb_recapture\", alpha=0.4, \n",
    "        density=true, color=kr_to_color(nb_recapture))\n",
    "end\n",
    "xlabel(\"estimated # turtles\")\n",
    "ylabel(\"density\")\n",
    "legend()"
   ]
  },
  {
   "cell_type": "markdown",
   "metadata": {},
   "source": [
    "the Chapman estimator appears to be consistent because the density concentrates on the true number of turtles as we increase the number of recaptured turtles. to support this conclusion (in addition to the visual histogram), the standard deviation of the estimated number of turtles decreases as the number of recaptured turtles increases."
   ]
  }
 ],
 "metadata": {
  "@webio": {
   "lastCommId": null,
   "lastKernelId": null
  },
  "kernelspec": {
   "display_name": "Julia 1.3.0",
   "language": "julia",
   "name": "julia-1.3"
  },
  "language_info": {
   "file_extension": ".jl",
   "mimetype": "application/julia",
   "name": "julia",
   "version": "1.3.0"
  }
 },
 "nbformat": 4,
 "nbformat_minor": 2
}
