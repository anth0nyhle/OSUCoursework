{
 "cells": [
  {
   "cell_type": "markdown",
   "metadata": {},
   "source": [
    "# HW 1: Monte Carlo simulation of the Monte Hall problem\n",
    "\n",
    "CHE 599: Intro to Data Science for Engineers  \n",
    "Created by: Anthony H. Le  \n",
    "Due 7 Oct 2019"
   ]
  },
  {
   "cell_type": "code",
   "execution_count": 2,
   "metadata": {},
   "outputs": [],
   "source": [
    "using Random # for the 'shuffle!' function\n",
    "using StatsBase # for the 'sample' function"
   ]
  },
  {
   "cell_type": "code",
   "execution_count": 3,
   "metadata": {},
   "outputs": [],
   "source": [
    "mutable struct Door\n",
    "    opened_isgoat::Bool\n",
    "    behind_door::String\n",
    "end"
   ]
  },
  {
   "cell_type": "code",
   "execution_count": 7,
   "metadata": {},
   "outputs": [
    {
     "data": {
      "text/plain": [
       "3-element Array{Door,1}:\n",
       " Door(false, \"car\") \n",
       " Door(false, \"goat\")\n",
       " Door(false, \"goat\")"
      ]
     },
     "execution_count": 7,
     "metadata": {},
     "output_type": "execute_result"
    }
   ],
   "source": [
    "function set_up_doors!()\n",
    "    setup = [Door(0, \"goat\"), Door(0, \"goat\"), Door(0, \"car\")]\n",
    "    setup = shuffle!(setup)\n",
    "    return setup\n",
    "end\n",
    "setup = set_up_doors!()"
   ]
  },
  {
   "cell_type": "code",
   "execution_count": 8,
   "metadata": {},
   "outputs": [
    {
     "data": {
      "text/plain": [
       "1"
      ]
     },
     "execution_count": 8,
     "metadata": {},
     "output_type": "execute_result"
    }
   ],
   "source": [
    "function pick_a_door_at_random()\n",
    "    choices = [1, 2, 3]\n",
    "    id = sample(choices, 1, replace=false)\n",
    "    return id[1]\n",
    "end\n",
    "pick_id = pick_a_door_at_random!()"
   ]
  },
  {
   "cell_type": "code",
   "execution_count": 6,
   "metadata": {},
   "outputs": [
    {
     "data": {
      "text/plain": [
       "open_a_door! (generic function with 1 method)"
      ]
     },
     "execution_count": 6,
     "metadata": {},
     "output_type": "execute_result"
    }
   ],
   "source": [
    "function open_a_door(doors::Array{Door}, first_door_id_pick::Int64)\n",
    "    picked_door = doors[first_door_id_pick]\n",
    "    if picked_door.opened_isgoat == 1\n",
    "        println(\"Door $first_door_id_pick has already been picked. Pick another door!\")\n",
    "        return doors\n",
    "    elseif \n",
    "        \n",
    "    end\n",
    "    \n",
    "end"
   ]
  },
  {
   "cell_type": "code",
   "execution_count": null,
   "metadata": {},
   "outputs": [],
   "source": []
  },
  {
   "cell_type": "code",
   "execution_count": 12,
   "metadata": {},
   "outputs": [
    {
     "data": {
      "text/plain": [
       "switch_door_pick (generic function with 1 method)"
      ]
     },
     "execution_count": 12,
     "metadata": {},
     "output_type": "execute_result"
    }
   ],
   "source": [
    "function switch_door_pick(doors::Array{Door}, first_door_id_pick::Int64)\n",
    "    \n",
    "end"
   ]
  },
  {
   "cell_type": "code",
   "execution_count": 7,
   "metadata": {},
   "outputs": [
    {
     "data": {
      "text/plain": [
       "contestant_wins_car (generic function with 1 method)"
      ]
     },
     "execution_count": 7,
     "metadata": {},
     "output_type": "execute_result"
    }
   ],
   "source": [
    "function contestant_wins_car(doors::Array{Door}, door_id_pick::Int64)\n",
    "    \n",
    "end"
   ]
  },
  {
   "cell_type": "code",
   "execution_count": 8,
   "metadata": {},
   "outputs": [
    {
     "data": {
      "text/plain": [
       "simulate_Monte_Hall (generic function with 1 method)"
      ]
     },
     "execution_count": 8,
     "metadata": {},
     "output_type": "execute_result"
    }
   ],
   "source": [
    "function simulate_Monte_Hall(switch::Bool; verbose::Bool=true)\n",
    "    \n",
    "end"
   ]
  },
  {
   "cell_type": "code",
   "execution_count": 9,
   "metadata": {},
   "outputs": [],
   "source": [
    "nb_sims = 1000\n",
    "for s = 1:nb_sims\n",
    "    simulate_Monte_Hall(false, verbose=false)\n",
    "    simulate_Monte_Hall(true, verbose=false)\n",
    "    \n",
    "end"
   ]
  }
 ],
 "metadata": {
  "kernelspec": {
   "display_name": "Julia 1.2.0",
   "language": "julia",
   "name": "julia-1.2"
  },
  "language_info": {
   "file_extension": ".jl",
   "mimetype": "application/julia",
   "name": "julia",
   "version": "1.2.0"
  },
  "toc": {
   "base_numbering": 1,
   "nav_menu": {
    "height": "109px",
    "width": "370px"
   },
   "number_sections": false,
   "sideBar": true,
   "skip_h1_title": true,
   "title_cell": "Table of Contents",
   "title_sidebar": "Contents",
   "toc_cell": false,
   "toc_position": {},
   "toc_section_display": true,
   "toc_window_display": false
  }
 },
 "nbformat": 4,
 "nbformat_minor": 2
}
