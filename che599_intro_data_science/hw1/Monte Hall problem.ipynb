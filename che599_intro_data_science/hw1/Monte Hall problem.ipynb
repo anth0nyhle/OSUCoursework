{
 "cells": [
  {
   "cell_type": "markdown",
   "metadata": {},
   "source": [
    "# Monte Carlo simulation of the Monte Hall problem"
   ]
  },
  {
   "cell_type": "code",
   "execution_count": 1,
   "metadata": {},
   "outputs": [
    {
     "name": "stderr",
     "output_type": "stream",
     "text": [
      "┌ Info: Recompiling stale cache file /home/simoncor/.julia/compiled/v1.2/StatsBase/EZjIG.ji for StatsBase [2913bbd2-ae8a-5f71-8c99-4fb6c76f3a91]\n",
      "└ @ Base loading.jl:1240\n"
     ]
    }
   ],
   "source": [
    "using Random # for shuffle!\n",
    "using StatsBase # for sample"
   ]
  },
  {
   "cell_type": "markdown",
   "metadata": {},
   "source": [
    "for simplicity, define the two types of items that can be behind a door"
   ]
  },
  {
   "cell_type": "code",
   "execution_count": 2,
   "metadata": {},
   "outputs": [
    {
     "data": {
      "text/plain": [
       ":car"
      ]
     },
     "execution_count": 2,
     "metadata": {},
     "output_type": "execute_result"
    }
   ],
   "source": [
    "const goat = :goat\n",
    "const car = :car"
   ]
  },
  {
   "cell_type": "markdown",
   "metadata": {},
   "source": [
    "Define a `mutable struct` (see [here](https://docs.julialang.org/en/v1/manual/types/index.html#Mutable-Composite-Types-1)) to represent a door."
   ]
  },
  {
   "cell_type": "code",
   "execution_count": 3,
   "metadata": {},
   "outputs": [
    {
     "data": {
      "text/plain": [
       "Door(:car, false)"
      ]
     },
     "execution_count": 3,
     "metadata": {},
     "output_type": "execute_result"
    }
   ],
   "source": [
    "mutable struct Door # mutable b/c we want to open and close the door\n",
    "    wuts_behind::Symbol # a car or a goat?\n",
    "    open::Bool # is the door open?\n",
    "end\n",
    "\n",
    "door = Door(car, false) # construct a closed door with a car behind it"
   ]
  },
  {
   "cell_type": "code",
   "execution_count": 4,
   "metadata": {},
   "outputs": [
    {
     "data": {
      "text/plain": [
       "3-element Array{Door,1}:\n",
       " Door(:car, false) \n",
       " Door(:goat, false)\n",
       " Door(:goat, false)"
      ]
     },
     "execution_count": 4,
     "metadata": {},
     "output_type": "execute_result"
    }
   ],
   "source": [
    "\"\"\"\n",
    "construct and return an array of three un-opened doors such that: \n",
    "* two doors have a goat behind them\n",
    "* one door has a car behind it\n",
    "* which door has the car is chosen at uniform random.\n",
    "\"\"\"\n",
    "function set_up_doors()\n",
    "    # construct an array of three un-opened doors, one with a car behind it\n",
    "    doors = [Door(car, false), Door(goat, false), Door(goat, false)]\n",
    "    # randomly shuffle the doors\n",
    "    shuffle!(doors)\n",
    "    return doors\n",
    "end\n",
    "\n",
    "doors = set_up_doors()"
   ]
  },
  {
   "cell_type": "code",
   "execution_count": 5,
   "metadata": {},
   "outputs": [
    {
     "data": {
      "text/plain": [
       "1"
      ]
     },
     "execution_count": 5,
     "metadata": {},
     "output_type": "execute_result"
    }
   ],
   "source": [
    "\"\"\"\n",
    "return the index of a random door to simulate the contestant picking a door at random\n",
    "\"\"\"\n",
    "function pick_a_door_at_random()\n",
    "    return sample(1:3)\n",
    "end\n",
    "\n",
    "first_door_id_pick = pick_a_door_at_random()"
   ]
  },
  {
   "cell_type": "markdown",
   "metadata": {},
   "source": [
    "the [enumerate](https://docs.julialang.org/en/v1/base/iterators/#Base.Iterators.enumerate) iterator is useful here.\n",
    "\n",
    "so is the [continue](https://docs.julialang.org/en/v1/manual/control-flow/) statement for control flow"
   ]
  },
  {
   "cell_type": "code",
   "execution_count": 6,
   "metadata": {},
   "outputs": [
    {
     "data": {
      "text/plain": [
       "3-element Array{Door,1}:\n",
       " Door(:car, false) \n",
       " Door(:goat, true) \n",
       " Door(:goat, false)"
      ]
     },
     "execution_count": 6,
     "metadata": {},
     "output_type": "execute_result"
    }
   ],
   "source": [
    "\"\"\"\n",
    "open a door such that:\n",
    "* the door that the contestant picked is not opened\n",
    "* the door with the car is not opened\n",
    "* if two doors are viable to open, pick one at uniform random\n",
    "\"\"\"\n",
    "function open_a_door!(doors::Array{Door}, first_door_id_pick::Int)\n",
    "    ###\n",
    "    #   determine which doors are viable to open\n",
    "    ###\n",
    "    # make an array of viable door IDs to choose from at random\n",
    "    viable_door_ids = Int64[]\n",
    "    # loop through the doors...\n",
    "    for (door_id, door) in enumerate(doors)\n",
    "        # don't push the door ID that the contestant chose!\n",
    "        if door_id == first_door_id_pick\n",
    "            continue\n",
    "        end\n",
    "        # don't push the door ID that has the car behind it, that would ruin the game!\n",
    "        if door.wuts_behind == car\n",
    "            continue\n",
    "        end\n",
    "        # if we made it this far: \n",
    "        #  (1) this door was not chosen by the contestant\n",
    "        #  (2) this door doesn't have a car behind it\n",
    "        # so, it's a viable door to open\n",
    "        push!(viable_door_ids, door_id)\n",
    "    end\n",
    "    \n",
    "    ###\n",
    "    #   of the viable doors, randomly choose one and open it\n",
    "    ###\n",
    "    door_id_to_open = sample(viable_door_ids)\n",
    "    doors[door_id_to_open].open = true\n",
    "    \n",
    "    return door_id_to_open # so we know which door was opened\n",
    "end\n",
    "\n",
    "open_a_door!(doors, first_door_id_pick)\n",
    "doors"
   ]
  },
  {
   "cell_type": "code",
   "execution_count": 7,
   "metadata": {},
   "outputs": [
    {
     "data": {
      "text/plain": [
       "3"
      ]
     },
     "execution_count": 7,
     "metadata": {},
     "output_type": "execute_result"
    }
   ],
   "source": [
    "\"\"\"\n",
    "return the index of the door that the contestant must pick if he/she *switches* from his/her initial door choice\n",
    "to the other unopened door. it is assumed that one the `doors` passed has been opened by the game host and contains\n",
    "a goat.\n",
    "\"\"\"\n",
    "function switch_door_pick(doors::Array{Door}, first_door_id_pick::Int64)\n",
    "    # don't call this function unless one door has been opened\n",
    "    # since to switch, we need to have the contestant reveal an open door first\n",
    "    @assert sum([door.open for door in doors]) == 1\n",
    "    \n",
    "    # loop through doors.\n",
    "    # return the ID of the one that (a) has not been opened and (b) was not chosen the first time\n",
    "    for (door_id, door) in enumerate(doors)\n",
    "        # don't choose the same door you chose the first time; we're switching!\n",
    "        if door_id == first_door_id_pick\n",
    "            continue\n",
    "        end\n",
    "        # don't choose the opened door since it has a goat as revealed\n",
    "        if door.open\n",
    "            @assert door.wuts_behind == goat # to make sure we opened a door without the car!\n",
    "            continue\n",
    "        end\n",
    "        # if made it this far, the door was not chosen the first time and was not opened \n",
    "        return door_id\n",
    "    end\n",
    "end\n",
    "\n",
    "second_door_id_pick = switch_door_pick(doors, first_door_id_pick)"
   ]
  },
  {
   "cell_type": "code",
   "execution_count": 8,
   "metadata": {},
   "outputs": [
    {
     "data": {
      "text/plain": [
       "false"
      ]
     },
     "execution_count": 8,
     "metadata": {},
     "output_type": "execute_result"
    }
   ],
   "source": [
    "\"\"\"\n",
    "return true if the contestant picked the door with the car behind it, false otherwise\n",
    "\"\"\"\n",
    "contestant_wins_car(doors::Array{Door}, door_id_pick::Int) = doors[door_id_pick].wuts_behind == car\n",
    "\n",
    "contestant_wins_car(doors, second_door_id_pick)"
   ]
  },
  {
   "cell_type": "markdown",
   "metadata": {},
   "source": [
    "put it all together"
   ]
  },
  {
   "cell_type": "code",
   "execution_count": 9,
   "metadata": {
    "scrolled": true
   },
   "outputs": [
    {
     "name": "stdout",
     "output_type": "stream",
     "text": [
      "door 1: goat\n",
      "door 2: goat\n",
      "door 3: car\n",
      "\tcontestant chose door 2\n",
      "\tgame host opened door 1, revealed goat behind it\n",
      "\t:( contestant lost\n"
     ]
    },
    {
     "data": {
      "text/plain": [
       "false"
      ]
     },
     "execution_count": 9,
     "metadata": {},
     "output_type": "execute_result"
    }
   ],
   "source": [
    "\"\"\"\n",
    "simulate one Monte Hall game.\n",
    "\n",
    "# Arguments\n",
    "* `switch::Bool`: true if the strategy is for the contestant to switch to the door the host did not open\n",
    "* `verbose::Bool`: true if you want to print off details of the outcomes\n",
    "\"\"\"\n",
    "function simulate_Monte_Hall(switch::Bool; verbose::Bool=true)\n",
    "    doors = set_up_doors()\n",
    "    door_id_pick = pick_a_door_at_random()\n",
    "    door_id_opened = open_a_door!(doors, door_id_pick)\n",
    "    if verbose\n",
    "        for (i, door) in enumerate(doors)\n",
    "            println(\"door $i: $(door.wuts_behind)\")\n",
    "        end\n",
    "        println(\"\\tcontestant chose door $door_id_pick\")\n",
    "        println(\"\\tgame host opened door $door_id_opened, revealed goat behind it\")\n",
    "    end\n",
    "    if switch\n",
    "        door_id_pick = switch_door_pick(doors, door_id_pick)\n",
    "        verbose ? println(\"\\tcontestant switched to door $door_id_pick\") : nothing\n",
    "    end\n",
    "    won = contestant_wins_car(doors, door_id_pick)\n",
    "    if verbose\n",
    "        won ? println(\"\\t:) contestant won!\") : println(\"\\t:( contestant lost\")\n",
    "    end\n",
    "    return won\n",
    "end\n",
    "\n",
    "simulate_Monte_Hall(false; verbose=true)"
   ]
  },
  {
   "cell_type": "markdown",
   "metadata": {},
   "source": [
    "## run simulations"
   ]
  },
  {
   "cell_type": "code",
   "execution_count": 10,
   "metadata": {},
   "outputs": [
    {
     "data": {
      "text/plain": [
       "1000"
      ]
     },
     "execution_count": 10,
     "metadata": {},
     "output_type": "execute_result"
    }
   ],
   "source": [
    "nb_sims = 1000"
   ]
  },
  {
   "cell_type": "markdown",
   "metadata": {},
   "source": [
    "### strategy: don't switch"
   ]
  },
  {
   "cell_type": "code",
   "execution_count": 11,
   "metadata": {},
   "outputs": [
    {
     "name": "stdout",
     "output_type": "stream",
     "text": [
      "# wins: 317\n"
     ]
    }
   ],
   "source": [
    "nb_wins = 0\n",
    "for s = 1:nb_sims\n",
    "    # verbose = false to avoid printing off stuff 1000 times\n",
    "    nb_wins += simulate_Monte_Hall(false; verbose=false)\n",
    "end\n",
    "\n",
    "println(\"# wins: \", nb_wins)"
   ]
  },
  {
   "cell_type": "markdown",
   "metadata": {},
   "source": [
    "### strategy: do switch"
   ]
  },
  {
   "cell_type": "code",
   "execution_count": 14,
   "metadata": {},
   "outputs": [
    {
     "name": "stdout",
     "output_type": "stream",
     "text": [
      "# wins: 689\n"
     ]
    }
   ],
   "source": [
    "nb_wins = 0\n",
    "for s = 1:nb_sims\n",
    "    nb_wins += simulate_Monte_Hall(true; verbose=false)\n",
    "end\n",
    "\n",
    "println(\"# wins: \", nb_wins)"
   ]
  }
 ],
 "metadata": {
  "@webio": {
   "lastCommId": "173ba7c8252c4901b1167882c7d4d9fa",
   "lastKernelId": "125f7308-1f7e-4174-ba19-05d72f992198"
  },
  "kernelspec": {
   "display_name": "Julia 1.2.0",
   "language": "julia",
   "name": "julia-1.2"
  },
  "language_info": {
   "file_extension": ".jl",
   "mimetype": "application/julia",
   "name": "julia",
   "version": "1.2.0"
  }
 },
 "nbformat": 4,
 "nbformat_minor": 2
}
