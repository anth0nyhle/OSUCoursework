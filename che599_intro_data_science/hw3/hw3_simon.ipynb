{
 "cells": [
  {
   "cell_type": "markdown",
   "metadata": {},
   "source": [
    "# homework 3: permutation tests"
   ]
  },
  {
   "cell_type": "code",
   "execution_count": 1,
   "metadata": {},
   "outputs": [
    {
     "data": {
      "text/plain": [
       "300"
      ]
     },
     "execution_count": 1,
     "metadata": {},
     "output_type": "execute_result"
    }
   ],
   "source": [
    "using DataFrames\n",
    "using CSV\n",
    "using PyPlot\n",
    "using Random\n",
    "\n",
    "# (optional) change the style. see styles here: https://matplotlib.org/3.1.1/gallery/style_sheets/style_sheets_reference.html\n",
    "PyPlot.matplotlib.style.use(\"bmh\")                                    \n",
    "                                                                                  \n",
    "# (optional) change settings for all plots at once, e.g. I like larger font size                           \n",
    "rcParams = PyPlot.PyDict(PyPlot.matplotlib.rcParams)                           \n",
    "rcParams[\"font.size\"] = 16\n",
    "\n",
    "# (optional) change the max width of columns of `DataFrame`\n",
    "#  that are displayed in the Juptyer Notebook.\n",
    "ENV[\"COLUMNS\"] = 300 # characters"
   ]
  },
  {
   "cell_type": "markdown",
   "metadata": {},
   "source": [
    "### modifying the Cavendish banana to make it more resistant to Panama disease\n",
    "\n",
    "The Cavendish [banana is threatened](https://www.theguardian.com/science/2018/aug/05/science-search-for-a-super-banana-panama-disease-gm-gene-editing) by Panama disease, which is caused by a fungus. An active area of research is to genetically modify the Cavendish banana plant to make it resistant to Panama disease.\n",
    "\n",
    "<img src=https://upload.wikimedia.org/wikipedia/commons/thumb/9/9b/Cavendish_Banana_DS.jpg/1920px-Cavendish_Banana_DS.jpg width=200>\n",
    "\n",
    "In this homework assignment, we have identified a gene in the banana plant, gene X, that is thought to be associated with resistance to fungal infection. Using modern gene editing tools such as CRISPR, we are able to make a precise, single-nucleotide edit to the gene X that appears in the wild. The hope is that this single nucleotide polymorphism will confer protection against fungal infection. \n",
    "\n",
    "To experimentally test whether a certain mutation of gene X will confer greater resistance to Panama disease, we randomly select 60 healthy banana plants from different regions/farms that have not been exposed to the fungus causing Panama disease (all free of Panama disease). Of these 60 plants, we randomly select 30 to receive the genetic mutation on gene X. We then collect one seed from all 60 plants. \n",
    "\n",
    "A botanist then plants each seed in a pot whose soil is known to harbor the fungus that causes Panama disease. The plants are all contained in a single greenhouse. After one year, the botanist records whether or not each grown banana plant has been infected with Panama disease. The study is \"blind\" because we never told the botanist which seeds are modified and which are not. This way, the botanist cannot (advertently or inadvertently) treat the two different variants of plants differently and thereby influence the outcome of the experiment in a biased manner.\n",
    "\n",
    "(1) the results of our randomized experiment are in `banana_study.csv`. each row represents a banana plant. the `:gene_x` attribute indicates whether gene X in the banana plant is the wild type or mutant. the `:outcome` attribute indicates the outcome of the experiment (infected or not infected). read in `banana_study.csv` as a `DataFrame`, `df`."
   ]
  },
  {
   "cell_type": "code",
   "execution_count": 2,
   "metadata": {},
   "outputs": [
    {
     "data": {
      "text/html": [
       "<table class=\"data-frame\"><thead><tr><th></th><th>gene_x</th><th>outcome</th></tr><tr><th></th><th>String</th><th>String</th></tr></thead><tbody><p>6 rows × 2 columns</p><tr><th>1</th><td>wild type</td><td>not infected</td></tr><tr><th>2</th><td>wild type</td><td>infected</td></tr><tr><th>3</th><td>wild type</td><td>not infected</td></tr><tr><th>4</th><td>wild type</td><td>not infected</td></tr><tr><th>5</th><td>wild type</td><td>not infected</td></tr><tr><th>6</th><td>wild type</td><td>not infected</td></tr></tbody></table>"
      ],
      "text/latex": [
       "\\begin{tabular}{r|cc}\n",
       "\t& gene\\_x & outcome\\\\\n",
       "\t\\hline\n",
       "\t& String & String\\\\\n",
       "\t\\hline\n",
       "\t1 & wild type & not infected \\\\\n",
       "\t2 & wild type & infected \\\\\n",
       "\t3 & wild type & not infected \\\\\n",
       "\t4 & wild type & not infected \\\\\n",
       "\t5 & wild type & not infected \\\\\n",
       "\t6 & wild type & not infected \\\\\n",
       "\\end{tabular}\n"
      ],
      "text/plain": [
       "6×2 DataFrame\n",
       "│ Row │ gene_x    │ outcome      │\n",
       "│     │ \u001b[90mString\u001b[39m    │ \u001b[90mString\u001b[39m       │\n",
       "├─────┼───────────┼──────────────┤\n",
       "│ 1   │ wild type │ not infected │\n",
       "│ 2   │ wild type │ infected     │\n",
       "│ 3   │ wild type │ not infected │\n",
       "│ 4   │ wild type │ not infected │\n",
       "│ 5   │ wild type │ not infected │\n",
       "│ 6   │ wild type │ not infected │"
      ]
     },
     "execution_count": 2,
     "metadata": {},
     "output_type": "execute_result"
    }
   ],
   "source": [
    "df = CSV.read(\"banana_study.csv\")\n",
    "first(df, 6)"
   ]
  },
  {
   "cell_type": "markdown",
   "metadata": {},
   "source": [
    "(2) use the `by` command to group the banana plants in `df` by genetic variant and create a new `DataFrame`, `df_outcome`, with a new column, `p_infected`, that contains the proportion of plants of that variant that are infected by the fungus.\n",
    "\n",
    "i.e. create a dataframe, `df_outcome`:\n",
    "```\n",
    "     gene_x      p_infected\n",
    "    wild type       ...\n",
    "     mutant         ...\n",
    "```"
   ]
  },
  {
   "cell_type": "code",
   "execution_count": 3,
   "metadata": {
    "scrolled": true
   },
   "outputs": [
    {
     "data": {
      "text/html": [
       "<table class=\"data-frame\"><thead><tr><th></th><th>gene_x</th><th>p_infected</th></tr><tr><th></th><th>String</th><th>Float64</th></tr></thead><tbody><p>2 rows × 2 columns</p><tr><th>1</th><td>wild type</td><td>0.133333</td></tr><tr><th>2</th><td>mutant</td><td>0.3</td></tr></tbody></table>"
      ],
      "text/latex": [
       "\\begin{tabular}{r|cc}\n",
       "\t& gene\\_x & p\\_infected\\\\\n",
       "\t\\hline\n",
       "\t& String & Float64\\\\\n",
       "\t\\hline\n",
       "\t1 & wild type & 0.133333 \\\\\n",
       "\t2 & mutant & 0.3 \\\\\n",
       "\\end{tabular}\n"
      ],
      "text/plain": [
       "2×2 DataFrame\n",
       "│ Row │ gene_x    │ p_infected │\n",
       "│     │ \u001b[90mString\u001b[39m    │ \u001b[90mFloat64\u001b[39m    │\n",
       "├─────┼───────────┼────────────┤\n",
       "│ 1   │ wild type │ 0.133333   │\n",
       "│ 2   │ mutant    │ 0.3        │"
      ]
     },
     "execution_count": 3,
     "metadata": {},
     "output_type": "execute_result"
    }
   ],
   "source": [
    "df_outcome = by(df, :gene_x, p_infected=:outcome => col -> sum(col .== \"infected\") / length(col))"
   ]
  },
  {
   "cell_type": "markdown",
   "metadata": {},
   "source": [
    "(3) create a data visualization representing `df_outcome`. particularly, make a bar plot with two bars, one corresponding to wild type, the other to mutant. Then make the bar heights equal to the respective proportion of banana plants of that genetic variant that were infected by the fungus. With a different color, stack a bar *on top* of these bars to represent the proportion that were not infected. The total height of each bar (sum of the two bars of different colors, stacked on top of each other) should be 1.0 to represent the entire set of bananas falling in that group. A skeleton code is shown below as an example. properly label your x-axis, y-axis, and x-ticks, and place a legend to denote the colors."
   ]
  },
  {
   "cell_type": "code",
   "execution_count": 4,
   "metadata": {
    "scrolled": false
   },
   "outputs": [
    {
     "data": {
      "image/png": "[encoded data removed]",
      "text/plain": [
       "Figure(PyObject <Figure size 640x480 with 1 Axes>)"
      ]
     },
     "metadata": {},
     "output_type": "display_data"
    }
   ],
   "source": [
    "figure()\n",
    "bar(1:2, df_outcome[:, :p_infected], label=\"infected\")\n",
    "bar(1:2, 1.0 .- df_outcome[:, :p_infected], bottom=df_outcome[:, :p_infected], label=\"not infected\")\n",
    "xticks([1, 2], df_outcome[:, :gene_x])\n",
    "xlabel(\"genetic variant\")\n",
    "ylabel(\"proportion\")\n",
    "legend()\n",
    "savefig(\"bar_plot.png\", format=\"png\", dpi=300)"
   ]
  },
  {
   "cell_type": "markdown",
   "metadata": {},
   "source": [
    "(4) Which genetic variant has the smallest proportion of infected plants? Can we conclude that this genetic variant is **certainly** more resistant to Panama disease than the other? If not, state a hypothetical but concrete reason why this outcome could be due to chance.\n",
    "\n",
    "* a different gene that makes the plants more susceptible to the fungus happened to be present in the banana plants selected for mutation"
   ]
  },
  {
   "cell_type": "markdown",
   "metadata": {},
   "source": [
    "(5) Formally state the null hypothesis and alternative hypothesis that pertains to this experiment.\n",
    "\n",
    "Among the population of banana plants exposed to the fungus that causes Panama disease:\n",
    "\n",
    "the **null hypothesis** is that there is no difference in the probability of fungal infection between plants harboring wild type and mutated gene X.\n",
    "\n",
    "the **alternative hypothesis** is that the probability of fungal infection in plants with mutated gene X is larger than in plants with the wild type gene X."
   ]
  },
  {
   "cell_type": "markdown",
   "metadata": {},
   "source": [
    "(6) Let us define and use the following test statistic, which would differ depending on whether the null or alternative hypothesis were true:\n",
    "\n",
    "**test statistic** := (proportion of plants harboring mutant gene X that were infected) - (proportion of plants harboring wild type gene X that were infected)\n",
    "\n",
    "(6a) write a function `proportion_infected` that takes in three arguments:\n",
    "* `df_banana`, a `DataFrame` where each row is a banana, with an `:outcome` column (:infected\" or \"not infected\") and another column indicating which variant of gene X (\"wild type\" or \"mutant\") that plant harbors. `df` from (1) is an example input argument.\n",
    "* `gene_x_col_name`, a `Symbol`, the name of the column in `df_banana` that indicates which gene X variant the plants harbor (\"wild type\" or \"mutant\"). so `df_banana[1, gene_x_col_name]` gives us the variant of banana 1.\n",
    "* `gene_x`, a `String`, that can be either \"wild type\" or \"mutant\"\n",
    "\n",
    "and returns the proportion of banana plants harboring `gene_x` (`=\"wild type\"` or `=\"mutant\"`) gene X that were infected by fungus."
   ]
  },
  {
   "cell_type": "code",
   "execution_count": 5,
   "metadata": {},
   "outputs": [
    {
     "name": "stdout",
     "output_type": "stream",
     "text": [
      "proportion of banana plants harboring wild type gene X infected = 0.13333333333333333\n",
      "proportion of banana plants harboring mutant gene X infected = 0.3\n"
     ]
    }
   ],
   "source": [
    "function proportion_infected(df_banana::DataFrame, gene_x_col_name::Symbol, gene_x::String)\n",
    "    df_strain = filter(banana -> banana[gene_x_col_name] == gene_x, df_banana)\n",
    "    return sum(df_strain[:, :outcome] .== \"infected\") / nrow(df_strain)\n",
    "end\n",
    "\n",
    "# apply this function to `df` from (1) and print off proportion of each variant infected.\n",
    "for gene_x in [\"wild type\", \"mutant\"]\n",
    "    println(\"proportion of banana plants harboring $gene_x gene X infected = \", \n",
    "        proportion_infected(df, :gene_x, gene_x))\n",
    "end"
   ]
  },
  {
   "cell_type": "markdown",
   "metadata": {},
   "source": [
    "(6b) write a function `difference_in_proportions_infected` that takes in two arguments:\n",
    "* `df_banana::DataFrame` as above\n",
    "* `gene_x_col_name::Symbol` as above\n",
    "\n",
    "and returns the test statistic. Inside this function, you should call your function from (6a) directly above, twice.\n",
    "\n",
    "compute the actual, observed (as opposed to simulated under the null hypothesis, which we will do next) test statistic of our data set using `df` from (1)."
   ]
  },
  {
   "cell_type": "code",
   "execution_count": 6,
   "metadata": {},
   "outputs": [
    {
     "data": {
      "text/plain": [
       "-0.16666666666666666"
      ]
     },
     "execution_count": 6,
     "metadata": {},
     "output_type": "execute_result"
    }
   ],
   "source": [
    "\"\"\"\n",
    "p_wild_type := proportion of banana plants harboring wild type gene X infected by fungus\n",
    "p_mutant := proportion of banana plants harboring mutant gene X infected by fungus\n",
    "\n",
    "test statistic := p_mutant - p_wild_type.\n",
    "\"\"\"\n",
    "function difference_in_proportions_infected(df_banana::DataFrame, gene_x_col_name::Symbol)\n",
    "    p_wild_type = proportion_infected(df_banana, gene_x_col_name, \"wild type\")\n",
    "    p_mutant = proportion_infected(df_banana, gene_x_col_name, \"mutant\")\n",
    "    return p_wild_type - p_mutant\n",
    "end\n",
    "\n",
    "actual_difference_in_proportions_infected = difference_in_proportions_infected(df, :gene_x)"
   ]
  },
  {
   "cell_type": "markdown",
   "metadata": {},
   "source": [
    "(7) imagine we are at the beginning of the experiment where we selected 60 banana plants. at this point, we are randomly selecting which banana plants receive the genetic modification on gene X and which do not. now, simulate one repetition of the banana study, **operating under the assumption that the null hypothesis is true**, by permuting the labels in the `gene_x` column of `df`. this effectively simulates the random allocation of healthy banana plants to the two groups:\n",
    "* group A: do not receive genetic modification on gene X (wild type)\n",
    "* group B: receive genetic modification on gene X (mutant)\n",
    "\n",
    "assume that the botanist plants these banana plant seeds in exactly the same pots in the greenhouse. in this conceptual experiment, the outcome (infected vs. not) would be exactly the same **if the null hypothesis were true**, since then the genetic modification makes no difference in susceptibility to fungal infection. assign the permuted labels to be a new column in `df` called `:shuffled_gene_x`."
   ]
  },
  {
   "cell_type": "code",
   "execution_count": 7,
   "metadata": {
    "scrolled": true
   },
   "outputs": [
    {
     "data": {
      "text/html": [
       "<table class=\"data-frame\"><thead><tr><th></th><th>gene_x</th><th>outcome</th><th>shuffled_gene_x</th></tr><tr><th></th><th>String</th><th>String</th><th>String</th></tr></thead><tbody><p>10 rows × 3 columns</p><tr><th>1</th><td>wild type</td><td>not infected</td><td>mutant</td></tr><tr><th>2</th><td>wild type</td><td>infected</td><td>mutant</td></tr><tr><th>3</th><td>wild type</td><td>not infected</td><td>wild type</td></tr><tr><th>4</th><td>wild type</td><td>not infected</td><td>wild type</td></tr><tr><th>5</th><td>wild type</td><td>not infected</td><td>wild type</td></tr><tr><th>6</th><td>wild type</td><td>not infected</td><td>mutant</td></tr><tr><th>7</th><td>wild type</td><td>infected</td><td>wild type</td></tr><tr><th>8</th><td>wild type</td><td>infected</td><td>wild type</td></tr><tr><th>9</th><td>wild type</td><td>not infected</td><td>wild type</td></tr><tr><th>10</th><td>wild type</td><td>not infected</td><td>mutant</td></tr></tbody></table>"
      ],
      "text/latex": [
       "\\begin{tabular}{r|ccc}\n",
       "\t& gene\\_x & outcome & shuffled\\_gene\\_x\\\\\n",
       "\t\\hline\n",
       "\t& String & String & String\\\\\n",
       "\t\\hline\n",
       "\t1 & wild type & not infected & mutant \\\\\n",
       "\t2 & wild type & infected & mutant \\\\\n",
       "\t3 & wild type & not infected & wild type \\\\\n",
       "\t4 & wild type & not infected & wild type \\\\\n",
       "\t5 & wild type & not infected & wild type \\\\\n",
       "\t6 & wild type & not infected & mutant \\\\\n",
       "\t7 & wild type & infected & wild type \\\\\n",
       "\t8 & wild type & infected & wild type \\\\\n",
       "\t9 & wild type & not infected & wild type \\\\\n",
       "\t10 & wild type & not infected & mutant \\\\\n",
       "\\end{tabular}\n"
      ],
      "text/plain": [
       "10×3 DataFrame\n",
       "│ Row │ gene_x    │ outcome      │ shuffled_gene_x │\n",
       "│     │ \u001b[90mString\u001b[39m    │ \u001b[90mString\u001b[39m       │ \u001b[90mString\u001b[39m          │\n",
       "├─────┼───────────┼──────────────┼─────────────────┤\n",
       "│ 1   │ wild type │ not infected │ mutant          │\n",
       "│ 2   │ wild type │ infected     │ mutant          │\n",
       "│ 3   │ wild type │ not infected │ wild type       │\n",
       "│ 4   │ wild type │ not infected │ wild type       │\n",
       "│ 5   │ wild type │ not infected │ wild type       │\n",
       "│ 6   │ wild type │ not infected │ mutant          │\n",
       "│ 7   │ wild type │ infected     │ wild type       │\n",
       "│ 8   │ wild type │ infected     │ wild type       │\n",
       "│ 9   │ wild type │ not infected │ wild type       │\n",
       "│ 10  │ wild type │ not infected │ mutant          │"
      ]
     },
     "execution_count": 7,
     "metadata": {},
     "output_type": "execute_result"
    }
   ],
   "source": [
    "df[!, :shuffled_gene_x] = df[shuffle(1:nrow(df)), :gene_x]\n",
    "first(df, 10)"
   ]
  },
  {
   "cell_type": "markdown",
   "metadata": {},
   "source": [
    "(8) **operating under the assumption that the null hypothesis is true:**\n",
    "\n",
    "(8a) simulate 10,000 repetitions of the randomized banana experiment. keep track of the test statistic observed from each simulation. \n",
    "\n",
    "(8b) plot the distribution of the test statistic. make your bins for the histogram manually to ensure the bin that includes zero is centered at zero. draw a red, vertical line at the actual test statistic observed in the experiment. the mean value of the test statistic should be around zero. make sure you understand why.\n",
    "\n",
    "(8c) compute the p-value associated with our null hypothesis that you obtained from your **random permutation test**.\n",
    "\n",
    "(8d) precisely explain in a few sentences or less what this p-value represents."
   ]
  },
  {
   "cell_type": "code",
   "execution_count": 8,
   "metadata": {},
   "outputs": [],
   "source": [
    "nb_sims = 10000 # number of simulations\n",
    "# store the test statistics from the simulations in this array\n",
    "differences_in_proportions_infected = [NaN for s = 1:nb_sims]\n",
    "for s = 1:nb_sims\n",
    "    # randomly permute the genetic treatment (mutate or not)\n",
    "    #   this is to simulate the random allocation of banana plants \n",
    "    #   to treatment (mutate) vs. control (wild type) groups\n",
    "    df[!, :shuffled_gene_x] = df[shuffle(1:nrow(df)), :gene_x]\n",
    "    differences_in_proportions_infected[s] = difference_in_proportions_infected(df, :shuffled_gene_x)\n",
    "end"
   ]
  },
  {
   "cell_type": "code",
   "execution_count": 9,
   "metadata": {
    "scrolled": false
   },
   "outputs": [
    {
     "data": {
      "image/png": "[encoded data removed]",
      "text/plain": [
       "Figure(PyObject <Figure size 640x480 with 1 Axes>)"
      ]
     },
     "metadata": {},
     "output_type": "display_data"
    },
    {
     "data": {
      "text/plain": [
       "PyObject Text(0.5, 1, 'under the null hypothesis')"
      ]
     },
     "execution_count": 9,
     "metadata": {},
     "output_type": "execute_result"
    }
   ],
   "source": [
    "bins = range(-1.0, stop=1.0, length=24) # so bins are centered at zero\n",
    "\n",
    "figure()\n",
    "hist(differences_in_proportions_infected, bins=bins)\n",
    "# plot our actual test statistic as a vertical line\n",
    "axvline(x=actual_difference_in_proportions_infected, color=\"r\")\n",
    "xlabel(\"difference in proportion infected, wild type - mutated gene X\")\n",
    "ylabel(\"# simulations\")\n",
    "title(\"under the null hypothesis\")"
   ]
  },
  {
   "cell_type": "code",
   "execution_count": 10,
   "metadata": {},
   "outputs": [
    {
     "data": {
      "text/plain": [
       "0.1094"
      ]
     },
     "execution_count": 10,
     "metadata": {},
     "output_type": "execute_result"
    }
   ],
   "source": [
    "p_value = sum(differences_in_proportions_infected .<= actual_difference_in_proportions_infected) / nb_sims"
   ]
  },
  {
   "cell_type": "markdown",
   "metadata": {},
   "source": [
    "what is the p-value in this context? \n",
    "\n",
    "assume that the null hypothesis is true, i.e. that the banana plants that receive the genetic mutation to gene X have the same probability of being infected by the fungus as plants harboring the wild type gene X. imagine if we could repeat this experiment over and over, each time allocating the randomly selected banana plants to the control (keep wild type gene X) and treatment (mutate gene X) groups. then, the p-value is the probability that we would observe a difference in proportions of infected plants between the two groups equal to or as extreme as we did. "
   ]
  },
  {
   "cell_type": "markdown",
   "metadata": {},
   "source": [
    "(9) if the level of significance is set at $\\alpha=0.05$, you may have the tendency to make a bold conclusion, such as \"mutating gene X confers resistance to fungal infection\" or \"mutating gene X does not influence the susceptibility to fungal infection\". however, such \"dichotomization\" is a mis-interpretation of the p-value. we must embrace uncertainty! see [this recent article in Nature](https://www.nature.com/articles/d41586-019-00857-9) where, owing to the tendency to misinterpret p-values, some scientists call for abandoning the notion of statistical significance. When you've read the article, change the `Bool` below to `true`, and question (9) is complete!\n",
    "\n",
    "> \"We are calling for a stop to the use of P values in the conventional, dichotomous way -- to decide whether a result refutes or supports a scientific hypothesis\" [source](https://www.nature.com/articles/d41586-019-00857-9)\n"
   ]
  },
  {
   "cell_type": "code",
   "execution_count": 12,
   "metadata": {},
   "outputs": [
    {
     "name": "stdout",
     "output_type": "stream",
     "text": [
      "student read the article!\n"
     ]
    }
   ],
   "source": [
    "i_read_the_nature_article = true\n",
    "i_read_the_nature_article ? println(\"student read the article!\") : println(\"student did not read the article!\")"
   ]
  },
  {
   "cell_type": "markdown",
   "metadata": {},
   "source": [
    "## warning\n",
    "it is very easy to follow the steps and permute the labels in the `:gene_x` column without understanding *why*. please make sure to think carefully about why you can permute the labels to simualte the experiment under the null hypothesis. also think about why you cannot simulate the experiment under the alternative hypothesis.\n",
    "\n",
    "## random note on bananas\n",
    "for those interested, [here](https://www.youtube.com/watch?v=YkI3zkQ4WBo&t) is an interesting, 20-minute YouTube documentary on the banana and how it is threatened by Panama disease."
   ]
  }
 ],
 "metadata": {
  "@webio": {
   "lastCommId": null,
   "lastKernelId": null
  },
  "kernelspec": {
   "display_name": "Julia 1.2.0",
   "language": "julia",
   "name": "julia-1.2"
  },
  "language_info": {
   "file_extension": ".jl",
   "mimetype": "application/julia",
   "name": "julia",
   "version": "1.2.0"
  }
 },
 "nbformat": 4,
 "nbformat_minor": 2
}
