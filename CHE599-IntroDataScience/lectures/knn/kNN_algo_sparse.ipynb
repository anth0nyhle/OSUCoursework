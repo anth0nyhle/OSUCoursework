{
 "cells": [
  {
   "cell_type": "markdown",
   "metadata": {},
   "source": [
    "# the $k$-nearest neighbors (kNN) supervised learning algorithm\n",
    "\n",
    "* can be used for regression or classification\n",
    "* non-parametric\n",
    "* imposes only mild structural assumptions about the data\n",
    "\n",
    "let's explore $k$-nearest neighbor classification.\n",
    "\n",
    "training data examples: $\\{(\\mathbf{x}_1, y_1), (\\mathbf{x}_2, y_2), ..., (\\mathbf{x}_n, y_n)\\}$ where $\\mathbf{x}_i$ is the feature vector and $y_i \\in \\{0, 1\\}$ is the label on data point $i$. This is a binary classification since each data point is labeled with $0$ or $1$.\n",
    "\n",
    "the $k$-NN algorithm uses the training data to classify new data points. say we have a new data point $\\mathbf{x}$ but we don't know its label. the $k$-NN algorithm predicts the class of this data point as:\n",
    "\\begin{equation}\n",
    "    \\hat{y}(\\mathbf{x})= \\frac{1}{k} \\displaystyle \\sum_{\\mathbf{x}_i \\in N_k(\\mathbf{x})} y_i\n",
    "\\end{equation}\n",
    "where $N_k(x)$ is the *neighborhood* of $\\mathbf{x}$ defined as the $k$ \"closest\" points in the training data set. For \"closest\" to be mathematically defined, we need a distance metric. One such distance metric is Euclidean distance. In words, the $k$ data points closest to $\\mathbf{x}$ vote on whether we should classify this point as a 0 or 1 with their labels."
   ]
  },
  {
   "cell_type": "code",
   "execution_count": 21,
   "metadata": {},
   "outputs": [],
   "source": [
    "using CSV\n",
    "using DataFrames\n",
    "using PyPlot\n",
    "using ScikitLearn # machine learning package\n",
    "using StatsBase\n",
    "using Random\n",
    "using LaTeXStrings # for L\"$x$\" to work instead of needing to do \"\\$x\\$\"\n",
    "using Printf\n",
    "\n",
    "# (optional)change settings for all plots at once, e.g. font size\n",
    "rcParams = PyPlot.PyDict(PyPlot.matplotlib.\"rcParams\")\n",
    "rcParams[\"font.size\"] = 16\n",
    "\n",
    "# (optional) change the style. see styles here: https://matplotlib.org/3.1.1/gallery/style_sheets/style_sheets_reference.html\n",
    "PyPlot.matplotlib.style.use(\"seaborn-white\")   "
   ]
  },
  {
   "cell_type": "markdown",
   "metadata": {},
   "source": [
    "## classifying breast tumors as malignant or benign\n",
    "\n",
    "source: [UCI Machine Learning Repository](https://archive.ics.uci.edu/ml/datasets/Breast+Cancer+Wisconsin+(Diagnostic))\n",
    "\n",
    "> Features are computed from a digitized image of a fine needle aspirate (FNA) of a breast mass. They describe characteristics of the cell nuclei present in the image.\n",
    "\n",
    "The mean radius and smoothness of the cell nuclei (the two features) and the outcome (M = malignant, B = benign) of the tumor are in the `breast_cancer_data.csv`."
   ]
  },
  {
   "cell_type": "code",
   "execution_count": 22,
   "metadata": {
    "scrolled": false
   },
   "outputs": [
    {
     "data": {
      "text/html": [
       "<table class=\"data-frame\"><thead><tr><th></th><th>mean_radius</th><th>mean_smoothness</th><th>outcome</th></tr><tr><th></th><th>Float64</th><th>Float64</th><th>String</th></tr></thead><tbody><p>5 rows × 3 columns</p><tr><th>1</th><td>13.85</td><td>1.495</td><td>B</td></tr><tr><th>2</th><td>9.668</td><td>2.275</td><td>B</td></tr><tr><th>3</th><td>9.295</td><td>2.388</td><td>B</td></tr><tr><th>4</th><td>19.69</td><td>4.585</td><td>M</td></tr><tr><th>5</th><td>9.755</td><td>1.243</td><td>B</td></tr></tbody></table>"
      ],
      "text/latex": [
       "\\begin{tabular}{r|ccc}\n",
       "\t& mean\\_radius & mean\\_smoothness & outcome\\\\\n",
       "\t\\hline\n",
       "\t& Float64 & Float64 & String\\\\\n",
       "\t\\hline\n",
       "\t1 & 13.85 & 1.495 & B \\\\\n",
       "\t2 & 9.668 & 2.275 & B \\\\\n",
       "\t3 & 9.295 & 2.388 & B \\\\\n",
       "\t4 & 19.69 & 4.585 & M \\\\\n",
       "\t5 & 9.755 & 1.243 & B \\\\\n",
       "\\end{tabular}\n"
      ],
      "text/plain": [
       "5×3 DataFrame\n",
       "│ Row │ mean_radius │ mean_smoothness │ outcome │\n",
       "│     │ \u001b[90mFloat64\u001b[39m     │ \u001b[90mFloat64\u001b[39m         │ \u001b[90mString\u001b[39m  │\n",
       "├─────┼─────────────┼─────────────────┼─────────┤\n",
       "│ 1   │ 13.85       │ 1.495           │ B       │\n",
       "│ 2   │ 9.668       │ 2.275           │ B       │\n",
       "│ 3   │ 9.295       │ 2.388           │ B       │\n",
       "│ 4   │ 19.69       │ 4.585           │ M       │\n",
       "│ 5   │ 9.755       │ 1.243           │ B       │"
      ]
     },
     "execution_count": 22,
     "metadata": {},
     "output_type": "execute_result"
    }
   ],
   "source": [
    "df = CSV.read(\"breast_cancer_data.csv\")\n",
    "first(df, 5)"
   ]
  },
  {
   "cell_type": "code",
   "execution_count": null,
   "metadata": {},
   "outputs": [],
   "source": []
  },
  {
   "cell_type": "markdown",
   "metadata": {},
   "source": [
    "let's map the outcomes to a number, 0 or 1, to facilitate the NN algo.\n",
    "\n",
    "benign (B) : 0<br>\n",
    "malignant (M) : 1"
   ]
  },
  {
   "cell_type": "code",
   "execution_count": null,
   "metadata": {},
   "outputs": [],
   "source": []
  },
  {
   "cell_type": "markdown",
   "metadata": {},
   "source": [
    "let's also have a color scheme for the class labels."
   ]
  },
  {
   "cell_type": "code",
   "execution_count": null,
   "metadata": {},
   "outputs": [],
   "source": []
  },
  {
   "cell_type": "markdown",
   "metadata": {},
   "source": [
    "since this is a two-dimensional feature space, we have the luxury of visualizing how the classes are distributed in feature space. in practice, we do not have this luxury. I choose a 2D feature space for pedagogical purposes :)"
   ]
  },
  {
   "cell_type": "code",
   "execution_count": null,
   "metadata": {
    "scrolled": false
   },
   "outputs": [],
   "source": []
  },
  {
   "cell_type": "markdown",
   "metadata": {},
   "source": [
    "### using Scikitlearn for $k$-nearest neighbor classification\n",
    "\n",
    "scikitlearn documentation for `KNeighborsClassifier` [here](https://scikit-learn.org/stable/modules/generated/sklearn.neighbors.KNeighborsClassifier.html)"
   ]
  },
  {
   "cell_type": "code",
   "execution_count": 7,
   "metadata": {},
   "outputs": [
    {
     "name": "stderr",
     "output_type": "stream",
     "text": [
      "┌ Warning: Module model_selection has been ported to Julia - try `import ScikitLearn: CrossValidation` instead\n",
      "└ @ ScikitLearn.Skcore /home/cokes/.julia/packages/ScikitLearn/bo2Pt/src/Skcore.jl:140\n"
     ]
    },
    {
     "data": {
      "text/plain": [
       "PyObject <function confusion_matrix at 0x7fe40f6b6c80>"
      ]
     },
     "execution_count": 7,
     "metadata": {},
     "output_type": "execute_result"
    }
   ],
   "source": [
    "@sk_import neighbors : KNeighborsClassifier\n",
    "@sk_import model_selection : train_test_split\n",
    "@sk_import metrics : confusion_matrix"
   ]
  },
  {
   "cell_type": "markdown",
   "metadata": {},
   "source": [
    "scikitlearn takes as input:\n",
    "* a feature matrix `X`, which must be `n_samples` by `n_features`\n",
    "* a target vector `y`, which must be `n_samples` long (of course)"
   ]
  },
  {
   "cell_type": "code",
   "execution_count": null,
   "metadata": {
    "scrolled": false
   },
   "outputs": [],
   "source": []
  },
  {
   "cell_type": "markdown",
   "metadata": {},
   "source": [
    "construct a nearest neighbor object in scikitlearn"
   ]
  },
  {
   "cell_type": "code",
   "execution_count": null,
   "metadata": {},
   "outputs": [],
   "source": []
  },
  {
   "cell_type": "markdown",
   "metadata": {},
   "source": [
    "pass the `KNeighborsClassifier` object our training data. this will be used to make predictions on future, unseen data."
   ]
  },
  {
   "cell_type": "code",
   "execution_count": null,
   "metadata": {},
   "outputs": [],
   "source": []
  },
  {
   "cell_type": "markdown",
   "metadata": {},
   "source": [
    "we can now make predictions on new, unseen data. that is, if we know the mean radius and mean smoothness of a new tumor, we can make a prediction about whether this tumor is malignant or benign. let's imagine we take measurements on a new tumor and it has the feature vector `x_new` below. we aim to predict whether it is benign or malignant."
   ]
  },
  {
   "cell_type": "code",
   "execution_count": 11,
   "metadata": {},
   "outputs": [
    {
     "data": {
      "text/plain": [
       "1×2 Array{Float64,2}:\n",
       " 20.0  5.0"
      ]
     },
     "execution_count": 11,
     "metadata": {},
     "output_type": "execute_result"
    }
   ],
   "source": [
    "# new tumor. unknown if malignant or benign...\n",
    "x_new = [10.0 1.5] # should be B\n",
    "x_new = [20.0 5.0] # should be M"
   ]
  },
  {
   "cell_type": "markdown",
   "metadata": {},
   "source": [
    "first, let's plot where it falls in feature space"
   ]
  },
  {
   "cell_type": "code",
   "execution_count": null,
   "metadata": {
    "scrolled": false
   },
   "outputs": [],
   "source": []
  },
  {
   "cell_type": "markdown",
   "metadata": {},
   "source": [
    "predict whether this new tumor is benign or malignant"
   ]
  },
  {
   "cell_type": "code",
   "execution_count": null,
   "metadata": {},
   "outputs": [],
   "source": []
  },
  {
   "cell_type": "markdown",
   "metadata": {},
   "source": [
    "visualize the decision boundary"
   ]
  },
  {
   "cell_type": "code",
   "execution_count": null,
   "metadata": {},
   "outputs": [],
   "source": []
  },
  {
   "cell_type": "code",
   "execution_count": 24,
   "metadata": {
    "scrolled": false
   },
   "outputs": [
    {
     "data": {
      "image/png": "[encoded data removed]",
      "text/plain": [
       "Figure(PyObject <Figure size 640x480 with 1 Axes>)"
      ]
     },
     "metadata": {},
     "output_type": "display_data"
    },
    {
     "data": {
      "text/plain": [
       "PyObject Text(31.0, 0.5, 'mean smoothness')"
      ]
     },
     "execution_count": 24,
     "metadata": {},
     "output_type": "execute_result"
    }
   ],
   "source": [
    "figure()\n",
    "xlabel(\"mean radius\")\n",
    "ylabel(\"mean smoothness\")"
   ]
  },
  {
   "cell_type": "markdown",
   "metadata": {},
   "source": [
    "we can compute the accuracy of the prediction on the training data. but when $k=1$ we get 100% accuracy by construction!"
   ]
  },
  {
   "cell_type": "code",
   "execution_count": null,
   "metadata": {},
   "outputs": [],
   "source": []
  },
  {
   "cell_type": "markdown",
   "metadata": {},
   "source": [
    "### the test/train paradigm\n",
    "\n",
    "randomly split your data set into a training and test set. train the $k$-NN algo on the training data, then use the trained model to make predictions on data in the test set. we can compare the predicted label to the true label. the test set error is a quality prediction of generalization error on *unseen* data. we could write our own code for this, but scikitlearn provides `test_train_split` for us."
   ]
  },
  {
   "cell_type": "code",
   "execution_count": null,
   "metadata": {},
   "outputs": [],
   "source": []
  },
  {
   "cell_type": "markdown",
   "metadata": {},
   "source": [
    "to fully assess the performance of our model, trained on the training set, and tested on the test set, we can plot a so-called confusion matrix. it tells us about false positives, true positives, false negatives, and true negatives."
   ]
  },
  {
   "cell_type": "code",
   "execution_count": 25,
   "metadata": {
    "scrolled": false
   },
   "outputs": [
    {
     "data": {
      "text/plain": [
       "plot_confusion_matrix (generic function with 1 method)"
      ]
     },
     "execution_count": 25,
     "metadata": {},
     "output_type": "execute_result"
    }
   ],
   "source": [
    "# see https://scikit-learn.org/stable/auto_examples/model_selection/plot_confusion_matrix.html#sphx-glr-auto-examples-model-selection-plot-confusion-matrix-py\n",
    "function plot_confusion_matrix(y_true::Array{Float64}, y_pred::Array{Float64}, classes::Array{String})\n",
    "    # calculate confusion matrix from scikitlearn\n",
    "    cm = confusion_matrix(y_true, y_pred)\n",
    "    \n",
    "    fig, ax = plt.subplots()\n",
    "    ax.imshow(cm, interpolation=\"nearest\", cmap=plt.cm.Greens)\n",
    "    ax.set(\n",
    "        xlim=[-0.5, 1.5],\n",
    "        ylim=[-0.5, 1.5],\n",
    "        xticks=[0, 1],\n",
    "        yticks=[0, 1],\n",
    "        xticklabels=classes,\n",
    "        yticklabels=classes,\n",
    "        xlabel=\"predicted label\",\n",
    "        ylabel=\"true label\"\n",
    "    )\n",
    "\n",
    "    for i = 1:2\n",
    "        for j = 1:2\n",
    "            ax.text(j-1, i-1, @sprintf(\"%d\", cm[i, j]), ha=\"center\", va=\"center\")\n",
    "        end\n",
    "    end\n",
    "    tight_layout()\n",
    "end"
   ]
  },
  {
   "cell_type": "markdown",
   "metadata": {},
   "source": [
    "to find the best $k$, we can scan over all $k$, train the model in the training set, then test the model on the test set (unseen data) to see how it performs. we take the \"best\" $k$ as the one that yields the lowest test set error, as we expect it to have the lowest generalization error on unseen data."
   ]
  },
  {
   "cell_type": "code",
   "execution_count": null,
   "metadata": {
    "scrolled": false
   },
   "outputs": [],
   "source": []
  },
  {
   "cell_type": "markdown",
   "metadata": {},
   "source": [
    "the optimal $k$ is around 8. So we should train our $k$-NN algo with $k=8$, then deploy this model, since it should result in the best accuracy on unseen data."
   ]
  },
  {
   "cell_type": "code",
   "execution_count": null,
   "metadata": {},
   "outputs": [],
   "source": []
  }
 ],
 "metadata": {
  "kernelspec": {
   "display_name": "Julia 1.2.0",
   "language": "julia",
   "name": "julia-1.2"
  },
  "language_info": {
   "file_extension": ".jl",
   "mimetype": "application/julia",
   "name": "julia",
   "version": "1.2.0"
  }
 },
 "nbformat": 4,
 "nbformat_minor": 2
}
