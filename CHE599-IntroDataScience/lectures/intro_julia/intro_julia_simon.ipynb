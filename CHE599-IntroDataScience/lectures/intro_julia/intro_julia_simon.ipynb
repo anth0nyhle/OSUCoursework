{
 "cells": [
  {
   "cell_type": "markdown",
   "metadata": {},
   "source": [
    "# the Julia programming language\n",
    "<img src=\"https://i1.wp.com/www.numfocus.org/wp-content/uploads/2016/07/julia-logo-300.png?w=1080&ssl=1\" alt=\"Julia logo\" width=\"100\"/>\n",
    "So, why Julia?\n",
    "\n",
    "* free, open-source\n",
    "* high-level, thus easy to use\n",
    "* expressive, read-like-a-book syntax\n",
    "* fast (design choices allow just-in-time compiler to make optimizations, resulting in fast code)\n",
    "* safety (offers optional type assertion)\n",
    "* designed especially for scientific computing\n",
    "* easy parallelization across cores\n",
    "* multiple dispatch (we'll see later)\n",
    "\n",
    "[link to official Julia website](https://julialang.org/) and [its documentation](https://docs.julialang.org/en/v1/)\n",
    "\n",
    "[link to recent Nature article on Julia](https://www.nature.com/articles/d41586-019-02310-3)\n",
    "\n",
    "another great resource to learn more Julia: [Julia express](http://bogumilkaminski.pl/files/julia_express.pdf)"
   ]
  },
  {
   "cell_type": "markdown",
   "metadata": {},
   "source": [
    "## hello world, assignment\n",
    "\n",
    "\"an assignment statement sets and/or re-sets the value stored in the storage location(s) denoted by a variable name; in other words, it copies a value into the variable\" - [Wikipedia](https://en.wikipedia.org/wiki/Assignment_(computer_science))"
   ]
  },
  {
   "cell_type": "code",
   "execution_count": 1,
   "metadata": {},
   "outputs": [
    {
     "data": {
      "text/plain": [
       "5.3"
      ]
     },
     "execution_count": 1,
     "metadata": {},
     "output_type": "execute_result"
    }
   ],
   "source": [
    "x = 5.3 # not \"x equals 5.3\" but, \"assign x to be 5.3\""
   ]
  },
  {
   "cell_type": "markdown",
   "metadata": {},
   "source": [
    "assignment is not the same as \"equals\"! read [here](https://en.wikipedia.org/wiki/Assignment_(computer_science)#Assignment_versus_equality)."
   ]
  },
  {
   "cell_type": "code",
   "execution_count": 2,
   "metadata": {},
   "outputs": [
    {
     "data": {
      "text/plain": [
       "true"
      ]
     },
     "execution_count": 2,
     "metadata": {},
     "output_type": "execute_result"
    }
   ],
   "source": [
    "x == 5.3"
   ]
  },
  {
   "cell_type": "code",
   "execution_count": 3,
   "metadata": {},
   "outputs": [
    {
     "name": "stdout",
     "output_type": "stream",
     "text": [
      "hello, world!\n"
     ]
    }
   ],
   "source": [
    "println(\"hello, world!\") # \"ln\" is for \"line\" to creat a new line afterwards."
   ]
  },
  {
   "cell_type": "code",
   "execution_count": 4,
   "metadata": {},
   "outputs": [
    {
     "name": "stdout",
     "output_type": "stream",
     "text": [
      "what's x? 5.3\n"
     ]
    }
   ],
   "source": [
    "println(\"what's x? \", x)"
   ]
  },
  {
   "cell_type": "markdown",
   "metadata": {},
   "source": [
    "## types\n",
    "\n",
    "`x` is represented on your computer using a chuck of memory consisting of 64 bits (bit = binary digit). It is represented in the [double-precision floating point format](https://en.wikipedia.org/wiki/Double-precision_floating-point_format).\n",
    "\n",
    "<img src=\"https://upload.wikimedia.org/wikipedia/commons/a/a9/IEEE_754_Double_Floating_Point_Format.svg\" alt=\"bits\" width=\"500\"/>"
   ]
  },
  {
   "cell_type": "code",
   "execution_count": 5,
   "metadata": {},
   "outputs": [
    {
     "data": {
      "text/plain": [
       "Float64"
      ]
     },
     "execution_count": 5,
     "metadata": {},
     "output_type": "execute_result"
    }
   ],
   "source": [
    "typeof(x)"
   ]
  },
  {
   "cell_type": "code",
   "execution_count": 6,
   "metadata": {},
   "outputs": [
    {
     "data": {
      "text/plain": [
       "Int64"
      ]
     },
     "execution_count": 6,
     "metadata": {},
     "output_type": "execute_result"
    }
   ],
   "source": [
    "y = 5\n",
    "typeof(y)"
   ]
  },
  {
   "cell_type": "code",
   "execution_count": 7,
   "metadata": {},
   "outputs": [
    {
     "data": {
      "text/plain": [
       "String"
      ]
     },
     "execution_count": 7,
     "metadata": {},
     "output_type": "execute_result"
    }
   ],
   "source": [
    "my_name = \"Cory\"\n",
    "typeof(my_name)"
   ]
  },
  {
   "cell_type": "markdown",
   "metadata": {},
   "source": [
    "the `Symbol` is an [interned string](https://en.wikipedia.org/wiki/String_interning), which makes e.g. string comparison operations faster. \n",
    "\n",
    "For those interested:\n",
    "A more nuanced view of the `Symbol` is [here](https://stackoverflow.com/questions/23480722/what-is-a-symbol-in-julia#) by the co-creator and core developer of Julia. The function `pointer_from_objref` in Julia allows you to see where in memory an object in Julia is stored. Experiment with a `Symbol` and `String` to illustrate that `Symbol`s are *interned* strings."
   ]
  },
  {
   "cell_type": "code",
   "execution_count": 8,
   "metadata": {},
   "outputs": [
    {
     "data": {
      "text/plain": [
       "Symbol"
      ]
     },
     "execution_count": 8,
     "metadata": {},
     "output_type": "execute_result"
    }
   ],
   "source": [
    "my_name = :Cory\n",
    "typeof(my_name)"
   ]
  },
  {
   "cell_type": "code",
   "execution_count": 9,
   "metadata": {},
   "outputs": [
    {
     "data": {
      "text/plain": [
       "Bool"
      ]
     },
     "execution_count": 9,
     "metadata": {},
     "output_type": "execute_result"
    }
   ],
   "source": [
    "typeof(true)\n",
    "typeof(false)"
   ]
  },
  {
   "cell_type": "markdown",
   "metadata": {},
   "source": [
    "## dictionaries\n",
    "a collection of (key, value) pairs. e.g. key = element, value = atomic mass\n",
    "\n",
    "constructing a dictionary"
   ]
  },
  {
   "cell_type": "code",
   "execution_count": 10,
   "metadata": {},
   "outputs": [
    {
     "data": {
      "text/plain": [
       "Dict{Symbol,Float64} with 4 entries:\n",
       "  :N => 14.0067\n",
       "  :H => 1.01\n",
       "  :O => 15.999\n",
       "  :C => 12.01"
      ]
     },
     "execution_count": 10,
     "metadata": {},
     "output_type": "execute_result"
    }
   ],
   "source": [
    "atomic_mass = Dict{Symbol, Float64}(:C => 12.01, :N => 14.0067, :O => 15.999, :H => 1.01)"
   ]
  },
  {
   "cell_type": "markdown",
   "metadata": {},
   "source": [
    "note the order is not the same as when we constructed the dictionary... so never assume the dictionary is in a certain order. for ordered elements just use an `Array`"
   ]
  },
  {
   "cell_type": "markdown",
   "metadata": {},
   "source": [
    "querying a dictionary via passing the key, returning the value"
   ]
  },
  {
   "cell_type": "code",
   "execution_count": 11,
   "metadata": {},
   "outputs": [
    {
     "data": {
      "text/plain": [
       "12.01"
      ]
     },
     "execution_count": 11,
     "metadata": {},
     "output_type": "execute_result"
    }
   ],
   "source": [
    "atomic_mass[:C]"
   ]
  },
  {
   "cell_type": "markdown",
   "metadata": {},
   "source": [
    "add a (key, value) pair to a dictionary"
   ]
  },
  {
   "cell_type": "code",
   "execution_count": 12,
   "metadata": {},
   "outputs": [
    {
     "data": {
      "text/plain": [
       "Dict{Symbol,Float64} with 4 entries:\n",
       "  :N => 14.0067\n",
       "  :H => 1.008\n",
       "  :O => 15.999\n",
       "  :C => 12.01"
      ]
     },
     "execution_count": 12,
     "metadata": {},
     "output_type": "execute_result"
    }
   ],
   "source": [
    "atomic_mass[:H] = 1.008\n",
    "atomic_mass"
   ]
  },
  {
   "cell_type": "markdown",
   "metadata": {},
   "source": [
    "iterate through a dictionary"
   ]
  },
  {
   "cell_type": "code",
   "execution_count": 13,
   "metadata": {},
   "outputs": [
    {
     "name": "stdout",
     "output_type": "stream",
     "text": [
      "the atomic mass of N is 14.0067\n",
      "the atomic mass of H is 1.008\n",
      "the atomic mass of O is 15.999\n",
      "the atomic mass of C is 12.01\n"
     ]
    }
   ],
   "source": [
    "for (element, mass) in atomic_mass # iterate over, unpack the (key, value) pairs\n",
    "    print(\"the atomic mass of \")\n",
    "    print(element)\n",
    "    println(\" is \", mass)\n",
    "end"
   ]
  },
  {
   "cell_type": "markdown",
   "metadata": {},
   "source": [
    "what are the keys? what are the values?"
   ]
  },
  {
   "cell_type": "code",
   "execution_count": 14,
   "metadata": {},
   "outputs": [
    {
     "data": {
      "text/plain": [
       "Base.KeySet for a Dict{Symbol,Float64} with 4 entries. Keys:\n",
       "  :N\n",
       "  :H\n",
       "  :O\n",
       "  :C"
      ]
     },
     "execution_count": 14,
     "metadata": {},
     "output_type": "execute_result"
    }
   ],
   "source": [
    "keys(atomic_mass)"
   ]
  },
  {
   "cell_type": "code",
   "execution_count": 15,
   "metadata": {},
   "outputs": [
    {
     "data": {
      "text/plain": [
       "Base.ValueIterator for a Dict{Symbol,Float64} with 4 entries. Values:\n",
       "  14.0067\n",
       "  1.008\n",
       "  15.999\n",
       "  12.01"
      ]
     },
     "execution_count": 15,
     "metadata": {},
     "output_type": "execute_result"
    }
   ],
   "source": [
    "values(atomic_mass)"
   ]
  },
  {
   "cell_type": "markdown",
   "metadata": {},
   "source": [
    "## arrays"
   ]
  },
  {
   "cell_type": "code",
   "execution_count": 16,
   "metadata": {},
   "outputs": [
    {
     "data": {
      "text/plain": [
       "4-element Array{Float64,1}:\n",
       "  6.3\n",
       "  1.2\n",
       "  8.2\n",
       " 10.8"
      ]
     },
     "execution_count": 16,
     "metadata": {},
     "output_type": "execute_result"
    }
   ],
   "source": [
    "x = [6.3, 1.2, 8.2, 10.8] # column vector"
   ]
  },
  {
   "cell_type": "markdown",
   "metadata": {},
   "source": [
    "### changing an element"
   ]
  },
  {
   "cell_type": "code",
   "execution_count": 17,
   "metadata": {},
   "outputs": [
    {
     "data": {
      "text/plain": [
       "4-element Array{Float64,1}:\n",
       "  6.3\n",
       "  1.2\n",
       " 43.0\n",
       " 10.8"
      ]
     },
     "execution_count": 17,
     "metadata": {},
     "output_type": "execute_result"
    }
   ],
   "source": [
    "x[3] = 43.0\n",
    "x"
   ]
  },
  {
   "cell_type": "markdown",
   "metadata": {},
   "source": [
    "### iterating through an array"
   ]
  },
  {
   "cell_type": "code",
   "execution_count": 18,
   "metadata": {},
   "outputs": [
    {
     "name": "stdout",
     "output_type": "stream",
     "text": [
      "x[1] = 6.3\n",
      "x[2] = 1.2\n",
      "x[3] = 43.0\n",
      "x[4] = 10.8\n",
      "entries are: \n",
      "  6.3\n",
      "  1.2\n",
      "  43.0\n",
      "  10.8\n",
      "x[1] = 6.3\n",
      "x[2] = 1.2\n",
      "x[3] = 43.0\n",
      "x[4] = 10.8\n"
     ]
    }
   ],
   "source": [
    "# (1) iterating through indices of the array 1,2,...,length(x)\n",
    "for i = 1:length(x)\n",
    "    println(\"x[$i] = \", x[i])\n",
    "end\n",
    "\n",
    "# (2) directly iterating through the elements\n",
    "println(\"entries are: \")\n",
    "for x_i in x\n",
    "    println(\"  \", x_i)\n",
    "end\n",
    "\n",
    "# (3) iterating through both the indices and the elements\n",
    "for (i, x_i) in enumerate(x)\n",
    "    println(\"x[$i] = $x_i\")\n",
    "end"
   ]
  },
  {
   "cell_type": "markdown",
   "metadata": {},
   "source": [
    "### adding elements to an array\n",
    "... to the end"
   ]
  },
  {
   "cell_type": "code",
   "execution_count": 19,
   "metadata": {},
   "outputs": [
    {
     "data": {
      "text/plain": [
       "5-element Array{Float64,1}:\n",
       "  6.3\n",
       "  1.2\n",
       " 43.0\n",
       " 10.8\n",
       " 23.0"
      ]
     },
     "execution_count": 19,
     "metadata": {},
     "output_type": "execute_result"
    }
   ],
   "source": [
    "push!(x, 23.0) # exlamation means function will modify its argument\n",
    "x"
   ]
  },
  {
   "cell_type": "markdown",
   "metadata": {},
   "source": [
    "... to the beginning"
   ]
  },
  {
   "cell_type": "code",
   "execution_count": 20,
   "metadata": {},
   "outputs": [
    {
     "data": {
      "text/plain": [
       "6-element Array{Float64,1}:\n",
       "  0.0\n",
       "  6.3\n",
       "  1.2\n",
       " 43.0\n",
       " 10.8\n",
       " 23.0"
      ]
     },
     "execution_count": 20,
     "metadata": {},
     "output_type": "execute_result"
    }
   ],
   "source": [
    "pushfirst!(x, 0.0)\n",
    "x"
   ]
  },
  {
   "cell_type": "markdown",
   "metadata": {},
   "source": [
    "### slicing \n",
    "\n",
    "#### by indices (by `Array`s of `Int64`s)"
   ]
  },
  {
   "cell_type": "code",
   "execution_count": 21,
   "metadata": {},
   "outputs": [
    {
     "name": "stdout",
     "output_type": "stream",
     "text": [
      "x = [0.0, 6.3, 1.2, 43.0, 10.8, 23.0]\n",
      "x[ids_i_want] = [6.3, 23.0]\n"
     ]
    }
   ],
   "source": [
    "ids_i_want = [2, 6]\n",
    "\n",
    "println(\"x = \", x)\n",
    "println(\"x[ids_i_want] = \", x[ids_i_want])"
   ]
  },
  {
   "cell_type": "code",
   "execution_count": 22,
   "metadata": {},
   "outputs": [
    {
     "data": {
      "text/plain": [
       "2-element Array{Float64,1}:\n",
       " 6.3\n",
       " 1.2"
      ]
     },
     "execution_count": 22,
     "metadata": {},
     "output_type": "execute_result"
    }
   ],
   "source": [
    "x[2:3]"
   ]
  },
  {
   "cell_type": "code",
   "execution_count": 23,
   "metadata": {},
   "outputs": [
    {
     "data": {
      "text/plain": [
       "5-element Array{Float64,1}:\n",
       "  6.3\n",
       "  1.2\n",
       " 43.0\n",
       " 10.8\n",
       " 23.0"
      ]
     },
     "execution_count": 23,
     "metadata": {},
     "output_type": "execute_result"
    }
   ],
   "source": [
    "x[2:end]"
   ]
  },
  {
   "cell_type": "markdown",
   "metadata": {},
   "source": [
    "#### by specifying whether or not (`true`/`false`) we want to keep each element (by `Array`s of `Bool`s)"
   ]
  },
  {
   "cell_type": "code",
   "execution_count": 24,
   "metadata": {},
   "outputs": [
    {
     "name": "stdout",
     "output_type": "stream",
     "text": [
      "x = [0.0, 6.3, 1.2, 43.0, 10.8, 23.0]\n",
      "x[keep_entry] = [0.0, 23.0]\n"
     ]
    }
   ],
   "source": [
    "keep_entry = [true, false, false, false, false, true]\n",
    "\n",
    "println(\"x = \", x)\n",
    "println(\"x[keep_entry] = \", x[keep_entry])"
   ]
  },
  {
   "cell_type": "markdown",
   "metadata": {},
   "source": [
    "this way of slicing is especially useful for selecting certain elements of an array that obey a certain condition\n",
    "\n",
    "e.g., let's get all array elements that are greater than 12."
   ]
  },
  {
   "cell_type": "code",
   "execution_count": 25,
   "metadata": {
    "scrolled": true
   },
   "outputs": [
    {
     "ename": "MethodError",
     "evalue": "MethodError: no method matching isless(::Float64, ::Array{Float64,1})\nClosest candidates are:\n  isless(::Float64, !Matched::Float64) at float.jl:459\n  isless(!Matched::Missing, ::Any) at missing.jl:66\n  isless(::AbstractFloat, !Matched::AbstractFloat) at operators.jl:156\n  ...",
     "output_type": "error",
     "traceback": [
      "MethodError: no method matching isless(::Float64, ::Array{Float64,1})\nClosest candidates are:\n  isless(::Float64, !Matched::Float64) at float.jl:459\n  isless(!Matched::Missing, ::Any) at missing.jl:66\n  isless(::AbstractFloat, !Matched::AbstractFloat) at operators.jl:156\n  ...",
      "",
      "Stacktrace:",
      " [1] <(::Float64, ::Array{Float64,1}) at ./operators.jl:268",
      " [2] >(::Array{Float64,1}, ::Float64) at ./operators.jl:294",
      " [3] top-level scope at In[25]:1"
     ]
    }
   ],
   "source": [
    "x > 12.0 # \"is this vector greater than this number?\" makes no sense."
   ]
  },
  {
   "cell_type": "markdown",
   "metadata": {},
   "source": [
    "precede comparison `>` with a `.` to indicate \"we are doing this comparison elementwise"
   ]
  },
  {
   "cell_type": "code",
   "execution_count": 26,
   "metadata": {},
   "outputs": [
    {
     "data": {
      "text/plain": [
       "6-element BitArray{1}:\n",
       " 0\n",
       " 0\n",
       " 0\n",
       " 1\n",
       " 0\n",
       " 1"
      ]
     },
     "execution_count": 26,
     "metadata": {},
     "output_type": "execute_result"
    }
   ],
   "source": [
    "x .> 12.0 # elementwise [array of bits is similar to array of bools]"
   ]
  },
  {
   "cell_type": "code",
   "execution_count": 27,
   "metadata": {},
   "outputs": [
    {
     "data": {
      "text/plain": [
       "2-element Array{Float64,1}:\n",
       " 43.0\n",
       " 23.0"
      ]
     },
     "execution_count": 27,
     "metadata": {},
     "output_type": "execute_result"
    }
   ],
   "source": [
    "x[x .> 12.0]"
   ]
  },
  {
   "cell_type": "markdown",
   "metadata": {},
   "source": [
    "### multi-dimensional arrays"
   ]
  },
  {
   "cell_type": "code",
   "execution_count": 28,
   "metadata": {},
   "outputs": [
    {
     "data": {
      "text/plain": [
       "2×3 Array{Int64,2}:\n",
       " 1  3  1\n",
       " 0  8  3"
      ]
     },
     "execution_count": 28,
     "metadata": {},
     "output_type": "execute_result"
    }
   ],
   "source": [
    "y = [1 3 1; \n",
    "    0 8 3]"
   ]
  },
  {
   "cell_type": "code",
   "execution_count": 29,
   "metadata": {},
   "outputs": [
    {
     "data": {
      "text/plain": [
       "(2, 3)"
      ]
     },
     "execution_count": 29,
     "metadata": {},
     "output_type": "execute_result"
    }
   ],
   "source": [
    "size(y) # two rows, three columns"
   ]
  },
  {
   "cell_type": "markdown",
   "metadata": {},
   "source": [
    "slicing e.g., 2nd column, all the rows"
   ]
  },
  {
   "cell_type": "code",
   "execution_count": 30,
   "metadata": {},
   "outputs": [
    {
     "data": {
      "text/plain": [
       "2-element Array{Int64,1}:\n",
       " 3\n",
       " 8"
      ]
     },
     "execution_count": 30,
     "metadata": {},
     "output_type": "execute_result"
    }
   ],
   "source": [
    "y[:, 2]"
   ]
  },
  {
   "cell_type": "markdown",
   "metadata": {},
   "source": [
    "changing an element"
   ]
  },
  {
   "cell_type": "code",
   "execution_count": 31,
   "metadata": {},
   "outputs": [
    {
     "data": {
      "text/plain": [
       "2×3 Array{Int64,2}:\n",
       " 1  3  989\n",
       " 0  8    3"
      ]
     },
     "execution_count": 31,
     "metadata": {},
     "output_type": "execute_result"
    }
   ],
   "source": [
    "y[1, 3] = 989\n",
    "y"
   ]
  },
  {
   "cell_type": "markdown",
   "metadata": {},
   "source": [
    "### constructing an array\n",
    "(without manually typing out its elements like `x = [2, 4, 6, 8, 10]`)"
   ]
  },
  {
   "cell_type": "code",
   "execution_count": 32,
   "metadata": {},
   "outputs": [
    {
     "data": {
      "text/plain": [
       "5-element Array{Float64,1}:\n",
       "  2.0\n",
       "  4.0\n",
       "  6.0\n",
       "  8.0\n",
       " 10.0"
      ]
     },
     "execution_count": 32,
     "metadata": {},
     "output_type": "execute_result"
    }
   ],
   "source": [
    "# (1) list comprehnsion (fast, beautiful)\n",
    "x = [2.0 * i for i = 1:5] # think \"what do I want in element i?\"\n",
    "\n",
    "# (2) pre-allocate memory, fill in (fast, takes a few lines)\n",
    "x = zeros(Float64, 5) # construct a 5-element array with zeros\n",
    "for i = 1:5\n",
    "    x[i] = 2 * i\n",
    "end\n",
    "\n",
    "# (3) start with empty array, add values (slow)\n",
    "x = Float64[]\n",
    "for i = 1:5\n",
    "    push!(x, 2 * i)\n",
    "end\n",
    "x"
   ]
  },
  {
   "cell_type": "markdown",
   "metadata": {},
   "source": [
    "special array constructors"
   ]
  },
  {
   "cell_type": "code",
   "execution_count": 33,
   "metadata": {},
   "outputs": [
    {
     "data": {
      "text/plain": [
       "5-element Array{Float64,1}:\n",
       " 0.0 \n",
       " 0.25\n",
       " 0.5 \n",
       " 0.75\n",
       " 1.0 "
      ]
     },
     "execution_count": 33,
     "metadata": {},
     "output_type": "execute_result"
    }
   ],
   "source": [
    "y = zeros(Float64, 3, 6)\n",
    "y = ones(Float64, 3, 6)\n",
    "y = range(0.0, stop=1.0, length=5)\n",
    "collect(y) # collect to actually build the array"
   ]
  },
  {
   "cell_type": "markdown",
   "metadata": {},
   "source": [
    "### operations on arrays\n",
    "precede with `.` to indicate element-wise"
   ]
  },
  {
   "cell_type": "code",
   "execution_count": 34,
   "metadata": {},
   "outputs": [
    {
     "data": {
      "text/plain": [
       "3-element Array{Float64,1}:\n",
       "  0.0\n",
       "  6.0\n",
       " 14.0"
      ]
     },
     "execution_count": 34,
     "metadata": {},
     "output_type": "execute_result"
    }
   ],
   "source": [
    "x = [0.0, 1.0, 2.0]\n",
    "y = [5.0, 6.0, 7.0]\n",
    "\n",
    "x .* y"
   ]
  },
  {
   "cell_type": "code",
   "execution_count": 35,
   "metadata": {},
   "outputs": [
    {
     "data": {
      "text/plain": [
       "3-element Array{Float64,1}:\n",
       " 5.0\n",
       " 7.0\n",
       " 9.0"
      ]
     },
     "execution_count": 35,
     "metadata": {},
     "output_type": "execute_result"
    }
   ],
   "source": [
    "x .+ y"
   ]
  },
  {
   "cell_type": "code",
   "execution_count": 36,
   "metadata": {},
   "outputs": [
    {
     "data": {
      "text/plain": [
       "3-element Array{Float64,1}:\n",
       " 0.0               \n",
       " 0.8414709848078965\n",
       " 0.9092974268256817"
      ]
     },
     "execution_count": 36,
     "metadata": {},
     "output_type": "execute_result"
    }
   ],
   "source": [
    "sin.(x)"
   ]
  },
  {
   "cell_type": "markdown",
   "metadata": {},
   "source": [
    "matrix multiplication (no `.` since no longer element-wise)"
   ]
  },
  {
   "cell_type": "code",
   "execution_count": 37,
   "metadata": {},
   "outputs": [
    {
     "data": {
      "text/plain": [
       "3×3 Array{Float64,2}:\n",
       " 0.317226  0.851315  0.674201\n",
       " 0.504333  0.104395  0.988822\n",
       " 0.410515  0.225576  0.73504 "
      ]
     },
     "execution_count": 37,
     "metadata": {},
     "output_type": "execute_result"
    }
   ],
   "source": [
    "A = rand(3, 3)\n",
    "A"
   ]
  },
  {
   "cell_type": "code",
   "execution_count": 38,
   "metadata": {},
   "outputs": [
    {
     "data": {
      "text/plain": [
       "3-element Array{Float64,1}:\n",
       " 2.1997170402247566\n",
       " 2.0820385799357735\n",
       " 1.6956551166982665"
      ]
     },
     "execution_count": 38,
     "metadata": {},
     "output_type": "execute_result"
    }
   ],
   "source": [
    "A * x"
   ]
  },
  {
   "cell_type": "markdown",
   "metadata": {},
   "source": [
    "## create your own data structure!"
   ]
  },
  {
   "cell_type": "code",
   "execution_count": 39,
   "metadata": {},
   "outputs": [
    {
     "data": {
      "text/plain": [
       "Molecule(:methane, Symbol[:C, :H, :H, :H, :H])"
      ]
     },
     "execution_count": 39,
     "metadata": {},
     "output_type": "execute_result"
    }
   ],
   "source": [
    "struct Molecule\n",
    "    species::Symbol\n",
    "    atoms::Array{Symbol}\n",
    "end\n",
    "\n",
    "molecule = Molecule(:methane, [:C, :H, :H, :H, :H])"
   ]
  },
  {
   "cell_type": "code",
   "execution_count": 40,
   "metadata": {},
   "outputs": [
    {
     "data": {
      "text/plain": [
       ":methane"
      ]
     },
     "execution_count": 40,
     "metadata": {},
     "output_type": "execute_result"
    }
   ],
   "source": [
    "molecule.species # access attributes"
   ]
  },
  {
   "cell_type": "markdown",
   "metadata": {},
   "source": [
    "## functions\n",
    "\n",
    "construction of a function $x \\mapsto f(x)$"
   ]
  },
  {
   "cell_type": "code",
   "execution_count": 41,
   "metadata": {},
   "outputs": [
    {
     "data": {
      "text/plain": [
       "7.0"
      ]
     },
     "execution_count": 41,
     "metadata": {},
     "output_type": "execute_result"
    }
   ],
   "source": [
    "# (1) inline (if a short function)\n",
    "f(x) = 2 * x + 3\n",
    "\n",
    "# (2) expanded (if more code involved)\n",
    "function f(x)\n",
    "    # maybe tons of code here until we get to what we want to return\n",
    "    return 2 * x + 3\n",
    "end\n",
    "\n",
    "# (3) anonomous functions https://docs.julialang.org/en/v1/manual/functions/#man-anonymous-functions-1\n",
    "θ = x -> 2 * x + 3\n",
    "\n",
    "f(2.0)"
   ]
  },
  {
   "cell_type": "code",
   "execution_count": 42,
   "metadata": {},
   "outputs": [
    {
     "data": {
      "text/plain": [
       "7.0"
      ]
     },
     "execution_count": 42,
     "metadata": {},
     "output_type": "execute_result"
    }
   ],
   "source": [
    "θ(2.0)"
   ]
  },
  {
   "cell_type": "code",
   "execution_count": 70,
   "metadata": {},
   "outputs": [
    {
     "data": {
      "text/plain": [
       "3-element Array{Float64,1}:\n",
       " 3.0\n",
       " 5.0\n",
       " 7.0"
      ]
     },
     "execution_count": 70,
     "metadata": {},
     "output_type": "execute_result"
    }
   ],
   "source": [
    "map(θ, [0.0, 1.0, 2.0]) # anonomous functions used for mapping, passing to other functions"
   ]
  },
  {
   "cell_type": "markdown",
   "metadata": {},
   "source": [
    "multiple arguments"
   ]
  },
  {
   "cell_type": "code",
   "execution_count": 43,
   "metadata": {},
   "outputs": [
    {
     "data": {
      "text/plain": [
       "5.0"
      ]
     },
     "execution_count": 43,
     "metadata": {},
     "output_type": "execute_result"
    }
   ],
   "source": [
    "f(x, y) = x + y\n",
    "f(2.0, 3.0)"
   ]
  },
  {
   "cell_type": "markdown",
   "metadata": {},
   "source": [
    "#### optional positional arguments\n",
    "\n",
    "> In many cases, function arguments have sensible default values and therefore might not need to be passed explicitly in every call. [source](https://docs.julialang.org/en/v1/manual/functions/#Optional-Arguments-1)\n",
    "\n",
    "say `b` is almost always 0.0. let's not force the user to pass this arugment, yet let's also allow some flexibility if the user wants to change `b` from the default 0.0"
   ]
  },
  {
   "cell_type": "code",
   "execution_count": 44,
   "metadata": {},
   "outputs": [
    {
     "data": {
      "text/plain": [
       "2.0"
      ]
     },
     "execution_count": 44,
     "metadata": {},
     "output_type": "execute_result"
    }
   ],
   "source": [
    "# constructor\n",
    "f(x, m, b=0.0) = m * x + b\n",
    "\n",
    "f(2.0, 1.0) # b assumed zero"
   ]
  },
  {
   "cell_type": "code",
   "execution_count": 45,
   "metadata": {},
   "outputs": [
    {
     "data": {
      "text/plain": [
       "25.0"
      ]
     },
     "execution_count": 45,
     "metadata": {},
     "output_type": "execute_result"
    }
   ],
   "source": [
    "f(2.0, 1.0, 23.0) # the third argument is assumed `b` if passed"
   ]
  },
  {
   "cell_type": "markdown",
   "metadata": {},
   "source": [
    "#### optional keyword arguments\n",
    "\n",
    "> Some functions need a large number of arguments, or have a large number of behaviors. Remembering how to call such functions can be difficult. Keyword arguments can make these complex interfaces easier to use and extend by allowing arguments to be identified by name instead of only by position. [source](https://docs.julialang.org/en/v1/manual/functions/#Keyword-Arguments-1)"
   ]
  },
  {
   "cell_type": "code",
   "execution_count": 46,
   "metadata": {},
   "outputs": [
    {
     "data": {
      "text/plain": [
       "2.0"
      ]
     },
     "execution_count": 46,
     "metadata": {},
     "output_type": "execute_result"
    }
   ],
   "source": [
    "# constructor\n",
    "f(x, m; b=0.0) = m * x + b\n",
    "\n",
    "f(2.0, 1.0) # b implicitly assumed to be 0.0"
   ]
  },
  {
   "cell_type": "code",
   "execution_count": 47,
   "metadata": {
    "scrolled": true
   },
   "outputs": [
    {
     "data": {
      "text/plain": [
       "25.0"
      ]
     },
     "execution_count": 47,
     "metadata": {},
     "output_type": "execute_result"
    }
   ],
   "source": [
    "f(2.0, 1.0, b=23.0) # have to say explicitly you're passing `b`"
   ]
  },
  {
   "cell_type": "markdown",
   "metadata": {},
   "source": [
    "#### type declaration\n",
    "> The :: operator can be used to attach type annotations to expressions and variables in programs. There are two primary reasons to do this:\n",
    "\n",
    "> * As an assertion to help confirm that your program works the way you expect,\n",
    "> * To provide extra type information to the compiler, which can then improve performance in some cases\n",
    "When appended to an expression computing a value, the :: operator is read as \"is an instance of\". It can be used anywhere to assert that the value of the expression on the left is an instance of the type on the right.\n",
    "> [source](https://docs.julialang.org/en/v1/manual/types/index.html#Type-Declarations-1)"
   ]
  },
  {
   "cell_type": "code",
   "execution_count": 48,
   "metadata": {},
   "outputs": [
    {
     "data": {
      "text/plain": [
       "4.0"
      ]
     },
     "execution_count": 48,
     "metadata": {},
     "output_type": "execute_result"
    }
   ],
   "source": [
    "g(x::Float64) = 2.0 * x\n",
    "g(2.0)"
   ]
  },
  {
   "cell_type": "code",
   "execution_count": 49,
   "metadata": {
    "scrolled": true
   },
   "outputs": [
    {
     "ename": "MethodError",
     "evalue": "MethodError: no method matching g(::Int64)\nClosest candidates are:\n  g(!Matched::Float64) at In[48]:1",
     "output_type": "error",
     "traceback": [
      "MethodError: no method matching g(::Int64)\nClosest candidates are:\n  g(!Matched::Float64) at In[48]:1",
      "",
      "Stacktrace:",
      " [1] top-level scope at In[49]:1"
     ]
    }
   ],
   "source": [
    "g(2) # we never defined g(x::Int), so it should rightfull fail"
   ]
  },
  {
   "cell_type": "markdown",
   "metadata": {},
   "source": [
    "a function of our custom data structure `Molecule`!"
   ]
  },
  {
   "cell_type": "code",
   "execution_count": 50,
   "metadata": {},
   "outputs": [
    {
     "data": {
      "text/plain": [
       "16.041999999999998"
      ]
     },
     "execution_count": 50,
     "metadata": {},
     "output_type": "execute_result"
    }
   ],
   "source": [
    "\"\"\"\n",
    "calculate and return the molecular weight of the molecule passed on the basis of its `atoms` attribute.\n",
    "\"\"\"\n",
    "function molecular_wt(molecule::Molecule)\n",
    "    mw = 0.0\n",
    "    for atom in molecule.atoms\n",
    "        mw += atomic_mass[atom]\n",
    "    end\n",
    "    return mw\n",
    "end\n",
    "\n",
    "molecular_wt(molecule)"
   ]
  },
  {
   "cell_type": "markdown",
   "metadata": {},
   "source": [
    "safety: pass the wrong type, then you get an error"
   ]
  },
  {
   "cell_type": "code",
   "execution_count": 51,
   "metadata": {},
   "outputs": [
    {
     "ename": "MethodError",
     "evalue": "MethodError: no method matching molecular_wt(::String)\nClosest candidates are:\n  molecular_wt(!Matched::Molecule) at In[50]:5",
     "output_type": "error",
     "traceback": [
      "MethodError: no method matching molecular_wt(::String)\nClosest candidates are:\n  molecular_wt(!Matched::Molecule) at In[50]:5",
      "",
      "Stacktrace:",
      " [1] top-level scope at In[51]:1"
     ]
    }
   ],
   "source": [
    "molecular_wt(\"not a molecule\")"
   ]
  },
  {
   "cell_type": "markdown",
   "metadata": {},
   "source": [
    "remember, put a `!` at the end of the function name to denote that it will modify its argument"
   ]
  },
  {
   "cell_type": "code",
   "execution_count": 52,
   "metadata": {},
   "outputs": [
    {
     "data": {
      "text/plain": [
       "3-element Array{Int64,1}:\n",
       " 0\n",
       " 0\n",
       " 6"
      ]
     },
     "execution_count": 52,
     "metadata": {},
     "output_type": "execute_result"
    }
   ],
   "source": [
    "y = [0, 5, 6]\n",
    "function make_second_element_zero!(y::Array{Int64})\n",
    "    y[2] = 0\n",
    "end\n",
    "make_second_element_zero!(y)\n",
    "y"
   ]
  },
  {
   "cell_type": "markdown",
   "metadata": {},
   "source": [
    "## control flow\n",
    "> a control flow statement is a statement, the execution of which results in a choice being made as to which of two or more paths a computer program wil follow - [Wikipedia](https://en.wikipedia.org/wiki/Control_flow)\n",
    "\n",
    "let's redo our `molecular_wt` function to throw an informative error when we pass a molecule to it whose atoms are not present in our `atomic_mass` dictionary."
   ]
  },
  {
   "cell_type": "code",
   "execution_count": 53,
   "metadata": {
    "scrolled": true
   },
   "outputs": [
    {
     "ename": "ErrorException",
     "evalue": "sorry, Na is not in our atomic_mass dictionary.",
     "output_type": "error",
     "traceback": [
      "sorry, Na is not in our atomic_mass dictionary.",
      "",
      "Stacktrace:",
      " [1] error(::String) at ./error.jl:33",
      " [2] molecular_wt(::Molecule) at ./In[53]:6",
      " [3] top-level scope at In[53]:14"
     ]
    }
   ],
   "source": [
    "function molecular_wt(molecule::Molecule)\n",
    "    mw = 0.0\n",
    "    for atom in molecule.atoms\n",
    "        # if this atom is not in our atomic_mass dictionary, throw an error\n",
    "        if ! (atom in keys(atomic_mass))\n",
    "            error(\"sorry, $atom is not in our atomic_mass dictionary.\")\n",
    "        end\n",
    "        mw += atomic_mass[atom]\n",
    "    end\n",
    "    return mw\n",
    "end\n",
    "    \n",
    "molecule = Molecule(:salt, [:Na, :Cl])\n",
    "\n",
    "molecular_wt(molecule)"
   ]
  },
  {
   "cell_type": "markdown",
   "metadata": {},
   "source": [
    "`break`, `continue`"
   ]
  },
  {
   "cell_type": "code",
   "execution_count": 54,
   "metadata": {},
   "outputs": [
    {
     "name": "stdout",
     "output_type": "stream",
     "text": [
      "x[1] = 1\n",
      "x[2] = 2\n",
      "x[3] = 3\n"
     ]
    }
   ],
   "source": [
    "x = [i for i = 1:5]\n",
    "\n",
    "for (i, x_i) in enumerate(x)\n",
    "    if x[i] == 4\n",
    "        break # stop looping, don't proceed with next element in the iterator\n",
    "    end\n",
    "    \n",
    "    println(\"x[$i] = $x_i\")\n",
    "end"
   ]
  },
  {
   "cell_type": "code",
   "execution_count": 55,
   "metadata": {},
   "outputs": [
    {
     "name": "stdout",
     "output_type": "stream",
     "text": [
      "x[1] = 1\n",
      "x[2] = 2\n",
      "x[3] = 3\n",
      "x[5] = 5\n"
     ]
    }
   ],
   "source": [
    "for (i, x_i) in enumerate(x)\n",
    "    if x[i] == 4\n",
    "        continue # don't execute below this statement, continue onto the next element in the iterator\n",
    "    end\n",
    "    \n",
    "    println(\"x[$i] = $x_i\")\n",
    "end"
   ]
  },
  {
   "cell_type": "markdown",
   "metadata": {},
   "source": [
    "`&&` = and `||` = or"
   ]
  },
  {
   "cell_type": "code",
   "execution_count": 56,
   "metadata": {},
   "outputs": [
    {
     "data": {
      "text/plain": [
       "false"
      ]
     },
     "execution_count": 56,
     "metadata": {},
     "output_type": "execute_result"
    }
   ],
   "source": [
    "temperature = 55.0\n",
    "\n",
    "temperature > 32.0 && temperature < 50.0"
   ]
  },
  {
   "cell_type": "code",
   "execution_count": 57,
   "metadata": {},
   "outputs": [
    {
     "data": {
      "text/plain": [
       "true"
      ]
     },
     "execution_count": 57,
     "metadata": {},
     "output_type": "execute_result"
    }
   ],
   "source": [
    "temperature > 32.0 || temperature < 50.0"
   ]
  },
  {
   "cell_type": "markdown",
   "metadata": {},
   "source": [
    "cool way to assign variables"
   ]
  },
  {
   "cell_type": "code",
   "execution_count": 58,
   "metadata": {},
   "outputs": [
    {
     "data": {
      "text/plain": [
       "\"hot tea\""
      ]
     },
     "execution_count": 58,
     "metadata": {},
     "output_type": "execute_result"
    }
   ],
   "source": [
    "my_drink = (temperature > 65.0) ? \"ice water\" : \"hot tea\""
   ]
  },
  {
   "cell_type": "markdown",
   "metadata": {},
   "source": [
    "## randomness, sampling\n",
    "a uniform random number in $[0, 1]$"
   ]
  },
  {
   "cell_type": "code",
   "execution_count": 59,
   "metadata": {},
   "outputs": [],
   "source": [
    "using Random\n",
    "using StatsBase"
   ]
  },
  {
   "cell_type": "code",
   "execution_count": 60,
   "metadata": {},
   "outputs": [
    {
     "data": {
      "text/plain": [
       "0.8754678568735839"
      ]
     },
     "execution_count": 60,
     "metadata": {},
     "output_type": "execute_result"
    }
   ],
   "source": [
    "rand()"
   ]
  },
  {
   "cell_type": "markdown",
   "metadata": {},
   "source": [
    "flipping a coin. did it land on tails?"
   ]
  },
  {
   "cell_type": "code",
   "execution_count": 61,
   "metadata": {},
   "outputs": [
    {
     "data": {
      "text/plain": [
       "false"
      ]
     },
     "execution_count": 61,
     "metadata": {},
     "output_type": "execute_result"
    }
   ],
   "source": [
    "landed_on_tails = rand() < 0.5"
   ]
  },
  {
   "cell_type": "markdown",
   "metadata": {},
   "source": [
    "a Gaussian number"
   ]
  },
  {
   "cell_type": "code",
   "execution_count": 62,
   "metadata": {},
   "outputs": [
    {
     "data": {
      "text/plain": [
       "0.14923465370851044"
      ]
     },
     "execution_count": 62,
     "metadata": {},
     "output_type": "execute_result"
    }
   ],
   "source": [
    "randn()"
   ]
  },
  {
   "cell_type": "markdown",
   "metadata": {},
   "source": [
    "randomly shuffle an array"
   ]
  },
  {
   "cell_type": "code",
   "execution_count": 63,
   "metadata": {},
   "outputs": [
    {
     "data": {
      "text/plain": [
       "6-element Array{Int64,1}:\n",
       " 5\n",
       " 6\n",
       " 1\n",
       " 4\n",
       " 3\n",
       " 2"
      ]
     },
     "execution_count": 63,
     "metadata": {},
     "output_type": "execute_result"
    }
   ],
   "source": [
    "x = [1, 2, 3, 4, 5, 6]\n",
    "shuffle!(x)\n",
    "x"
   ]
  },
  {
   "cell_type": "markdown",
   "metadata": {},
   "source": [
    "randomly select 4 elements of the array, with/without replacement"
   ]
  },
  {
   "cell_type": "code",
   "execution_count": 64,
   "metadata": {},
   "outputs": [
    {
     "data": {
      "text/plain": [
       "4-element Array{Int64,1}:\n",
       " 5\n",
       " 1\n",
       " 3\n",
       " 2"
      ]
     },
     "execution_count": 64,
     "metadata": {},
     "output_type": "execute_result"
    }
   ],
   "source": [
    "sample(x, 4, replace=true)"
   ]
  },
  {
   "cell_type": "code",
   "execution_count": 65,
   "metadata": {},
   "outputs": [
    {
     "data": {
      "text/plain": [
       "4-element Array{Int64,1}:\n",
       " 4\n",
       " 5\n",
       " 6\n",
       " 1"
      ]
     },
     "execution_count": 65,
     "metadata": {},
     "output_type": "execute_result"
    }
   ],
   "source": [
    "sample(x, 4, replace=false)"
   ]
  },
  {
   "cell_type": "markdown",
   "metadata": {},
   "source": [
    "simulate the weather when today's weather forcast is: 10% rain, 60% clouds, 30% sun"
   ]
  },
  {
   "cell_type": "code",
   "execution_count": 66,
   "metadata": {
    "scrolled": true
   },
   "outputs": [
    {
     "data": {
      "text/plain": [
       "\"cloudy\""
      ]
     },
     "execution_count": 66,
     "metadata": {},
     "output_type": "execute_result"
    }
   ],
   "source": [
    "sample([\"rainy\", \"cloudy\", \"sunny\"], ProbabilityWeights([0.1, 0.6, 0.3]))"
   ]
  },
  {
   "cell_type": "markdown",
   "metadata": {},
   "source": [
    "### mutable vs immutable"
   ]
  },
  {
   "cell_type": "code",
   "execution_count": 67,
   "metadata": {},
   "outputs": [
    {
     "ename": "ErrorException",
     "evalue": "setfield! immutable struct of type Researcher cannot be changed",
     "output_type": "error",
     "traceback": [
      "setfield! immutable struct of type Researcher cannot be changed",
      "",
      "Stacktrace:",
      " [1] setproperty! at ./Base.jl:21 [inlined]",
      " [2] publish_a_paper!(::Researcher) at ./In[67]:6",
      " [3] top-level scope at In[67]:9"
     ]
    }
   ],
   "source": [
    "struct Researcher\n",
    "    institution::String\n",
    "    nb_pubs::Int\n",
    "end\n",
    "\n",
    "publish_a_paper!(researcher::Researcher) = researcher.nb_pubs += 1 # won't work\n",
    "\n",
    "cory = Researcher(\"OSU\", 27)\n",
    "\n",
    "publish_a_paper!(cory) # won't work"
   ]
  },
  {
   "cell_type": "markdown",
   "metadata": {},
   "source": [
    "bummer! we can't change the attributes of a `Researcher` after we construct it... it's \"immutable\"! solution below."
   ]
  },
  {
   "cell_type": "code",
   "execution_count": 68,
   "metadata": {},
   "outputs": [
    {
     "data": {
      "text/plain": [
       "MutableResearcher(\"OSU\", 28)"
      ]
     },
     "execution_count": 68,
     "metadata": {},
     "output_type": "execute_result"
    }
   ],
   "source": [
    "mutable struct MutableResearcher\n",
    "    institution::String\n",
    "    nb_pubs::Int\n",
    "end\n",
    "\n",
    "publish_a_paper!(researcher::MutableResearcher) = researcher.nb_pubs += 1\n",
    "\n",
    "cory = MutableResearcher(\"OSU\", 27)\n",
    "\n",
    "publish_a_paper!(cory)\n",
    "cory"
   ]
  }
 ],
 "metadata": {
  "@webio": {
   "lastCommId": "784609cad0874bcf8185930cec1f77be",
   "lastKernelId": "666a9818-03e9-4643-b264-f619946a21e0"
  },
  "kernelspec": {
   "display_name": "Julia 1.2.0",
   "language": "julia",
   "name": "julia-1.2"
  },
  "language_info": {
   "file_extension": ".jl",
   "mimetype": "application/julia",
   "name": "julia",
   "version": "1.2.0"
  }
 },
 "nbformat": 4,
 "nbformat_minor": 2
}
