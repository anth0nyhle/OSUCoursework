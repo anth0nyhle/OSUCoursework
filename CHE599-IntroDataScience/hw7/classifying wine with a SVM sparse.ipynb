{
 "cells": [
  {
   "cell_type": "code",
   "execution_count": 4,
   "metadata": {},
   "outputs": [
    {
     "name": "stderr",
     "output_type": "stream",
     "text": [
      "WARNING: redefining constant SVC\n"
     ]
    }
   ],
   "source": [
    "using CSV, DataFrames, PyPlot, ScikitLearn, Random\n",
    "\n",
    "# support vector classifier\n",
    "@sk_import svm : SVC\n",
    "# K-folds cross validation\n",
    "using ScikitLearn.CrossValidation: KFold"
   ]
  },
  {
   "cell_type": "markdown",
   "metadata": {},
   "source": [
    "## read in the data\n",
    "The source of the data is [here](https://archive.ics.uci.edu/ml/datasets/Wine).\n",
    "\n",
    "Each row of `wine_data.csv` represents measurements on a different bottle of wine-- one of two varieties. The three columns are:\n",
    "* `class`: the label, i.e. what variety/class of wine it is. the label is not explicitly given, but think: Pinot Noir (-1) vs. Syrah (1).\n",
    "* `alcohol`: the first feature, percent alcohol in the wine\n",
    "* `malic_acid`: the second feature, malic acid concentration in the wine"
   ]
  },
  {
   "cell_type": "code",
   "execution_count": 2,
   "metadata": {},
   "outputs": [
    {
     "data": {
      "text/html": [
       "<table class=\"data-frame\"><thead><tr><th></th><th>class</th><th>alcohol</th><th>malic_acid</th></tr><tr><th></th><th>Int64</th><th>Float64</th><th>Float64</th></tr></thead><tbody><p>5 rows × 3 columns</p><tr><th>1</th><td>-1</td><td>12.37</td><td>0.94</td></tr><tr><th>2</th><td>-1</td><td>12.33</td><td>1.1</td></tr><tr><th>3</th><td>-1</td><td>12.64</td><td>1.36</td></tr><tr><th>4</th><td>-1</td><td>13.67</td><td>1.25</td></tr><tr><th>5</th><td>-1</td><td>12.37</td><td>1.13</td></tr></tbody></table>"
      ],
      "text/latex": [
       "\\begin{tabular}{r|ccc}\n",
       "\t& class & alcohol & malic\\_acid\\\\\n",
       "\t\\hline\n",
       "\t& Int64 & Float64 & Float64\\\\\n",
       "\t\\hline\n",
       "\t1 & -1 & 12.37 & 0.94 \\\\\n",
       "\t2 & -1 & 12.33 & 1.1 \\\\\n",
       "\t3 & -1 & 12.64 & 1.36 \\\\\n",
       "\t4 & -1 & 13.67 & 1.25 \\\\\n",
       "\t5 & -1 & 12.37 & 1.13 \\\\\n",
       "\\end{tabular}\n"
      ],
      "text/plain": [
       "5×3 DataFrame\n",
       "│ Row │ class │ alcohol │ malic_acid │\n",
       "│     │ \u001b[90mInt64\u001b[39m │ \u001b[90mFloat64\u001b[39m │ \u001b[90mFloat64\u001b[39m    │\n",
       "├─────┼───────┼─────────┼────────────┤\n",
       "│ 1   │ -1    │ 12.37   │ 0.94       │\n",
       "│ 2   │ -1    │ 12.33   │ 1.1        │\n",
       "│ 3   │ -1    │ 12.64   │ 1.36       │\n",
       "│ 4   │ -1    │ 13.67   │ 1.25       │\n",
       "│ 5   │ -1    │ 12.37   │ 1.13       │"
      ]
     },
     "execution_count": 2,
     "metadata": {},
     "output_type": "execute_result"
    }
   ],
   "source": [
    "df = CSV.read(\"wine.csv\", copycols=true)\n",
    "first(df, 5)"
   ]
  },
  {
   "cell_type": "markdown",
   "metadata": {},
   "source": [
    "how many wines are in each class?"
   ]
  },
  {
   "cell_type": "markdown",
   "metadata": {},
   "source": [
    "## visualize the data\n",
    "\n",
    "draw a scatter plot of the data scattered in 2D feature space. color each data point by the class label. use hollow circles to help see points that are overlapping."
   ]
  },
  {
   "cell_type": "code",
   "execution_count": null,
   "metadata": {},
   "outputs": [],
   "source": []
  },
  {
   "cell_type": "markdown",
   "metadata": {},
   "source": [
    "## getting data ready for input to scikitlearn\n",
    "\n",
    "to build a predictive model in scikitlearn:\n",
    "* construct a feature matrix `X` that has `n_wines` rows and `2` columns (one column for each feature)\n",
    "* construct a column vector `y` with the labels\n",
    "\n",
    "loop through the rows of the wine `DataFrame` and populate each entry of the feature matrix `X` and target vector `y` with appropriate values"
   ]
  },
  {
   "cell_type": "code",
   "execution_count": null,
   "metadata": {},
   "outputs": [],
   "source": []
  },
  {
   "cell_type": "markdown",
   "metadata": {},
   "source": [
    "## training a support vector machine (SVM)\n",
    "\n",
    "train a support vector machine to classify wines using *all* of the data. evaluate the accuracy on the training data. we'll later show through cross-validation that this is an overestimate of the true accuracy of the SVM classifier on unseen data. use `C=1.0`. use the linear kernel. [here](https://scikit-learn.org/stable/modules/generated/sklearn.svm.SVC.html#sklearn.svm.SVC) is the documentation for the `SVC` function (Support Vector Classifier) in scikitlearn.\n",
    "\n",
    "```julia\n",
    "# use a linear kernel\n",
    "clf = SVC(kernel=\"linear\", C=1.0)\n",
    "```"
   ]
  },
  {
   "cell_type": "code",
   "execution_count": null,
   "metadata": {},
   "outputs": [],
   "source": []
  },
  {
   "cell_type": "markdown",
   "metadata": {},
   "source": [
    "## visualize the decision boundary\n",
    "\n",
    "draw the decision boundary (in feature space) learned by the SVM trained on test data. Also plot the data in feature space (with the decision boundary) with different colors/symbols for the different classes (exactly as in `# visualize the data`). hint: follow the class notes for k-nearest neighbors, using `contourf`, but this is not the only way."
   ]
  },
  {
   "cell_type": "code",
   "execution_count": null,
   "metadata": {},
   "outputs": [],
   "source": []
  },
  {
   "cell_type": "code",
   "execution_count": null,
   "metadata": {},
   "outputs": [],
   "source": []
  },
  {
   "cell_type": "markdown",
   "metadata": {},
   "source": [
    "## $K=5$-fold cross validation\n",
    "use $K=5$-fold cross validation to:\n",
    "* choose the optimal `C` parameter in the SVM classifier\n",
    "* assess the accuracy of the model on unseen data\n",
    "\n",
    "plot the average test set accuracy (average over the $K$ folds) against the `C` parameter used.\n",
    "\n",
    "report the best `C` parameter and the associated average test set error (`argmax` might be useful). This test set error is a quality metric of how well the SVM will perform on new, unseen data that is not in the training set. explore the following set of `C` parameters: `c_params = 10.0 .^ range(-3, stop=0, length=25)`. "
   ]
  },
  {
   "cell_type": "code",
   "execution_count": 3,
   "metadata": {},
   "outputs": [
    {
     "data": {
      "text/plain": [
       "25-element Array{Float64,1}:\n",
       " 0.001                \n",
       " 0.001333521432163324 \n",
       " 0.0017782794100389228\n",
       " 0.0023713737056616554\n",
       " 0.0031622776601683794\n",
       " 0.004216965034285823 \n",
       " 0.005623413251903491 \n",
       " 0.007498942093324558 \n",
       " 0.01                 \n",
       " 0.01333521432163324  \n",
       " 0.01778279410038923  \n",
       " 0.023713737056616554 \n",
       " 0.03162277660168379  \n",
       " 0.042169650342858224 \n",
       " 0.05623413251903491  \n",
       " 0.07498942093324558  \n",
       " 0.1                  \n",
       " 0.1333521432163324   \n",
       " 0.1778279410038923   \n",
       " 0.23713737056616552  \n",
       " 0.31622776601683794  \n",
       " 0.4216965034285822   \n",
       " 0.5623413251903491   \n",
       " 0.7498942093324559   \n",
       " 1.0                  "
      ]
     },
     "execution_count": 3,
     "metadata": {},
     "output_type": "execute_result"
    }
   ],
   "source": [
    "K = 5 # number of folds\n",
    "\n",
    "c_params = 10.0 .^ range(-3, stop=0, length=25)\n"
   ]
  },
  {
   "cell_type": "markdown",
   "metadata": {},
   "source": [
    "my conclusion: "
   ]
  }
 ],
 "metadata": {
  "kernelspec": {
   "display_name": "Julia 1.2.0",
   "language": "julia",
   "name": "julia-1.2"
  },
  "language_info": {
   "file_extension": ".jl",
   "mimetype": "application/julia",
   "name": "julia",
   "version": "1.2.0"
  }
 },
 "nbformat": 4,
 "nbformat_minor": 2
}
